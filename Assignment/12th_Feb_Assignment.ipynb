{
  "nbformat": 4,
  "nbformat_minor": 0,
  "metadata": {
    "colab": {
      "provenance": []
    },
    "kernelspec": {
      "name": "python3",
      "display_name": "Python 3"
    },
    "language_info": {
      "name": "python"
    }
  },
  "cells": [
    {
      "cell_type": "markdown",
      "source": [
        "# Assignment : 12(12th Feb'2023)"
      ],
      "metadata": {
        "id": "DiXq-LWK8Ia6"
      }
    },
    {
      "cell_type": "markdown",
      "source": [
        "1. Errors are the problems in a program due to which the program will stop the execution. On the other hand, exceptions are raised when some internal events occur which changes the normal flow of the program. \n",
        "Two types of Error occurs in python. \n",
        "\n",
        "  - Syntax errors\n",
        "  - Logical errors (Exceptions) \n",
        "* **Syntax errors :** When the proper syntax of the language is not followed then a syntax error is thrown.\n",
        "\n",
        "  ```\n",
        "  print \"Pwskills\"\n",
        "  ```\n",
        "  **Output :**\n",
        "  ```\n",
        "  print \"Pwskills\"\n",
        "            ^\n",
        "  SyntaxError: Missing parentheses in call to 'print'. Did you mean print(\"Pwskills\")?\n",
        "  ```\n"
      ],
      "metadata": {
        "id": "as6sqaJ98dKX"
      }
    },
    {
      "cell_type": "markdown",
      "source": [
        "* **Logical errors(Exception) :**  When in the runtime an error that occurs after passing the syntax test is called exception or logical type. For example, when we divide any number by zero then the ZeroDivisionError exception is raised, or when we import a module that does not exist then ImportError is raised.\n",
        "```\n",
        "var = 10/0\n",
        "print(var)\n",
        "```\n",
        "\n",
        "  **Output :**\n",
        "  ```\n",
        "        1 var = 10/0\n",
        "        2 print(var)\n",
        "\n",
        "  ZeroDivisionError: division by zero\n",
        "  ```"
      ],
      "metadata": {
        "id": "-K291VT7_Cdq"
      }
    },
    {
      "cell_type": "markdown",
      "source": [
        " * Some of the common built-in exceptions are other than above mention exceptions are :\n",
        "  - `IndexError` : When the wrong index of a list is retrieved.\n",
        "  - `AssertionError` :\tIt occurs when the assert statement fails\n",
        "  - `AttributeError` :\tIt occurs when an attribute assignment is failed.\n",
        "  - `ImportError` :\tIt occurs when an imported module is not found.\n",
        "  - `KeyError` :\tIt occurs when the key of the dictionary is not found.\n",
        "  - `NameError` : It occurs when the variable is not defined.\n",
        "  - `MemoryError` :\tIt occurs when a program runs out of memory.\n",
        "  - `TypeError` :\tIt occurs when a function and operation are applied in an incorrect type."
      ],
      "metadata": {
        "id": "3-0GQ6uEAOAr"
      }
    },
    {
      "cell_type": "markdown",
      "source": [
        "2. When an exception is not handled in Python, the program will terminate with an error message and exit immediately. This means that any remaining code in the program will not be executed, and any open resources such as files or network connections may not be properly closed.\n",
        "```\n",
        "x = 10 / 0\n",
        "print(\"Result: \", x)\n",
        "```\n",
        "In this example, we're attempting to divide the number 10 by zero, which is not a valid operation. This will result in a ZeroDivisionError exception.\n",
        "\n",
        "  **Output :**\n",
        "\n",
        "  ```\n",
        "        1 x = 10 / 0\n",
        "        2 print(\"Result: \", x)\n",
        "\n",
        "  ZeroDivisionError: division by zero\n",
        "  ```\n",
        "\n",
        "\n"
      ],
      "metadata": {
        "id": "65Vk8usQBSFm"
      }
    },
    {
      "cell_type": "markdown",
      "source": [
        "3. In Python, you can use try-except statements to handle exceptions. The try block contains the code that you want to execute, and the except block contains the code that you want to run if an exception occurs."
      ],
      "metadata": {
        "id": "wIaNb3HmCk_1"
      }
    },
    {
      "cell_type": "code",
      "source": [
        "# Example of a try-except block to handle an exception\n",
        "try:\n",
        "    numerator = 10\n",
        "    denominator = 0\n",
        "    result = numerator / denominator\n",
        "    print(result)\n",
        "except ZeroDivisionError:\n",
        "    print(\"Error: Cannot divide by zero.\")\n"
      ],
      "metadata": {
        "colab": {
          "base_uri": "https://localhost:8080/"
        },
        "id": "vh6rULAhC4p_",
        "outputId": "55fe119c-eb17-4384-e40d-f4051f9b131f"
      },
      "execution_count": 5,
      "outputs": [
        {
          "output_type": "stream",
          "name": "stdout",
          "text": [
            "Error: Cannot divide by zero.\n"
          ]
        }
      ]
    },
    {
      "cell_type": "markdown",
      "source": [
        "* In this example, we're attempting to divide the number 10 by zero, which is not a valid operation. However, we've wrapped the division operation in a `try` block, which allows us to handle the `ZeroDivisionError` exception if it occurs. If an exception occurs in the `try` block, Python will skip the remaining code in the block and execute the code in the corresponding `except` block."
      ],
      "metadata": {
        "id": "UguvXSgKDA6O"
      }
    },
    {
      "cell_type": "markdown",
      "source": [
        "4. These are the different exception handling constructs in Python :\n",
        "* **`try-else` block :** The `try-else `block is used to specify code that should be executed if no exceptions occur in the `try` block. If an exception occurs, the `else` block will be skipped."
      ],
      "metadata": {
        "id": "oRGZiHWrDL4m"
      }
    },
    {
      "cell_type": "code",
      "source": [
        "# Example of a try-else block\n",
        "try:\n",
        "    num = int(input(\"Enter a number: \"))\n",
        "except ValueError:\n",
        "    print(\"Invalid input. Please enter a valid number.\")\n",
        "else:\n",
        "    print(\"The square of the number is:\", num**2)\n"
      ],
      "metadata": {
        "colab": {
          "base_uri": "https://localhost:8080/"
        },
        "id": "Y1ra341jEEQC",
        "outputId": "06481834-9181-42e8-e72c-87cba2b95518"
      },
      "execution_count": 6,
      "outputs": [
        {
          "output_type": "stream",
          "name": "stdout",
          "text": [
            "Enter a number: g\n",
            "Invalid input. Please enter a valid number.\n"
          ]
        }
      ]
    },
    {
      "cell_type": "markdown",
      "source": [
        "* **`finally` block :** The `finally` block is used to specify code that should be executed regardless of whether an exception occurs in the `try` block. This can be useful for performing cleanup actions, such as closing files or network connections."
      ],
      "metadata": {
        "id": "netQoJb-EQex"
      }
    },
    {
      "cell_type": "code",
      "source": [
        "# Example of a try-finally block\n",
        "\n",
        "try:\n",
        "    file = open(\"data.txt\", \"r\")\n",
        "    data = file.read()\n",
        "    print(\"Data:\", data)\n",
        "finally:\n",
        "    file.close()\n"
      ],
      "metadata": {
        "id": "sGEWE1ySEaaZ"
      },
      "execution_count": null,
      "outputs": []
    },
    {
      "cell_type": "markdown",
      "source": [
        "* **`raise` statement :** The `raise` statement is used to explicitly raise an exception in your code. This can be useful for indicating that an error has occurred, or for creating your own custom exceptions. "
      ],
      "metadata": {
        "id": "KgXCYK5XEzTV"
      }
    },
    {
      "cell_type": "code",
      "source": [
        "# Example of raising a custom exception\n",
        "def calculate_average(numbers):\n",
        "    if not numbers:\n",
        "        raise ValueError(\"No numbers were provided.\")\n",
        "    return sum(numbers) / len(numbers)\n",
        "\n",
        "try:\n",
        "    avg = calculate_average([])\n",
        "except ValueError as e:\n",
        "    print(\"Error:\", str(e))\n"
      ],
      "metadata": {
        "colab": {
          "base_uri": "https://localhost:8080/"
        },
        "id": "D0bAGOULE78T",
        "outputId": "8f3efa6b-a0ce-41c7-93dc-8a59aea482c1"
      },
      "execution_count": 8,
      "outputs": [
        {
          "output_type": "stream",
          "name": "stdout",
          "text": [
            "Error: No numbers were provided.\n"
          ]
        }
      ]
    },
    {
      "cell_type": "markdown",
      "source": [
        "5. Custom exceptions are user-defined exceptions in Python. They allow you to define your own exception types with specific error messages and behaviors that are tailored to your program's needs.\n",
        "\n",
        "* We need custom exceptions in Python when we want to provide a more specific and informative error message to users or developers, rather than relying on the built-in exceptions. Custom exceptions can also help make our code more maintainable and easier to debug."
      ],
      "metadata": {
        "id": "jjibhI5IFLyl"
      }
    },
    {
      "cell_type": "code",
      "source": [
        "class NotEnoughFundsError(Exception):\n",
        "    def __init__(self, message=\"Insufficient funds.\"):\n",
        "        self.message = message\n",
        "        super().__init__(self.message)\n"
      ],
      "metadata": {
        "id": "cnOGcKg6FV6y"
      },
      "execution_count": 9,
      "outputs": []
    },
    {
      "cell_type": "markdown",
      "source": [
        "  - Here, we're defining a custom exception called NotEnoughFundsError. The Exception class is the base class for all built-in exceptions in Python, and we're using it as a superclass for our custom exception."
      ],
      "metadata": {
        "id": "6wsGoHN1FkCs"
      }
    },
    {
      "cell_type": "code",
      "source": [
        "def withdraw(amount, balance):\n",
        "    if amount > balance:\n",
        "        raise NotEnoughFundsError()\n",
        "    else:\n",
        "        balance -= amount\n",
        "        print(f\"Withdrew {amount}. New balance is {balance}.\")\n",
        "\n",
        "try:\n",
        "    withdraw(500, 250)\n",
        "except NotEnoughFundsError as e:\n",
        "    print(e.message)\n"
      ],
      "metadata": {
        "colab": {
          "base_uri": "https://localhost:8080/"
        },
        "id": "MTfTtQaBFYTx",
        "outputId": "712499d0-0450-4a34-f75e-3f2b413eb333"
      },
      "execution_count": 10,
      "outputs": [
        {
          "output_type": "stream",
          "name": "stdout",
          "text": [
            "Insufficient funds.\n"
          ]
        }
      ]
    },
    {
      "cell_type": "markdown",
      "source": [
        "6. Here's an example of how to create a custom exception class and handle an exception using it."
      ],
      "metadata": {
        "id": "UDM5qOdaFvCu"
      }
    },
    {
      "cell_type": "code",
      "source": [
        "class InvalidInputError(Exception):\n",
        "    def __init__(self, message=\"Invalid input.\"):\n",
        "        self.message = message\n",
        "        super().__init__(self.message)\n",
        "\n",
        "def divide_numbers(a, b):\n",
        "    if b == 0:\n",
        "        raise InvalidInputError(\"Cannot divide by zero.\")\n",
        "    else:\n",
        "        return a / b\n",
        "\n",
        "try:\n",
        "    result = divide_numbers(10, 0)\n",
        "    print(result)\n",
        "except InvalidInputError as e:\n",
        "    print(f\"Error: {e.message}\")\n"
      ],
      "metadata": {
        "colab": {
          "base_uri": "https://localhost:8080/"
        },
        "id": "tBs008DHF4dS",
        "outputId": "516f6dff-b949-4f51-9214-3d5394d464f3"
      },
      "execution_count": 11,
      "outputs": [
        {
          "output_type": "stream",
          "name": "stdout",
          "text": [
            "Error: Cannot divide by zero.\n"
          ]
        }
      ]
    }
  ]
}