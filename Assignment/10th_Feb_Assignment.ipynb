{
  "nbformat": 4,
  "nbformat_minor": 0,
  "metadata": {
    "colab": {
      "provenance": [],
      "toc_visible": true
    },
    "kernelspec": {
      "name": "python3",
      "display_name": "Python 3"
    },
    "language_info": {
      "name": "python"
    }
  },
  "cells": [
    {
      "cell_type": "markdown",
      "source": [
        "# Assignment : 11(10th Feb'2023)"
      ],
      "metadata": {
        "id": "sD_PT8NKIaBi"
      }
    },
    {
      "cell_type": "markdown",
      "source": [
        "  1. In Python, the `open()` function is used to open a file. The function takes two arguments: the name of the file and the mode in which the file is opened. \n",
        "  * The different modes of opening a file are :\n",
        "    - `'r'` - Read mode, which is used to read the contents of an existing file. This is the default mode if no mode is specified.\n",
        "\n",
        "    - `'w'` - Write mode, which is used to write to a file. If the file already exists, its contents will be overwritten. If the file does not exist, a new file will be created.\n",
        "\n",
        "    - `'a'` - Append mode, which is used to add new data to the end of a file. If the file already exists, the new data will be appended to the end of the file. If the file does not exist, a new file will be created.\n",
        "\n",
        "    - `'x'` - Exclusive creation mode, which is used to create a new file, but only if the file does not already exist. If the file already exists, an error will be raised.\n",
        "\n",
        "    - `'b'` - Binary mode, which is used to read or write binary data. Binary mode is typically used for working with non-text files like images or audio files. The binary mode can be combined with any of the other modes by adding a 'b' character to the mode string. For example, 'wb' means write in binary mode, and 'rb' means read in binary mode.\n",
        "\n",
        "    - `'t'` - Text mode, which is used to read or write text data. Text mode is the default mode and can be combined with any of the other modes by adding a 't' character to the mode string. For example, 'wt' means write in text mode, and 'rt' means read in text mode.\n",
        "\n",
        "  * **NOTE :** After you have finished working with it to ensure that any changes are saved and to free up system resources for that you have need to close the file. This can be done using the close() method on the file object."
      ],
      "metadata": {
        "id": "fPhoFpB5IuVG"
      }
    },
    {
      "cell_type": "markdown",
      "source": [
        "2. The `close()` function is used to close an open file. This is important because closing a file ensures that all changes you have made to the file are saved, and the file is properly closed to free up system resources.\n",
        "\n",
        "* Closing the file properly with the `close()` function ensures that all changes made to the file are saved and the resources are released back to the system.\n",
        "  ```\n",
        "  # Open the file for writing\n",
        "  f = open('file.txt', 'w')\n",
        "\n",
        "  # Write some data to the file\n",
        "  f.write('Hello, World!')\n",
        "\n",
        "  # Close the file\n",
        "  f.close()\n",
        "\n",
        "  ```\n",
        "\n",
        "\n",
        "  * It is a good to use the `with` statement when opening files in Python, as it automatically closes the file for you even if an error occurs.\n",
        "\n",
        "    ```\n",
        "    with open('file.txt', 'w') as f:\n",
        "      f.write('Hello, World!')\n",
        "\n",
        "    ```"
      ],
      "metadata": {
        "id": "i27cODTfKZ-r"
      }
    },
    {
      "cell_type": "markdown",
      "source": [
        "3. Here is the Python program to creates a text file, writes a string to it, closes the file, and then reopens the file and reads its contents :"
      ],
      "metadata": {
        "id": "hbK6C6SfKq9b"
      }
    },
    {
      "cell_type": "code",
      "source": [
        "# Create a text file\n",
        "f = open(\"file.txt\", \"w\")\n",
        "\n",
        "# Write contents to the file\n",
        "f.write(\"I want to become a Data Scientist\")\n",
        "\n",
        "# Close the file\n",
        "f.close()\n",
        "\n",
        "# Reopen the file to read its contents\n",
        "f = open(\"file.txt\", \"r\")\n",
        "\n",
        "# Read the contents of the file\n",
        "contents = f.read()\n",
        "\n",
        "# Print the contents of the file\n",
        "print(contents)\n"
      ],
      "metadata": {
        "colab": {
          "base_uri": "https://localhost:8080/"
        },
        "id": "-SexKNTvUJ-u",
        "outputId": "2c5aae7b-934e-4ace-bfcf-5111226b1f4b"
      },
      "execution_count": 46,
      "outputs": [
        {
          "output_type": "stream",
          "name": "stdout",
          "text": [
            "I want to become a Data Scientist\n"
          ]
        }
      ]
    },
    {
      "cell_type": "markdown",
      "source": [
        "4. The `read()`, `readline()`, and `readlines()` methods are used to read data from a file in Python."
      ],
      "metadata": {
        "id": "iSEuGZ37UsE-"
      }
    },
    {
      "cell_type": "markdown",
      "source": [
        "* **`'read()'`:** The `read()` method reads the entire contents of a file as a single string. "
      ],
      "metadata": {
        "id": "OheScgcEVVgG"
      }
    },
    {
      "cell_type": "code",
      "source": [
        "with open(\"file.txt\", \"r\") as f:\n",
        "    contents = f.read()\n",
        "    print(contents)\n"
      ],
      "metadata": {
        "colab": {
          "base_uri": "https://localhost:8080/"
        },
        "id": "2kCU4K5fVWXY",
        "outputId": "67867947-7631-486f-e8c6-ca7c6086c29f"
      },
      "execution_count": 47,
      "outputs": [
        {
          "output_type": "stream",
          "name": "stdout",
          "text": [
            "I want to become a Data Scientist\n"
          ]
        }
      ]
    },
    {
      "cell_type": "markdown",
      "source": [
        "* **`'readline()'`:** The `readline()` method reads a single line from a file."
      ],
      "metadata": {
        "id": "bF4WPXLDVq9o"
      }
    },
    {
      "cell_type": "code",
      "source": [
        "with open(\"file.txt\", \"r\") as file:\n",
        "    line = file.readline()\n",
        "    while line:\n",
        "        print(line)\n",
        "        line = file.readline()\n"
      ],
      "metadata": {
        "colab": {
          "base_uri": "https://localhost:8080/"
        },
        "id": "lkndp6WSV2PL",
        "outputId": "b5043d91-5156-4721-d6ca-78fdf5f74c38"
      },
      "execution_count": 48,
      "outputs": [
        {
          "output_type": "stream",
          "name": "stdout",
          "text": [
            "I want to become a Data Scientist\n"
          ]
        }
      ]
    },
    {
      "cell_type": "markdown",
      "source": [
        "* **`'readlines()'`:** The `readlines()` method reads all the lines of a file and returns them as a list of strings."
      ],
      "metadata": {
        "id": "RgtfemPlV6Oh"
      }
    },
    {
      "cell_type": "code",
      "source": [
        "with open(\"file.txt\", \"r\") as file:\n",
        "    lines = file.readlines()\n",
        "    for line in lines:\n",
        "        print(line)\n"
      ],
      "metadata": {
        "colab": {
          "base_uri": "https://localhost:8080/"
        },
        "id": "hFhENDW6V_S0",
        "outputId": "5cc47b9b-09fb-4ca3-b0d1-3ba57b2ece9f"
      },
      "execution_count": 49,
      "outputs": [
        {
          "output_type": "stream",
          "name": "stdout",
          "text": [
            "I want to become a Data Scientist\n"
          ]
        }
      ]
    },
    {
      "cell_type": "markdown",
      "source": [
        "5. The `with` statement is often used with the `open()` function in Python to automatically close a file when it is no longer needed. The `with` statement provides a convenient way to manage resources, such as files, that need to be closed after they are used.\n",
        "* The **advantage** of using the `with` statement with `open()` is that it ensures that the file is closed automatically, even if an exception is raised during the execution of the code within the `with` block. This eliminates the need to explicitly close the file using the `close()` method, which can be easy to forget, especially when dealing with complex code.\n",
        "\n",
        "\n",
        "Here's an example of using the with statement with open() to read the contents of a file :"
      ],
      "metadata": {
        "id": "DB5q-wg-WEiv"
      }
    },
    {
      "cell_type": "code",
      "source": [
        "with open(\"file.txt\", \"r\") as file:\n",
        "    contents = file.read()\n",
        "    print(contents)\n"
      ],
      "metadata": {
        "colab": {
          "base_uri": "https://localhost:8080/"
        },
        "id": "NOaMAsszYfNZ",
        "outputId": "099b96ea-cd01-42ac-9779-698b7048ce4d"
      },
      "execution_count": 50,
      "outputs": [
        {
          "output_type": "stream",
          "name": "stdout",
          "text": [
            "I want to become a Data Scientist\n"
          ]
        }
      ]
    },
    {
      "cell_type": "markdown",
      "source": [
        "6. The `write()` and `writelines()` functions are used to write data to a file in Python.\n",
        "* **`write()`:** The write() function writes a string to a file."
      ],
      "metadata": {
        "id": "aT7j-cgJYhqm"
      }
    },
    {
      "cell_type": "code",
      "source": [
        "with open(\"file.txt\", \"w\") as file:\n",
        "    file.write(\"I want to become a Data Scientist\")\n"
      ],
      "metadata": {
        "id": "pN89p4r3ZbuY"
      },
      "execution_count": 51,
      "outputs": []
    },
    {
      "cell_type": "markdown",
      "source": [
        "* **`writelines()`:** The writelines() function writes a sequence of strings to a file."
      ],
      "metadata": {
        "id": "ukrGu19QZQxT"
      }
    },
    {
      "cell_type": "code",
      "source": [
        "with open(\"file.txt\", \"w\") as file:\n",
        "    lines = [\"I want to become a Data Scientist\", \"Data Science is the future\"]\n",
        "    file.writelines(lines)\n"
      ],
      "metadata": {
        "id": "aZc9WXzgZZXz"
      },
      "execution_count": 52,
      "outputs": []
    }
  ]
}