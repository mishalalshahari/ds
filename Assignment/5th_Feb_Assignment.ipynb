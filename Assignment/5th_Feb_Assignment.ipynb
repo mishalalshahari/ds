{
  "nbformat": 4,
  "nbformat_minor": 0,
  "metadata": {
    "colab": {
      "provenance": []
    },
    "kernelspec": {
      "name": "python3",
      "display_name": "Python 3"
    },
    "language_info": {
      "name": "python"
    }
  },
  "cells": [
    {
      "cell_type": "markdown",
      "source": [
        "# Assignment - 5th February"
      ],
      "metadata": {
        "id": "zI9Rw-HkNZaw"
      }
    },
    {
      "cell_type": "markdown",
      "source": [
        "Q1. Explain Class and Object with respect to Object-Oriented Programming. Give a suitable example.\n",
        "\n",
        "A class is a user defined blueprint from which objects are created."
      ],
      "metadata": {
        "id": "N6QDk77nNf1S"
      }
    },
    {
      "cell_type": "code",
      "source": [
        "#example\n",
        "\n",
        "class pwskills: #class\n",
        "  pass\n",
        "\n",
        "rohan = pwskills() #object"
      ],
      "metadata": {
        "id": "_xOedaQjNd3K"
      },
      "execution_count": 2,
      "outputs": []
    },
    {
      "cell_type": "markdown",
      "source": [
        "Q2. Name the four pillars of OOPs.\n",
        "\n",
        "1 - Abstraction\n",
        "2 - Inheritance\n",
        "3 - Encapsulation\n",
        "4 - Polymorphism"
      ],
      "metadata": {
        "id": "0tsT9Ht9OoGc"
      }
    },
    {
      "cell_type": "markdown",
      "source": [
        "Q3. Explain why the `__init__()` function is used. Give a suitable example.\n",
        "\n",
        "`__init__` is a method of class which works as a contructor to initialize object."
      ],
      "metadata": {
        "id": "fsV_XGVgO6r0"
      }
    },
    {
      "cell_type": "code",
      "source": [
        "#example\n",
        "\n",
        "class pwskills:\n",
        "  def __init__(self):\n",
        "    print(\"welcome\")\n",
        "\n",
        "rohan = pwskills()"
      ],
      "metadata": {
        "colab": {
          "base_uri": "https://localhost:8080/"
        },
        "id": "R93HviWzOmti",
        "outputId": "a74d1e07-46d1-4bdd-a498-ba76c4395771"
      },
      "execution_count": 3,
      "outputs": [
        {
          "output_type": "stream",
          "name": "stdout",
          "text": [
            "welcome\n"
          ]
        }
      ]
    },
    {
      "cell_type": "markdown",
      "source": [
        "Q4. Why self is used in OOPs?\n",
        "\n",
        "self is used as a reference pointer to access variables that belongs to the class. self is not a reserved keyword as we can create our own."
      ],
      "metadata": {
        "id": "tusckptnP0fS"
      }
    },
    {
      "cell_type": "markdown",
      "source": [
        "Q5. What is inheritance? Give an example for each type of inheritance.\n",
        "\n",
        "Inheritance allows a class to inherit the methods and properties from another class.\n"
      ],
      "metadata": {
        "id": "No6cQ-9wQOCP"
      }
    },
    {
      "cell_type": "code",
      "source": [
        "#single inheritance\n",
        "\n",
        "class A:\n",
        "  def fun1(self):\n",
        "    print(\"This is class A\")\n",
        "\n",
        "class B(A):\n",
        "  def fun2(self):\n",
        "    print(\"This is class B\")\n",
        "\n",
        "obj = B()\n",
        "obj.fun1()\n",
        "obj.fun2()"
      ],
      "metadata": {
        "colab": {
          "base_uri": "https://localhost:8080/"
        },
        "id": "qdt-d6HvPw-f",
        "outputId": "913f54fa-9886-47c4-de9b-5c385fdf4314"
      },
      "execution_count": 6,
      "outputs": [
        {
          "output_type": "stream",
          "name": "stdout",
          "text": [
            "This is class A\n",
            "This is class B\n"
          ]
        }
      ]
    },
    {
      "cell_type": "code",
      "source": [
        "#multiple inheritance\n",
        "\n",
        "class A:\n",
        "  def fun1(self):\n",
        "    print(\"This is class A\")\n",
        "\n",
        "class B:\n",
        "  def fun2(self):\n",
        "    print(\"This is class B\")\n",
        "\n",
        "class C(A,B):\n",
        "  def fun3(self):\n",
        "    print(\"This is class C\")\n",
        "\n",
        "obj = C()\n",
        "obj.fun1()\n",
        "obj.fun2()\n",
        "obj.fun3()"
      ],
      "metadata": {
        "colab": {
          "base_uri": "https://localhost:8080/"
        },
        "id": "HSuUulBKRNTD",
        "outputId": "ad481b78-2d96-44c1-94d7-19ad7ae54280"
      },
      "execution_count": 8,
      "outputs": [
        {
          "output_type": "stream",
          "name": "stdout",
          "text": [
            "This is class A\n",
            "This is class B\n",
            "This is class C\n"
          ]
        }
      ]
    },
    {
      "cell_type": "code",
      "source": [
        "#multi level inheritance\n",
        "\n",
        "class A:\n",
        "  def fun1(self):\n",
        "    print(\"This is class A\")\n",
        "\n",
        "class B(A):\n",
        "  def fun2(self):\n",
        "    print(\"This is class B\")\n",
        "\n",
        "class C(B):\n",
        "  def fun3(self):\n",
        "    print(\"This is class C\")\n",
        "\n",
        "obj = C()\n",
        "obj.fun1()\n",
        "obj.fun2()\n",
        "obj.fun3()"
      ],
      "metadata": {
        "colab": {
          "base_uri": "https://localhost:8080/"
        },
        "id": "fiYlT-MYOYC8",
        "outputId": "bba21d2d-944a-4790-bde5-8ed76372fe0a"
      },
      "execution_count": 10,
      "outputs": [
        {
          "output_type": "stream",
          "name": "stdout",
          "text": [
            "This is class A\n",
            "This is class B\n",
            "This is class C\n"
          ]
        }
      ]
    },
    {
      "cell_type": "code",
      "source": [
        "#hierarchical inheritance\n",
        "\n",
        "class A:\n",
        "  def fun1(self):\n",
        "    print(\"This is class A\")\n",
        "\n",
        "class B1(A):\n",
        "  def fun2(self):\n",
        "    print(\"This is class B1\")\n",
        "\n",
        "class B2(A):\n",
        "  def fun3(self):\n",
        "    print(\"This is class B2\")\n",
        "\n",
        "obj1 = B1()\n",
        "obj2 = B2()\n",
        "obj1.fun1()\n",
        "obj1.fun2()\n",
        "obj2.fun1()\n",
        "obj2.fun3()"
      ],
      "metadata": {
        "colab": {
          "base_uri": "https://localhost:8080/"
        },
        "id": "m0ykxkUgSAwo",
        "outputId": "8d144fc0-1441-4f42-d6f6-dc4b4dc5ee54"
      },
      "execution_count": 11,
      "outputs": [
        {
          "output_type": "stream",
          "name": "stdout",
          "text": [
            "This is class A\n",
            "This is class B1\n",
            "This is class A\n",
            "This is class B2\n"
          ]
        }
      ]
    },
    {
      "cell_type": "code",
      "source": [
        "#hybrid inheritance\n",
        "\n",
        "class A:\n",
        "  def fun1(self):\n",
        "    print(\"This is class A\")\n",
        "\n",
        "class B1(A):\n",
        "  def fun2(self):\n",
        "    print(\"This is class B1\")\n",
        "\n",
        "class B2(A):\n",
        "  def fun3(self):\n",
        "    print(\"This is class B2\")\n",
        "\n",
        "class C(B1,B2,A):\n",
        "  def fun4(self):\n",
        "    print(\"This is hybrid class object\")\n",
        "\n",
        "obj1 = B1()\n",
        "obj2 = B2()\n",
        "obj1.fun1()\n",
        "obj1.fun2()\n",
        "obj2.fun1()\n",
        "obj2.fun3()\n",
        "obj3 = C()\n",
        "obj3.fun4()"
      ],
      "metadata": {
        "colab": {
          "base_uri": "https://localhost:8080/"
        },
        "id": "rmU3Y6N_S010",
        "outputId": "a54b41c8-c8da-435f-d280-b7f4364e19d2"
      },
      "execution_count": 13,
      "outputs": [
        {
          "output_type": "stream",
          "name": "stdout",
          "text": [
            "This is class A\n",
            "This is class B1\n",
            "This is class A\n",
            "This is class B2\n",
            "This is hybrid class object\n"
          ]
        }
      ]
    }
  ]
}