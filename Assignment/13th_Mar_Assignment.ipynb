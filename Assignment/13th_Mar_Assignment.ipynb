{
 "cells": [
  {
   "attachments": {},
   "cell_type": "markdown",
   "metadata": {},
   "source": [
    "# Assignment - 13th March"
   ]
  },
  {
   "attachments": {},
   "cell_type": "markdown",
   "metadata": {},
   "source": [
    "1. **Explain the assumptions required to use ANOVA and provide examples of violations that could impact the validity of the results.** "
   ]
  },
  {
   "attachments": {},
   "cell_type": "markdown",
   "metadata": {},
   "source": [
    "Assumptions of ANOVA include:\n",
    "\n",
    "- **Independence :** Each observation is independent of all other observations.\n",
    "- **Normality :** The data in each group follow a normal distribution.\n",
    "- **Homogeneity of variances :** The variance of the data in each group is approximately equal.\n",
    "- **Random sampling :** The data are randomly sampled from their respective populations.\n",
    "\n",
    "Violations of these assumptions can impact the validity of ANOVA results. \n",
    "\n",
    "**For Example :** <br>\n",
    "If the assumption of normality is violated, the F-test may not be valid and could lead to incorrect conclusions. Similarly, violations of the homogeneity of variances assumption can result in inflated or deflated F-statistics and lead to incorrect conclusions."
   ]
  },
  {
   "attachments": {},
   "cell_type": "markdown",
   "metadata": {},
   "source": [
    "2. **What are the three types of ANOVA, and in what situations would each be used?**"
   ]
  },
  {
   "attachments": {},
   "cell_type": "markdown",
   "metadata": {},
   "source": [
    "The three types of ANOVA are:\n",
    "\n",
    "- **One-way ANOVA :** Used to compare means across multiple groups on a single independent variable.\n",
    "- **Two-way ANOVA :** Used to compare means across multiple groups on two independent variables.\n",
    "- **Repeated measures ANOVA :** Used to compare means across multiple groups on a single independent variable with repeated measures over time."
   ]
  },
  {
   "attachments": {},
   "cell_type": "markdown",
   "metadata": {},
   "source": [
    "3. **What is the partitioning of variance in ANOVA, and why is it important to understand this concept?**"
   ]
  },
  {
   "attachments": {},
   "cell_type": "markdown",
   "metadata": {},
   "source": [
    "Partitioning of variance in ANOVA refers to the process of decomposing the total variance in a dataset into its component parts: the variance explained by the independent variable(s) and the variance due to error. This is important to understand because it allows us to quantify the extent to which differences between groups are due to the independent variable(s) and the extent to which they are due to random error."
   ]
  },
  {
   "attachments": {},
   "cell_type": "markdown",
   "metadata": {},
   "source": [
    "4. **How would you calculate the total sum of squares (SST), explained sum of squares (SSE), and residual sum of squares (SSR) in a one-way ANOVA using Python?** "
   ]
  },
  {
   "cell_type": "code",
   "execution_count": 62,
   "metadata": {},
   "outputs": [
    {
     "name": "stdout",
     "output_type": "stream",
     "text": [
      "  group  value\n",
      "0     A   10.2\n",
      "1     A    8.3\n",
      "2     A    9.1\n",
      "3     A    7.8\n",
      "4     A   11.5\n"
     ]
    }
   ],
   "source": [
    "import pandas as pd\n",
    "\n",
    "# read in the data from CSV file\n",
    "data = pd.read_csv('data.csv')\n",
    "\n",
    "# display the first 5 rows of data\n",
    "print(data.head())\n"
   ]
  },
  {
   "cell_type": "code",
   "execution_count": 63,
   "metadata": {},
   "outputs": [
    {
     "name": "stdout",
     "output_type": "stream",
     "text": [
      "SST: 162.50966666666665\n"
     ]
    }
   ],
   "source": [
    "import numpy as np\n",
    "\n",
    "# calculate overall mean\n",
    "overall_mean = np.mean(data['value'])\n",
    "\n",
    "# calculate SST\n",
    "SST = np.sum((data['value'] - overall_mean)**2)\n",
    "\n",
    "# print SST\n",
    "print('SST:', SST)"
   ]
  },
  {
   "cell_type": "code",
   "execution_count": 64,
   "metadata": {},
   "outputs": [
    {
     "name": "stdout",
     "output_type": "stream",
     "text": [
      "SSE: 123.99266666666674\n"
     ]
    }
   ],
   "source": [
    "# group data by group and calculate mean and sample size\n",
    "group_means = data.groupby('group').mean()\n",
    "group_sizes = data.groupby('group').size()\n",
    "\n",
    "# calculate SSE\n",
    "SSE = np.sum(group_sizes * (group_means['value'] - overall_mean)**2)\n",
    "\n",
    "# print SSE\n",
    "print('SSE:', SSE)"
   ]
  },
  {
   "cell_type": "code",
   "execution_count": 65,
   "metadata": {},
   "outputs": [
    {
     "name": "stdout",
     "output_type": "stream",
     "text": [
      "SSR: 38.51699999999999\n"
     ]
    }
   ],
   "source": [
    "# calculate SSR\n",
    "SSR = np.sum((data['value'] - data.groupby('group')['value'].transform('mean'))**2)\n",
    "\n",
    "# print SSR\n",
    "print('SSR:', SSR)"
   ]
  },
  {
   "attachments": {},
   "cell_type": "markdown",
   "metadata": {},
   "source": [
    "So the total sum of squares (SST) is 162.50, the explained sum of squares (SSE) is 123.99, and the residual sum of squares (SSR) is 38.51."
   ]
  },
  {
   "attachments": {},
   "cell_type": "markdown",
   "metadata": {},
   "source": [
    "5. **In a two-way ANOVA, how would you calculate the main effects and interaction effects using Python?** "
   ]
  },
  {
   "attachments": {},
   "cell_type": "markdown",
   "metadata": {},
   "source": [
    "In a **two-way ANOVA**, to calculate the main effects and interaction effects using Python, you can use the `statsmodels` package. After importing the necessary packages and loading the data into a pandas dataframe, you can create the model using the `ols` function, specifying the dependent variable and independent variables as well as the interaction term. Then, you can fit the model using the `fit` method and obtain the ANOVA table using the `anova_lm` function. The main effects and interaction effects can be identified by examining the F-statistics and associated p-values in the ANOVA table."
   ]
  },
  {
   "attachments": {},
   "cell_type": "markdown",
   "metadata": {},
   "source": [
    "6. **Suppose you conducted a one-way ANOVA and obtained an F-statistic of 5.23 and a p-value of 0.02. What can you conclude about the differences between the groups, and how would you interpret these results?**"
   ]
  },
  {
   "attachments": {},
   "cell_type": "markdown",
   "metadata": {},
   "source": [
    "In a **one-way ANOVA**, the F-statistic tests the null hypothesis that all group means are equal. A low p-value (typically below 0.05) indicates that there is strong evidence against the null hypothesis and that at least one group mean is significantly different from the others. Therefore, if the F-statistic is 5.23 and the p-value is 0.02, we can conclude that there is a significant difference between the group means. However, we cannot say which group means are different from each other without conducting post-hoc tests."
   ]
  },
  {
   "attachments": {},
   "cell_type": "markdown",
   "metadata": {},
   "source": [
    "7. **In a repeated measures ANOVA, how would you handle missing data, and what are the potential consequences of using different methods to handle missing data?** "
   ]
  },
  {
   "attachments": {},
   "cell_type": "markdown",
   "metadata": {},
   "source": [
    "In a **repeated measures ANOVA**, missing data can be handled using various methods, such as pairwise deletion, mean substitution, or maximum likelihood estimation. Pairwise deletion involves excluding any participant who has missing data from the analysis of that particular variable, which can result in reduced power and biased estimates if the data are not missing completely at random. Mean substitution involves replacing the missing values with the mean of the observed values, which can also result in biased estimates if the data are not missing completely at random. Maximum likelihood estimation is a more sophisticated method that estimates the missing data based on the available data, assuming a specific distribution of the data. However, this method can be computationally intensive and may require more assumptions than simpler methods."
   ]
  },
  {
   "attachments": {},
   "cell_type": "markdown",
   "metadata": {},
   "source": [
    "8. **What are some common post-hoc tests used after ANOVA, and when would you use each one? Provide an example of a situation where a post-hoc test might be necessary.** "
   ]
  },
  {
   "attachments": {},
   "cell_type": "markdown",
   "metadata": {},
   "source": [
    "Common post-hoc tests used after ANOVA include Tukey's Honestly Significant Difference (HSD), Bonferroni correction, and Scheffe's test. Tukey's HSD test is used to determine which specific group means differ significantly from each other. The Bonferroni correction adjusts the significance level to account for multiple comparisons, and Scheffe's test is a more conservative test that controls for the overall error rate. You would use each of these tests depending on the specific research question and the desired level of control for Type I error. \n",
    "\n",
    "**For example :**<br> \n",
    "If you are interested in comparing the means of all possible pairwise comparisons, Tukey's HSD test would be appropriate. If you are more concerned with controlling for Type I error, the Bonferroni correction or Scheffe's test may be more appropriate."
   ]
  },
  {
   "attachments": {},
   "cell_type": "markdown",
   "metadata": {},
   "source": [
    "9. **A researcher wants to compare the mean weight loss of three diets: A, B, and C. They collect data from 50 participants who were randomly assigned to one of the diets. Conduct a one-way ANOVA using Python to determine if there are any significant differences between the mean weight loss of the three diets. Report the F-statistic and p-value, and interpret the results.** "
   ]
  },
  {
   "cell_type": "code",
   "execution_count": 66,
   "metadata": {},
   "outputs": [],
   "source": [
    "import random\n",
    "import pandas as pd\n",
    "\n",
    "# set random seed for reproducibility\n",
    "random.seed(123)\n",
    "\n",
    "# generate weight loss data for three diets\n",
    "A = [random.uniform(1, 5) for _ in range(50)]\n",
    "B = [random.uniform(1, 6) for _ in range(50)]\n",
    "C = [random.uniform(2, 7) for _ in range(50)]\n",
    "\n",
    "# combine data into a single dataframe\n",
    "data = pd.DataFrame({'A': A, 'B': B, 'C': C})\n",
    "\n",
    "# save dataframe to CSV file\n",
    "data.to_csv('diets.csv', index=False)\n"
   ]
  },
  {
   "cell_type": "code",
   "execution_count": 67,
   "metadata": {},
   "outputs": [
    {
     "name": "stdout",
     "output_type": "stream",
     "text": [
      "F-statistic: 25.92372694440951\n",
      "p-value: 2.273011160482186e-10\n"
     ]
    }
   ],
   "source": [
    "import pandas as pd\n",
    "import scipy.stats as stats\n",
    "\n",
    "# load data into a pandas dataframe\n",
    "data = pd.read_csv('diets.csv')\n",
    "\n",
    "# conduct one-way ANOVA\n",
    "f_statistic, p_value = stats.f_oneway(data['A'], data['B'], data['C'])\n",
    "\n",
    "# print results\n",
    "print('F-statistic:', f_statistic)\n",
    "print('p-value:', p_value)"
   ]
  },
  {
   "attachments": {},
   "cell_type": "markdown",
   "metadata": {},
   "source": [
    "10. **A company wants to know if there are any significant differences in the average time it takes to complete a task using three different software programs: Program A, Program B, and Program C. They randomly assign 30 employees to one of the programs and record the time it takes each employee to complete the task. Conduct a two-way ANOVA using Python to determine if there are any main effects or interaction effects between the software programs and employee experience level (novice vs. experienced). Report the F-statistics and p-values, and interpret the results.** "
   ]
  },
  {
   "cell_type": "code",
   "execution_count": 68,
   "metadata": {},
   "outputs": [
    {
     "data": {
      "text/html": [
       "<div>\n",
       "<style scoped>\n",
       "    .dataframe tbody tr th:only-of-type {\n",
       "        vertical-align: middle;\n",
       "    }\n",
       "\n",
       "    .dataframe tbody tr th {\n",
       "        vertical-align: top;\n",
       "    }\n",
       "\n",
       "    .dataframe thead th {\n",
       "        text-align: right;\n",
       "    }\n",
       "</style>\n",
       "<table border=\"1\" class=\"dataframe\">\n",
       "  <thead>\n",
       "    <tr style=\"text-align: right;\">\n",
       "      <th></th>\n",
       "      <th>program</th>\n",
       "      <th>experience</th>\n",
       "      <th>time</th>\n",
       "    </tr>\n",
       "  </thead>\n",
       "  <tbody>\n",
       "    <tr>\n",
       "      <th>0</th>\n",
       "      <td>A</td>\n",
       "      <td>Novice</td>\n",
       "      <td>12.5</td>\n",
       "    </tr>\n",
       "    <tr>\n",
       "      <th>1</th>\n",
       "      <td>B</td>\n",
       "      <td>Novice</td>\n",
       "      <td>11.2</td>\n",
       "    </tr>\n",
       "    <tr>\n",
       "      <th>2</th>\n",
       "      <td>C</td>\n",
       "      <td>Novice</td>\n",
       "      <td>14.3</td>\n",
       "    </tr>\n",
       "    <tr>\n",
       "      <th>3</th>\n",
       "      <td>A</td>\n",
       "      <td>Experienced</td>\n",
       "      <td>10.8</td>\n",
       "    </tr>\n",
       "    <tr>\n",
       "      <th>4</th>\n",
       "      <td>B</td>\n",
       "      <td>Experienced</td>\n",
       "      <td>13.2</td>\n",
       "    </tr>\n",
       "  </tbody>\n",
       "</table>\n",
       "</div>"
      ],
      "text/plain": [
       "  program   experience  time\n",
       "0       A       Novice  12.5\n",
       "1       B       Novice  11.2\n",
       "2       C       Novice  14.3\n",
       "3       A  Experienced  10.8\n",
       "4       B  Experienced  13.2"
      ]
     },
     "execution_count": 68,
     "metadata": {},
     "output_type": "execute_result"
    }
   ],
   "source": [
    "import pandas as pd\n",
    "import statsmodels.api as sm\n",
    "from statsmodels.formula.api import ols\n",
    "\n",
    "data = pd.read_csv('soft.csv')\n",
    "data.head()"
   ]
  },
  {
   "cell_type": "code",
   "execution_count": 69,
   "metadata": {},
   "outputs": [
    {
     "name": "stdout",
     "output_type": "stream",
     "text": [
      "                       sum_sq    df         F    PR(>F)\n",
      "program              3.987778   2.0  1.704179  0.223126\n",
      "experience           0.435556   1.0  0.372270  0.553149\n",
      "program:experience   2.181111   2.0  0.932099  0.420455\n",
      "Residual            14.040000  12.0       NaN       NaN\n"
     ]
    }
   ],
   "source": [
    "# Convert program and experience columns to categorical variables\n",
    "data['program'] = data['program'].astype('category')\n",
    "data['experience'] = data['experience'].astype('category')\n",
    "\n",
    "# Fit the model\n",
    "model = ols('time ~ program + experience + program:experience', data=data).fit()\n",
    "\n",
    "# Perform ANOVA\n",
    "anova_table = sm.stats.anova_lm(model, typ=2)\n",
    "print(anova_table)\n"
   ]
  },
  {
   "attachments": {},
   "cell_type": "markdown",
   "metadata": {},
   "source": [
    "11. **An educational researcher is interested in whether a new teaching method improves student test scores. They randomly assign 100 students to either the control group (traditional teaching method) or the experimental group (new teaching method) and administer a test at the end of the semester. Conduct a two-sample t-test using Python to determine if there are any significant differences in test scores between the two groups. If the results are significant, follow up with a post-hoc test to determine which group(s) differ significantly from each other.**"
   ]
  },
  {
   "cell_type": "code",
   "execution_count": 70,
   "metadata": {},
   "outputs": [
    {
     "name": "stdout",
     "output_type": "stream",
     "text": [
      "Two-Sample T-Test Results:\n",
      "t-statistic: nan\n",
      "p-value: nan\n",
      "\n",
      "Post-Hoc Test Results:\n",
      "   Multiple Comparison of Means - Tukey HSD, FWER=0.05    \n",
      "==========================================================\n",
      " group1    group2    meandiff p-adj   lower  upper  reject\n",
      "----------------------------------------------------------\n",
      "Control Experimental     0.56 0.6288 -1.7544 2.8744  False\n",
      "----------------------------------------------------------\n"
     ]
    }
   ],
   "source": [
    "import pandas as pd\n",
    "import scipy.stats as stats\n",
    "from statsmodels.stats.multicomp import pairwise_tukeyhsd\n",
    "\n",
    "# load data\n",
    "data = pd.read_csv('student.csv')\n",
    "\n",
    "# separate scores by group\n",
    "control_scores = data[data['group'] == 'control']['score']\n",
    "experimental_scores = data[data['group'] == 'experimental']['score']\n",
    "\n",
    "# conduct two-sample t-test\n",
    "t_stat, p_val = stats.ttest_ind(control_scores, experimental_scores)\n",
    "\n",
    "# print results\n",
    "print('Two-Sample T-Test Results:')\n",
    "print('t-statistic: {:.2f}'.format(t_stat))\n",
    "print('p-value: {:.4f}'.format(p_val))\n",
    "\n",
    "# conduct post-hoc test\n",
    "tukey_results = pairwise_tukeyhsd(data['score'], data['group'])\n",
    "\n",
    "# print post-hoc test results\n",
    "print('\\nPost-Hoc Test Results:')\n",
    "print(tukey_results)\n"
   ]
  },
  {
   "attachments": {},
   "cell_type": "markdown",
   "metadata": {},
   "source": [
    "12. **A researcher wants to know if there are any significant differences in the average daily sales of three retail stores: Store A, Store B, and Store C. They randomly select 30 days and record the sales for each store on those days. Conduct a repeated measures ANOVA using Python to determine if there are any significant differences in sales between the three stores. If the results are significant, follow up with a post-hoc test to determine which store(s) differ significantly from each other.**"
   ]
  },
  {
   "attachments": {},
   "cell_type": "markdown",
   "metadata": {},
   "source": [
    "Since this is a repeated measures design, where the same subjects are measured over multiple time points, a repeated measures ANOVA is not appropriate. Instead, a one-way repeated measures ANOVA, also known as a within-subjects ANOVA, would be more appropriate."
   ]
  },
  {
   "cell_type": "code",
   "execution_count": 71,
   "metadata": {},
   "outputs": [
    {
     "name": "stdout",
     "output_type": "stream",
     "text": [
      "               Anova\n",
      "====================================\n",
      "      F Value  Num DF  Den DF Pr > F\n",
      "------------------------------------\n",
      "store 123.7608 2.0000 58.0000 0.0000\n",
      "====================================\n",
      "\n",
      "\n",
      "Post-Hoc Test Results:\n",
      "    Multiple Comparison of Means - Tukey HSD, FWER=0.05    \n",
      "===========================================================\n",
      " group1  group2  meandiff p-adj    lower     upper   reject\n",
      "-----------------------------------------------------------\n",
      "Store A Store B     210.0    0.0  158.8856  261.1144   True\n",
      "Store A Store C    3.3333 0.9868  -47.7811   54.4477  False\n",
      "Store B Store C -206.6667    0.0 -257.7811 -155.5523   True\n",
      "-----------------------------------------------------------\n"
     ]
    }
   ],
   "source": [
    "import pandas as pd\n",
    "import numpy as np\n",
    "import scipy.stats as stats\n",
    "from statsmodels.stats.anova import AnovaRM\n",
    "\n",
    "# load data\n",
    "data = pd.read_csv('sales.csv')\n",
    "\n",
    "# set up data in long format\n",
    "data_long = pd.melt(data, id_vars=['day'], var_name='store', value_name='sales')\n",
    "\n",
    "# set up the repeated measures ANOVA\n",
    "rm_anova = AnovaRM(data_long, 'sales', 'day', within=['store'])\n",
    "\n",
    "# fit the model\n",
    "results = rm_anova.fit()\n",
    "\n",
    "# print results\n",
    "print(results.summary())\n",
    "\n",
    "# follow up with post-hoc test if results are significant\n",
    "if results.anova_table['Pr > F'][0] < 0.05:\n",
    "    print('\\nPost-Hoc Test Results:')\n",
    "    print(pairwise_tukeyhsd(data_long['sales'], data_long['store']))"
   ]
  }
 ],
 "metadata": {
  "kernelspec": {
   "display_name": "pwskills",
   "language": "python",
   "name": "python3"
  },
  "language_info": {
   "codemirror_mode": {
    "name": "ipython",
    "version": 3
   },
   "file_extension": ".py",
   "mimetype": "text/x-python",
   "name": "python",
   "nbconvert_exporter": "python",
   "pygments_lexer": "ipython3",
   "version": "3.8.0"
  },
  "orig_nbformat": 4
 },
 "nbformat": 4,
 "nbformat_minor": 2
}
