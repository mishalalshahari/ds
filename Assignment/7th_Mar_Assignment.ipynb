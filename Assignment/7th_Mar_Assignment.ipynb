{
  "cells": [
    {
      "attachments": {},
      "cell_type": "markdown",
      "metadata": {},
      "source": [
        "# Assignment - 7th March"
      ]
    },
    {
      "attachments": {},
      "cell_type": "markdown",
      "metadata": {
        "id": "oyGT3Fkx7c_6"
      },
      "source": [
        "1. What are the three measures of central tendency?\n",
        "\n",
        "    The three measures of central tendency are :\n",
        "- **Mean :** The mean is the arithmetic average of a set of numbers. It is obtained by adding up all the values in the set and then dividing by the total number of values.\n",
        "\n",
        "- **Median :** The median is the middle value in a set of numbers. To find the median, the numbers in the set are arranged in order from smallest to largest, and the middle value is selected. If there are an even number of values, then the median is the average of the two middle values.\n",
        "\n",
        "- **Mode :** The mode is the most frequently occurring value in a set of numbers. If there are two or more values that occur with the same frequency, then the set has more than one mode."
      ]
    },
    {
      "attachments": {},
      "cell_type": "markdown",
      "metadata": {
        "id": "STs49BB-70KJ"
      },
      "source": [
        "2. What is the difference between the mean, median, and mode? How are they used to measure the central tendency of a dataset?\n",
        "\n",
        "    The mean, median, and mode are different measures of central tendency, and each provides different information about a dataset.\n",
        "\n",
        "    - The mean is the arithmetic average of a set of numbers. It takes into account all the values in the dataset and is affected by outliers or extreme values. The mean is often used to summarize a dataset with a roughly symmetrical distribution, where most of the values cluster around a central value.\n",
        "\n",
        "    - The median is the middle value in a set of numbers. It is less affected by outliers than the mean, as it only takes into account the value(s) in the middle of the distribution. The median is often used to summarize a dataset with a skewed distribution, where there are a few extreme values that pull the mean away from the center.\n",
        "\n",
        "    - The mode is the most frequently occurring value in a set of numbers. It is useful for summarizing a dataset with discrete values, such as the number of people in a household or the number of pets owned by a group of people. The mode is also useful for identifying the most common value(s) in a dataset.\n",
        "\n",
        "    To measure the central tendency of a dataset, one or more of these measures can be used depending on the nature of the data and the research question. For example, if a researcher wants to summarize the average income of a population, they would likely use the mean. If they want to summarize the income distribution of the population, they may use the median or mode, depending on the shape of the distribution."
      ]
    },
    {
      "attachments": {},
      "cell_type": "markdown",
      "metadata": {},
      "source": [
        "3. Measure the three measures of central tendency for the given height data:\n",
        "\n",
        "    Height Data : [178, 177, 176, 177, 178.2, 178, 175, 179, 180, 175, 178.9, 176.2, 177, 172.5, 178, 176.5]\n",
        "\n",
        "* Mean of Height \n",
        "    $(\\mu) = \\sum_{i=1}^n\\frac{x_i}{N}$\n",
        "\n",
        "    $\\qquad = \\frac {(178 + 177 + 176 + 177 + 178.2 + 178 + 175 + 179 + 180 + 175 + 178.9 + 176.2 + 177 + 172.5 + 178 + 176.5)}{(N = 16)}$\n",
        "    $= 177.4$\n",
        "\n",
        "* For Median, sort the height data into ascending order :\n",
        "\n",
        "    Now, Height Data : [172.5, 175, 175, 176, 176.2, 176.5, **177, 177**, 178, 178, 178, 178.2, 178.9, 179, 180]\n",
        "\n",
        "    Median of Height : $ ({mid}) = avg.(8^{th}_{H-data}, 9^{th}_{H-data}) = \\frac{177+177}{2} = 177$ $\\quad \\{ \\because n \\to even$\n",
        "\n",
        "* For Mode of Height Data :\n",
        "\n",
        "    The value 178 appears most frequently (3 times) in the dataset.\n",
        "\n",
        "    Therefore, the mode height is 178."
      ]
    },
    {
      "attachments": {},
      "cell_type": "markdown",
      "metadata": {
        "id": "J62PSC_v8-Su"
      },
      "source": [
        "4. Find the standard deviation for the given data : \n",
        "\n",
        "    [178,177,176,177,178.2,178,175,179,180,175,178.9,176.2,177,172.5,178,176.5]\n",
        "\n",
        "\n",
        "    Standard deviation $(\\sigma_x) = \\sqrt{\\sum_{i=1}^n \\frac{(x_i-\\bar{x})^2}{n-1}}$\n",
        "    \n",
        "    Where,\n",
        "    - $x_i$ is each value in the dataset\n",
        "    - $\\bar{x}$ is the mean of the dataset\n",
        "    - $n$ is the number of values in the dataset.\n",
        "\n",
        "    Mean $(\\bar{x}) = \\sum_{i=1}^n\\frac{x_i}{n-1}$ \n",
        "    \n",
        "    $\\\\ \\qquad = \\frac {(178 + 177 + 176 + 177 + 178.2 + 178 + 175 + 179 + 180 + 175 + 178.9 + 176.2 + 177 + 172.5 + 178 + 176.5)}{[(n-1) = 15]}$\n",
        "    $= 177.4$\n",
        "\n",
        "    Sum of squared deviations from the mean :\n",
        "\n",
        "    $\\sum(x_i - \\bar{x})^2 = (178 - 177.4)^2 + (177 - 177.4)^2 + (176 - 177.4)^2 + (177 - 177.4)^2 + (178.2 - 177.4)^2 + (178 - 177.4)^2 + (175 - 177.4)^2 + (179 - 177.4)^2 + (180 - 177.4)^2 + (175 - 177.4)^2 + (178.9 - 177.4)^2 + (176.2 - 177.4)^2 + (177 - 177.4)^2 + (172.5 - 177.4)^2 + (178 - 177.4)^2 + (176.5 - 177.4)^2$\n",
        "\n",
        "    $\\sum(x_i - \\bar{x})^2 = 383.43$\n",
        "\n",
        "    $variance = \\sum((x - mean)^2) / (n - 1)$\n",
        "\n",
        "    $\\qquad = \\frac{383.43}{15} = 25.562$\n",
        "\n",
        "    Standard deviation : $(\\sigma) = \\sqrt{variance}\\\\ $\n",
        "    \n",
        "    $\\qquad = \\sqrt{(25.562)} = 5.056$\n"
      ]
    },
    {
      "attachments": {},
      "cell_type": "markdown",
      "metadata": {
        "id": "wMEkjDx683KW"
      },
      "source": [
        "5. How are measures of dispersion such as range, variance, and standard deviation used to describe the spread of a dataset? Provide an example.\n",
        "\n",
        "    Measures of dispersion such as range, variance, and standard deviation are used to describe the spread or variability of a dataset. They tell us how far apart the values in the dataset are from each other, and how spread out or clustered they are around the mean.\n",
        "\n",
        "    The range is the simplest measure of dispersion, and it is the difference between the maximum and minimum values in the dataset. It gives us an idea of how much the data covers, but it does not consider the variability within the dataset.\n",
        "\n",
        "    Variance and standard deviation are more commonly used to describe the spread of a dataset. Variance is the average of the squared differences from the mean, while standard deviation is the square root of the variance. Standard deviation is preferred over variance because it is in the same unit as the data, making it easier to interpret.\n",
        "\n",
        "    For example, let's say we have two datasets:\n",
        "\n",
        "    Dataset A : [5, 6, 7, 8, 9]\n",
        "    \n",
        "    Dataset B : [1, 5, 6, 10, 11]\n",
        "\n",
        "    The range of Dataset A is 4 (9 - 5), while the range of Dataset B is 10 (11 - 1). However, the variance and standard deviation tell a different story. The variance of Dataset A is 2, while the variance of Dataset B is 12.5. The standard deviation of Dataset A is 1.41, while the standard deviation of Dataset B is 3.54.\n",
        "\n",
        "    This shows that while the range of Dataset B is larger than that of Dataset A, the values in Dataset B are more spread out and less clustered around the mean. The higher variance and standard deviation of Dataset B reflect this greater variability.\n",
        "\n",
        "    In summary, measures of dispersion such as range, variance, and standard deviation help us to understand how much the values in a dataset vary from each other, and how much they cluster around the mean. They complement measures of central tendency and provide a more complete picture of the data."
      ]
    },
    {
      "attachments": {},
      "cell_type": "markdown",
      "metadata": {
        "id": "ZN1khfLs-A2q"
      },
      "source": [
        "6. What is a Venn diagram?\n",
        "\n",
        "    A Venn diagram is a visual tool used to represent the relationships between different sets of data. It uses overlapping circles or ellipses to illustrate the similarities and differences between sets, with each circle representing a group of data and the overlap representing the areas of similarity. Venn diagrams are used in various fields to help visualize complex relationships and identify commonalities and differences. They can be created manually or with specialized software and can represent many types of data."
      ]
    },
    {
      "attachments": {},
      "cell_type": "markdown",
      "metadata": {
        "id": "PRgZGMFq-PW5"
      },
      "source": [
        "7. For the two given sets \n",
        "    A = {2,3,4,5,6,7} &\n",
        "    B = {0,2,6,8,10}. Find :\n",
        "    - **Intersection :** $A\\cap B = $ {2,3,4,5,6,7} $\\cap$ {0,2,6,8,10} = {2,8}\n",
        "    - **Union :** $A\\cup B = $ {2,3,4,5,6,7} $\\cup$ {0,2,6,8,10} = {0,2,3,4,5,6,7,8,10}"
      ]
    },
    {
      "attachments": {},
      "cell_type": "markdown",
      "metadata": {
        "id": "FVyw7diN-uDp"
      },
      "source": [
        "8. What do you understand about skewness in data?\n",
        "\n",
        "- Skewness in data refers to the degree of asymmetry in the distribution of data. It can be positive or negative, with the direction determined by the side towards which the tail of the distribution is longer. \n",
        "\n",
        "- Skewness can affect the interpretation of data and the accuracy of statistical analyses, and data with extreme skewness may require special attention before analysis. Skewness can be assessed visually or numerically using measures such as skewness coefficient or Kurtosis."
      ]
    },
    {
      "attachments": {},
      "cell_type": "markdown",
      "metadata": {
        "id": "0_rAW1x1_IHx"
      },
      "source": [
        "9. If a data is right skewed then what will be the position of median with respect to mean?\n",
        "\n",
        "    If a data is right skewed, the median will be less than the mean. This is because the skewed data has a long tail on the right side, which pulls the mean towards the right and away from the median.\n",
        "\n",
        "    **For Example :**"
      ]
    },
    {
      "cell_type": "code",
      "execution_count": 14,
      "metadata": {},
      "outputs": [
        {
          "data": {
            "image/png": "[encoded data removed]",
            "text/plain": [
              "<Figure size 640x480 with 1 Axes>"
            ]
          },
          "metadata": {},
          "output_type": "display_data"
        }
      ],
      "source": [
        "import numpy as np\n",
        "import pandas as pd\n",
        "import matplotlib.pyplot as plt\n",
        "import seaborn as sns\n",
        "\n",
        "data = pd.Series(np.random.normal(10, 5, 1000)**2)\n",
        "\n",
        "mean = data.mean()\n",
        "median = data.median()\n",
        "\n",
        "sns.histplot(data, kde=True)\n",
        "plt.axvline(x=mean, color='r', linestyle='--', label='Mean')\n",
        "plt.axvline(x=median, color='g', linestyle='-.', label='Median')\n",
        "plt.legend()\n",
        "plt.show()"
      ]
    },
    {
      "attachments": {},
      "cell_type": "markdown",
      "metadata": {
        "id": "WiE_G3hH_fwd"
      },
      "source": [
        "10. Explain the difference between covariance and correlation. How are these measures used in statistical analysis?\n",
        "\n",
        "    **Covariance :**\n",
        "\n",
        "    - Covariance and correlation are both measures of the relationship between two variables, but they differ in their interpretation and scale.\n",
        "\n",
        "    - Covariance measures the degree to which two variables change together. It is a measure of the direction and strength of the linear relationship between two variables. The covariance can be positive or negative, indicating the direction of the relationship, and its magnitude reflects the strength of the relationship. A positive covariance indicates that as one variable increases, the other variable also tends to increase, while a negative covariance indicates that as one variable increases, the other variable tends to decrease.\n",
        "\n",
        "    - However, covariance is not a standardized measure, meaning it is difficult to compare the magnitude of covariance between different pairs of variables. Therefore, it is often normalized to obtain the correlation coefficient.\n",
        "\n",
        "    **Correlation :**\n",
        "\n",
        "    - Correlation is a standardized measure of the linear relationship between two variables. It ranges between -1 and 1, with a value of 1 indicating a perfect positive correlation (both variables increase together), 0 indicating no correlation, and -1 indicating a perfect negative correlation (one variable decreases as the other increases).\n",
        "\n",
        "    - Correlation is often preferred over covariance because it is easier to interpret and compare across different pairs of variables, and it is not affected by differences in scale or units of measurement.\n",
        "\n",
        "    **Note :** Both covariance and correlation are used in statistical analysis to study the relationship between variables, and to identify patterns and trends in data. They are also used in regression analysis to model the relationship between variables and to make predictions based on the values of one or more variables. However, correlation is generally preferred over covariance for most statistical analyses."
      ]
    },
    {
      "attachments": {},
      "cell_type": "markdown",
      "metadata": {
        "id": "ToyBT4FQ_vcx"
      },
      "source": [
        "11. What is the formula for calculating the sample mean? Provide an example calculation for a dataset.\n",
        "\n",
        "    Mean $\\bar{x} = \\frac{\\text{Sum of all the data points}}{\\text{Number of data points}} = \\sum_{i=1}^n\\frac{x_i}{n-1} $\n",
        "\n",
        "    **For Example :**\n",
        "\n",
        "    $X = [5, 8, 12, 6, 10]$\n",
        "\n",
        "    $\\bar{x} = \\frac{5 + 8 + 12 + 6 + 10}{5} = 8.2$\n",
        "\n",
        "    Mean, $\\bar{x}$ is 8.2."
      ]
    },
    {
      "attachments": {},
      "cell_type": "markdown",
      "metadata": {
        "id": "JjlHomOtAJ4-"
      },
      "source": [
        "12. For a normal distribution data what is the relationship between its measure of central tendency?\n",
        "\n",
        "    For a normal distribution data, the mean, median, and mode are all equal. This means that the data is symmetrical around the central value, and the central tendency is the same regardless of which measure is used. This is a defining characteristic of a normal distribution, which is also known as a bell curve. In a normal distribution, the mean, median, and mode are all located at the peak of the curve, and the data is equally distributed on both sides. This makes the normal distribution particularly useful for statistical analysis and modeling, as it allows for easy interpretation of central tendency and variability."
      ]
    },
    {
      "attachments": {},
      "cell_type": "markdown",
      "metadata": {
        "id": "5dKdK423AdER"
      },
      "source": [
        "13. How is covariance different from correlation?\n",
        "\n",
        "* Covariance is an indicator of the extent to which 2 random variables are dependent on each other. A higher number denotes higher dependency. Whereas Correlation is a statistical measure that indicates how strongly two variables are related.\n",
        "\n",
        "* The value of covariance lies in the range of -∞ and +∞. whereas Correlation is limited to values between the range -1 and +1\n",
        "\n",
        "* Affects covariance whereas covariance Does not affect the correlation.\n",
        "\n",
        "* covariance is unit free whereas correlation has a unit."
      ]
    },
    {
      "attachments": {},
      "cell_type": "markdown",
      "metadata": {
        "id": "8MZbGXHyDOkV"
      },
      "source": [
        "14. How do outliers affect measures of central tendency and dispersion? Provide an example.\n",
        "\n",
        "    Outliers can have a significant impact on measures of central tendency and dispersion, as they can skew the data and affect the overall distribution.\n",
        "\n",
        "    For measures of central tendency like the mean and median, outliers can have a large impact on the value of the measure. In a dataset with a single outlier that is much larger or smaller than the rest of the data, the mean will be affected more than the median. This is because the mean takes into account the value of every data point, while the median only considers the middle value(s). Therefore, if there is a large outlier, the mean will be pulled in the direction of the outlier, while the median will remain relatively unaffected.\n",
        "\n",
        "    For measures of dispersion like the range, variance, and standard deviation, outliers can also have a significant impact. Outliers can increase the range of the data, making it appear more spread out than it actually is. Outliers can also increase the variance and standard deviation, as these measures are based on the distance of each data point from the mean. If there is a large outlier, the distance between the outlier and the mean will be greater than for the other data points, which can increase the variance and standard deviation.\n",
        "\n",
        "    **For example :**\n",
        "\n",
        "    $\\{2, 3, 4, 5, 6, 7, 8, 9, 10, 100\\}$\n",
        "\n",
        "    In this dataset, the outlier is the value of 100. If we calculate the mean, median, range, variance, and standard deviation for this dataset, we get:\n",
        "\n",
        "    * Mean $(\\bar{x}) = $ 14.4\n",
        "    * Median $(mid) = $ 6.5\n",
        "    * Range $(R_x) = $ 98\n",
        "    * Variance $(var.|\\sigma_x^2) = $ 957.5\n",
        "    * Standard deviation $(\\sigma_x) = $ 30.96\n",
        "\n",
        "    As we can see, the mean is much larger than the median, indicating that the outlier is affecting the value of the mean. The range, variance, and standard deviation are also much larger than they would be without the outlier, indicating that the outlier is increasing the spread of the data."
      ]
    }
  ],
  "metadata": {
    "colab": {
      "authorship_tag": "ABX9TyMpC+0vHxunM2v267KKB8e5",
      "include_colab_link": true,
      "provenance": []
    },
    "kernelspec": {
      "display_name": "Python 3",
      "name": "python3"
    },
    "language_info": {
      "codemirror_mode": {
        "name": "ipython",
        "version": 3
      },
      "file_extension": ".py",
      "mimetype": "text/x-python",
      "name": "python",
      "nbconvert_exporter": "python",
      "pygments_lexer": "ipython3",
      "version": "3.11.2"
    }
  },
  "nbformat": 4,
  "nbformat_minor": 0
}
