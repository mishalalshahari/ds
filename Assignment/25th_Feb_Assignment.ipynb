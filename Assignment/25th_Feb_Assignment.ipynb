{
 "cells": [
  {
   "attachments": {},
   "cell_type": "markdown",
   "metadata": {},
   "source": [
    "# Assignment : 24(25th Feb'2023)"
   ]
  },
  {
   "cell_type": "code",
   "execution_count": 13,
   "metadata": {},
   "outputs": [],
   "source": [
    "# Consider following code to answer further questions:\n",
    "import pandas as pd\n",
    "course_name = ['Data Science', 'Machine Learning', 'Big Data', 'Data Engineer']\n",
    "duration = [2,3,6,4]\n",
    "df = pd.DataFrame(data = {'course_name' : course_name, 'duration' : duration})"
   ]
  },
  {
   "attachments": {},
   "cell_type": "markdown",
   "metadata": {},
   "source": [
    "1. Write a code to print the data present in the second row of the dataframe, df.\n",
    "\n",
    "    To print the data present in the second row of the df DataFrame, you can use the .iloc[] method with the row index of 1 (since Python uses zero-based indexing)."
   ]
  },
  {
   "cell_type": "code",
   "execution_count": 14,
   "metadata": {},
   "outputs": [
    {
     "name": "stdout",
     "output_type": "stream",
     "text": [
      "course_name    Machine Learning\n",
      "duration                      3\n",
      "Name: 1, dtype: object\n"
     ]
    }
   ],
   "source": [
    "print(df.iloc[1])"
   ]
  },
  {
   "attachments": {},
   "cell_type": "markdown",
   "metadata": {},
   "source": [
    "2. What is the difference between the functions loc and iloc in pandas.DataFrame?\n",
    "    \n",
    "    The key difference between loc and iloc is that loc uses labels to index and select data, while iloc uses integer indices to index and select data."
   ]
  },
  {
   "cell_type": "code",
   "execution_count": 22,
   "metadata": {},
   "outputs": [
    {
     "data": {
      "text/html": [
       "<div>\n",
       "<style scoped>\n",
       "    .dataframe tbody tr th:only-of-type {\n",
       "        vertical-align: middle;\n",
       "    }\n",
       "\n",
       "    .dataframe tbody tr th {\n",
       "        vertical-align: top;\n",
       "    }\n",
       "\n",
       "    .dataframe thead th {\n",
       "        text-align: right;\n",
       "    }\n",
       "</style>\n",
       "<table border=\"1\" class=\"dataframe\">\n",
       "  <thead>\n",
       "    <tr style=\"text-align: right;\">\n",
       "      <th></th>\n",
       "      <th>course_name</th>\n",
       "      <th>duration</th>\n",
       "    </tr>\n",
       "  </thead>\n",
       "  <tbody>\n",
       "    <tr>\n",
       "      <th>0</th>\n",
       "      <td>Data Science</td>\n",
       "      <td>2</td>\n",
       "    </tr>\n",
       "    <tr>\n",
       "      <th>1</th>\n",
       "      <td>Machine Learning</td>\n",
       "      <td>3</td>\n",
       "    </tr>\n",
       "    <tr>\n",
       "      <th>2</th>\n",
       "      <td>Big Data</td>\n",
       "      <td>6</td>\n",
       "    </tr>\n",
       "    <tr>\n",
       "      <th>3</th>\n",
       "      <td>Data Engineer</td>\n",
       "      <td>4</td>\n",
       "    </tr>\n",
       "  </tbody>\n",
       "</table>\n",
       "</div>"
      ],
      "text/plain": [
       "        course_name  duration\n",
       "0      Data Science         2\n",
       "1  Machine Learning         3\n",
       "2          Big Data         6\n",
       "3     Data Engineer         4"
      ]
     },
     "execution_count": 22,
     "metadata": {},
     "output_type": "execute_result"
    }
   ],
   "source": [
    "df.head()"
   ]
  },
  {
   "attachments": {},
   "cell_type": "markdown",
   "metadata": {},
   "source": [
    "* The loc function is primarily label based and is used to select rows and columns by their labels. It is used to access a group of rows and columns by their names in DataFrame."
   ]
  },
  {
   "cell_type": "code",
   "execution_count": 18,
   "metadata": {},
   "outputs": [
    {
     "name": "stdout",
     "output_type": "stream",
     "text": [
      "course_name    Machine Learning\n",
      "duration                      3\n",
      "Name: 1, dtype: object\n"
     ]
    }
   ],
   "source": [
    "# Select the row with label 1 and column's ['course_name','duration']\n",
    "print(df.loc[1, ['course_name','duration']])"
   ]
  },
  {
   "attachments": {},
   "cell_type": "markdown",
   "metadata": {},
   "source": [
    "* The iloc function is primarily integer based and is used to select rows and columns by their integer index. It is used to access a group of rows and columns by their position in the DataFrame. "
   ]
  },
  {
   "cell_type": "code",
   "execution_count": 21,
   "metadata": {},
   "outputs": [
    {
     "name": "stdout",
     "output_type": "stream",
     "text": [
      "        course_name  duration\n",
      "0      Data Science         2\n",
      "1  Machine Learning         3\n"
     ]
    }
   ],
   "source": [
    "# Select the first two rows and columns\n",
    "print(df.iloc[:2, :2])"
   ]
  },
  {
   "attachments": {},
   "cell_type": "markdown",
   "metadata": {},
   "source": [
    "3. Reindex the given dataframe using a variable, reindex = [3,0,1,2] and store it in the variable, new_df\n",
    "    then find the output for both new_df.loc[2] and new_df.iloc[2].\n",
    "\n",
    "    Did you observe any difference in both the outputs? If so then explain it."
   ]
  },
  {
   "cell_type": "code",
   "execution_count": 36,
   "metadata": {},
   "outputs": [],
   "source": [
    "# Consider the below code to answer further questions:\n",
    "import pandas as pd\n",
    "import numpy as np\n",
    "columns = ['column_1', 'column_2', 'column_3', 'column_4', 'column_5', 'column_6']\n",
    "indices = [1,2,3,4,5,6]\n",
    "\n",
    "# Creating a dataframe:\n",
    "df1 = pd.DataFrame(np.random.rand(6,6), columns = columns, index = indices)"
   ]
  },
  {
   "cell_type": "code",
   "execution_count": 35,
   "metadata": {},
   "outputs": [
    {
     "data": {
      "text/html": [
       "<div>\n",
       "<style scoped>\n",
       "    .dataframe tbody tr th:only-of-type {\n",
       "        vertical-align: middle;\n",
       "    }\n",
       "\n",
       "    .dataframe tbody tr th {\n",
       "        vertical-align: top;\n",
       "    }\n",
       "\n",
       "    .dataframe thead th {\n",
       "        text-align: right;\n",
       "    }\n",
       "</style>\n",
       "<table border=\"1\" class=\"dataframe\">\n",
       "  <thead>\n",
       "    <tr style=\"text-align: right;\">\n",
       "      <th></th>\n",
       "      <th>column_1</th>\n",
       "      <th>column_2</th>\n",
       "      <th>column_3</th>\n",
       "      <th>column_4</th>\n",
       "      <th>column_5</th>\n",
       "      <th>column_6</th>\n",
       "    </tr>\n",
       "  </thead>\n",
       "  <tbody>\n",
       "    <tr>\n",
       "      <th>3</th>\n",
       "      <td>0.812591</td>\n",
       "      <td>0.675645</td>\n",
       "      <td>0.941912</td>\n",
       "      <td>0.151314</td>\n",
       "      <td>0.725356</td>\n",
       "      <td>0.072494</td>\n",
       "    </tr>\n",
       "    <tr>\n",
       "      <th>0</th>\n",
       "      <td>NaN</td>\n",
       "      <td>NaN</td>\n",
       "      <td>NaN</td>\n",
       "      <td>NaN</td>\n",
       "      <td>NaN</td>\n",
       "      <td>NaN</td>\n",
       "    </tr>\n",
       "    <tr>\n",
       "      <th>1</th>\n",
       "      <td>0.803215</td>\n",
       "      <td>0.683902</td>\n",
       "      <td>0.325491</td>\n",
       "      <td>0.964111</td>\n",
       "      <td>0.674576</td>\n",
       "      <td>0.375002</td>\n",
       "    </tr>\n",
       "    <tr>\n",
       "      <th>2</th>\n",
       "      <td>0.619531</td>\n",
       "      <td>0.754660</td>\n",
       "      <td>0.992185</td>\n",
       "      <td>0.308579</td>\n",
       "      <td>0.184959</td>\n",
       "      <td>0.399622</td>\n",
       "    </tr>\n",
       "  </tbody>\n",
       "</table>\n",
       "</div>"
      ],
      "text/plain": [
       "   column_1  column_2  column_3  column_4  column_5  column_6\n",
       "3  0.812591  0.675645  0.941912  0.151314  0.725356  0.072494\n",
       "0       NaN       NaN       NaN       NaN       NaN       NaN\n",
       "1  0.803215  0.683902  0.325491  0.964111  0.674576  0.375002\n",
       "2  0.619531  0.754660  0.992185  0.308579  0.184959  0.399622"
      ]
     },
     "execution_count": 35,
     "metadata": {},
     "output_type": "execute_result"
    }
   ],
   "source": [
    "reindex = [3, 0, 1, 2]\n",
    "new_df = df1.reindex(reindex)\n",
    "new_df"
   ]
  },
  {
   "cell_type": "code",
   "execution_count": 32,
   "metadata": {},
   "outputs": [
    {
     "data": {
      "text/plain": [
       "column_1    0.619531\n",
       "column_2    0.754660\n",
       "column_3    0.992185\n",
       "column_4    0.308579\n",
       "column_5    0.184959\n",
       "column_6    0.399622\n",
       "Name: 2, dtype: float64"
      ]
     },
     "execution_count": 32,
     "metadata": {},
     "output_type": "execute_result"
    }
   ],
   "source": [
    "new_df.loc[2]"
   ]
  },
  {
   "cell_type": "code",
   "execution_count": 33,
   "metadata": {},
   "outputs": [
    {
     "data": {
      "text/plain": [
       "column_1    0.803215\n",
       "column_2    0.683902\n",
       "column_3    0.325491\n",
       "column_4    0.964111\n",
       "column_5    0.674576\n",
       "column_6    0.375002\n",
       "Name: 1, dtype: float64"
      ]
     },
     "execution_count": 33,
     "metadata": {},
     "output_type": "execute_result"
    }
   ],
   "source": [
    "new_df.iloc[2]"
   ]
  },
  {
   "attachments": {},
   "cell_type": "markdown",
   "metadata": {},
   "source": [
    "Yes, there is a difference in the outputs obtained using `loc` and `iloc`. \n",
    "\n",
    "The `loc` function accessed the row with label '2' (which is actually the row with index '3' after reindexing), whereas the `iloc` function accessed the row with integer index '2' (which is actually the row with label '1' after reindexing)."
   ]
  },
  {
   "attachments": {},
   "cell_type": "markdown",
   "metadata": {},
   "source": [
    "4. Write a code to find the following statistical measurements for the above dataframe df1:\n",
    "\n",
    "* `mean` of each and every column present in the dataframe.\n",
    "* standard deviation of column, `column_2`"
   ]
  },
  {
   "cell_type": "code",
   "execution_count": 40,
   "metadata": {},
   "outputs": [
    {
     "data": {
      "text/plain": [
       "column_1    0.442894\n",
       "column_2    0.220983\n",
       "column_3    0.552897\n",
       "column_4    0.557902\n",
       "column_5    0.470231\n",
       "column_6    0.502162\n",
       "dtype: float64"
      ]
     },
     "execution_count": 40,
     "metadata": {},
     "output_type": "execute_result"
    }
   ],
   "source": [
    "# Finding the mean of each column:\n",
    "df1.mean()"
   ]
  },
  {
   "cell_type": "code",
   "execution_count": 41,
   "metadata": {},
   "outputs": [
    {
     "data": {
      "text/plain": [
       "0.22150944195409222"
      ]
     },
     "execution_count": 41,
     "metadata": {},
     "output_type": "execute_result"
    }
   ],
   "source": [
    "# Finding the standard deviation of column 'column_2':\n",
    "df1['column_2'].std()"
   ]
  },
  {
   "cell_type": "code",
   "execution_count": 46,
   "metadata": {},
   "outputs": [
    {
     "data": {
      "text/html": [
       "<div>\n",
       "<style scoped>\n",
       "    .dataframe tbody tr th:only-of-type {\n",
       "        vertical-align: middle;\n",
       "    }\n",
       "\n",
       "    .dataframe tbody tr th {\n",
       "        vertical-align: top;\n",
       "    }\n",
       "\n",
       "    .dataframe thead th {\n",
       "        text-align: right;\n",
       "    }\n",
       "</style>\n",
       "<table border=\"1\" class=\"dataframe\">\n",
       "  <thead>\n",
       "    <tr style=\"text-align: right;\">\n",
       "      <th></th>\n",
       "      <th>column_1</th>\n",
       "      <th>column_2</th>\n",
       "      <th>column_3</th>\n",
       "      <th>column_4</th>\n",
       "      <th>column_5</th>\n",
       "      <th>column_6</th>\n",
       "    </tr>\n",
       "  </thead>\n",
       "  <tbody>\n",
       "    <tr>\n",
       "      <th>count</th>\n",
       "      <td>6.000000</td>\n",
       "      <td>6.000000</td>\n",
       "      <td>6.000000</td>\n",
       "      <td>6.000000</td>\n",
       "      <td>6.000000</td>\n",
       "      <td>6.000000</td>\n",
       "    </tr>\n",
       "    <tr>\n",
       "      <th>mean</th>\n",
       "      <td>0.442894</td>\n",
       "      <td>0.220983</td>\n",
       "      <td>0.552897</td>\n",
       "      <td>0.557902</td>\n",
       "      <td>0.470231</td>\n",
       "      <td>0.502162</td>\n",
       "    </tr>\n",
       "    <tr>\n",
       "      <th>std</th>\n",
       "      <td>0.222280</td>\n",
       "      <td>0.221509</td>\n",
       "      <td>0.309475</td>\n",
       "      <td>0.311930</td>\n",
       "      <td>0.262956</td>\n",
       "      <td>0.314302</td>\n",
       "    </tr>\n",
       "    <tr>\n",
       "      <th>min</th>\n",
       "      <td>0.113510</td>\n",
       "      <td>0.010495</td>\n",
       "      <td>0.155973</td>\n",
       "      <td>0.179289</td>\n",
       "      <td>0.064346</td>\n",
       "      <td>0.105651</td>\n",
       "    </tr>\n",
       "    <tr>\n",
       "      <th>25%</th>\n",
       "      <td>0.352924</td>\n",
       "      <td>0.046716</td>\n",
       "      <td>0.341303</td>\n",
       "      <td>0.362432</td>\n",
       "      <td>0.315494</td>\n",
       "      <td>0.296486</td>\n",
       "    </tr>\n",
       "    <tr>\n",
       "      <th>50%</th>\n",
       "      <td>0.425629</td>\n",
       "      <td>0.156514</td>\n",
       "      <td>0.539514</td>\n",
       "      <td>0.495662</td>\n",
       "      <td>0.583799</td>\n",
       "      <td>0.454782</td>\n",
       "    </tr>\n",
       "    <tr>\n",
       "      <th>75%</th>\n",
       "      <td>0.555982</td>\n",
       "      <td>0.371385</td>\n",
       "      <td>0.766919</td>\n",
       "      <td>0.780983</td>\n",
       "      <td>0.608351</td>\n",
       "      <td>0.746263</td>\n",
       "    </tr>\n",
       "    <tr>\n",
       "      <th>max</th>\n",
       "      <td>0.764475</td>\n",
       "      <td>0.549248</td>\n",
       "      <td>0.964426</td>\n",
       "      <td>0.982685</td>\n",
       "      <td>0.746849</td>\n",
       "      <td>0.910613</td>\n",
       "    </tr>\n",
       "  </tbody>\n",
       "</table>\n",
       "</div>"
      ],
      "text/plain": [
       "       column_1  column_2  column_3  column_4  column_5  column_6\n",
       "count  6.000000  6.000000  6.000000  6.000000  6.000000  6.000000\n",
       "mean   0.442894  0.220983  0.552897  0.557902  0.470231  0.502162\n",
       "std    0.222280  0.221509  0.309475  0.311930  0.262956  0.314302\n",
       "min    0.113510  0.010495  0.155973  0.179289  0.064346  0.105651\n",
       "25%    0.352924  0.046716  0.341303  0.362432  0.315494  0.296486\n",
       "50%    0.425629  0.156514  0.539514  0.495662  0.583799  0.454782\n",
       "75%    0.555982  0.371385  0.766919  0.780983  0.608351  0.746263\n",
       "max    0.764475  0.549248  0.964426  0.982685  0.746849  0.910613"
      ]
     },
     "execution_count": 46,
     "metadata": {},
     "output_type": "execute_result"
    }
   ],
   "source": [
    "# Also you can see all basic statictical measure by just using describe() function of pandas dataframe.\n",
    "df1.describe()"
   ]
  },
  {
   "attachments": {},
   "cell_type": "markdown",
   "metadata": {},
   "source": [
    "5. Replace the data present in the second row of column, ‘column_2’ by a string variable then find the\n",
    "mean of column, column_2.\n",
    "* If you are getting errors in executing it then explain why.\n",
    "\n",
    "    [Hint: To replace the data use df1.loc[] and equate this to string data of your choice.]"
   ]
  },
  {
   "cell_type": "code",
   "execution_count": 47,
   "metadata": {},
   "outputs": [],
   "source": [
    "# Replacing the data in the second row of column 'column_2' with a string variable:\n",
    "df1.loc[2, 'column_2'] = 'string'"
   ]
  },
  {
   "cell_type": "code",
   "execution_count": 51,
   "metadata": {},
   "outputs": [
    {
     "name": "stdout",
     "output_type": "stream",
     "text": [
      "unsupported operand type(s) for +: 'float' and 'str'\n"
     ]
    }
   ],
   "source": [
    "# Finding the mean of column 'column_2':\n",
    "# This will give an error because the 'column_2' column now contains a string value, which cannot be used in numerical calculations.\n",
    "try:\n",
    "    mean = df1['column_2'].mean()\n",
    "except Exception as e:\n",
    "    print(e)"
   ]
  },
  {
   "attachments": {},
   "cell_type": "markdown",
   "metadata": {},
   "source": [
    "6. What do you understand about the windows function in pandas and list the types of windows\n",
    "functions?"
   ]
  },
  {
   "attachments": {},
   "cell_type": "markdown",
   "metadata": {},
   "source": [
    "* In pandas, a window function is a way to perform calculations on a set of data points (i.e., a \"window\") that slide or roll over a larger dataset. This allows for the calculation of aggregate functions and other statistics on subsets of the data, which can be useful for many applications, such as smoothing data, detecting trends, and identifying outliers.\n",
    "* Pandas provides various types of window functions that can be applied to a DataFrame or Series object, including:\n",
    "\n",
    "    * **Rolling window functions -** these functions compute aggregate statistics over a fixed-size window of data that slides over the dataset. Examples include `rolling.mean(), rolling.median(), rolling.max(), rolling.min(),` etc.\n",
    "\n",
    "    * **Expanding window functions -** these functions compute aggregate statistics over all the data points seen so far. Examples include `expanding.sum(), expanding.mean(), expanding.var(),` etc.\n",
    "\n",
    "    * **Exponentially weighted window functions -** these functions assign exponentially decreasing weights to the data points as they get further away from the current point. Examples include `ewm.mean(), ewm.var(), ewm.cov(),` etc.\n",
    "\n",
    "    * **Groupby window functions -** these functions allow for the calculation of aggregate functions over a specified window of data within groups defined by a certain column. Examples include `groupby.rolling(), groupby.expanding(), groupby.ewm(),` etc.\n",
    "\n",
    "    By using these window functions, we can perform various statistical analyses and obtain useful insights from our data.\n"
   ]
  },
  {
   "attachments": {},
   "cell_type": "markdown",
   "metadata": {},
   "source": [
    "7. Write a code to print only the current month and year at the time of answering this question.\n",
    "\n",
    "    [Hint : Use pandas.datetime function.]"
   ]
  },
  {
   "cell_type": "code",
   "execution_count": 52,
   "metadata": {},
   "outputs": [
    {
     "name": "stdout",
     "output_type": "stream",
     "text": [
      "Current month:  3\n",
      "Current year:  2023\n"
     ]
    },
    {
     "name": "stderr",
     "output_type": "stream",
     "text": [
      "C:\\Users\\navne\\AppData\\Local\\Temp\\ipykernel_12800\\2454125436.py:4: FutureWarning: The pandas.datetime class is deprecated and will be removed from pandas in a future version. Import from datetime module instead.\n",
      "  now = pd.datetime.now()\n"
     ]
    }
   ],
   "source": [
    "import pandas as pd\n",
    "\n",
    "# Get the current date and time\n",
    "now = pd.datetime.now()\n",
    "\n",
    "# Extract the month and year from the current date\n",
    "current_month = now.month\n",
    "current_year = now.year\n",
    "\n",
    "# Print the current month and year\n",
    "print(\"Current month: \", current_month)\n",
    "print(\"Current year: \", current_year)\n"
   ]
  },
  {
   "attachments": {},
   "cell_type": "markdown",
   "metadata": {},
   "source": [
    "8. Write a Python program that takes in two dates as input (in the format `YYYY-MM-DD`) and\n",
    "calculates the difference between them in days, hours, and minutes using Pandas time delta. The\n",
    "program should prompt the user to enter the dates and display the result."
   ]
  },
  {
   "cell_type": "code",
   "execution_count": 55,
   "metadata": {},
   "outputs": [
    {
     "name": "stdout",
     "output_type": "stream",
     "text": [
      "Time difference: 7693 days, 0 hours, 0 minutes\n"
     ]
    }
   ],
   "source": [
    "import pandas as pd\n",
    "\n",
    "date1 = input(\"Enter the first date (YYYY-MM-DD): \")\n",
    "date2 = input(\"Enter the second date (YYYY-MM-DD): \")\n",
    "\n",
    "# Calculate the time difference between the two dates\n",
    "time_diff = pd.to_datetime(date2) - pd.to_datetime(date1)\n",
    "\n",
    "# Extract the number of days, hours, and minutes from the time difference\n",
    "days = time_diff.days\n",
    "hours = time_diff.seconds // 3600\n",
    "minutes = (time_diff.seconds // 60) % 60\n",
    "\n",
    "# Print the results\n",
    "print(\"Time difference: {} days, {} hours, {} minutes\".format(days, hours, minutes))\n"
   ]
  },
  {
   "attachments": {},
   "cell_type": "markdown",
   "metadata": {},
   "source": [
    "9. Write a Python program that reads a CSV file containing categorical data and converts a specified\n",
    "column to a categorical data type. The program should prompt the user to enter the file path, column\n",
    "name, and category order, and then display the sorted data."
   ]
  },
  {
   "cell_type": "code",
   "execution_count": 62,
   "metadata": {},
   "outputs": [],
   "source": [
    "import pandas as pd\n",
    "\n",
    "# Prompt the user to enter the file path, column name, and category order\n",
    "file_path = input(\"Enter the file path: \") # C:\\Users\\navne\\Downloads\\data.csv\n",
    "column_name = input(\"Enter the column name to convert to categorical: \") # horsepower\n",
    "category_order = input(\"Enter the category order (comma-separated): \").split(\",\") \n",
    "# 18,0,bmw x3,gas,std,four,sedan,rwd,front,110,197,70.9,56.3,3505,ohc,six,209,mpfi,3.62,3.39,8,182,5400,15,20,36880"
   ]
  },
  {
   "cell_type": "code",
   "execution_count": 63,
   "metadata": {},
   "outputs": [],
   "source": [
    "# Read the CSV file\n",
    "df = pd.read_csv(file_path)"
   ]
  },
  {
   "cell_type": "code",
   "execution_count": 64,
   "metadata": {},
   "outputs": [],
   "source": [
    "# Convert the specified column to a categorical data type\n",
    "df[column_name] = pd.Categorical(df[column_name], categories=category_order, ordered=True)"
   ]
  },
  {
   "cell_type": "code",
   "execution_count": 66,
   "metadata": {},
   "outputs": [
    {
     "data": {
      "text/html": [
       "<div>\n",
       "<style scoped>\n",
       "    .dataframe tbody tr th:only-of-type {\n",
       "        vertical-align: middle;\n",
       "    }\n",
       "\n",
       "    .dataframe tbody tr th {\n",
       "        vertical-align: top;\n",
       "    }\n",
       "\n",
       "    .dataframe thead th {\n",
       "        text-align: right;\n",
       "    }\n",
       "</style>\n",
       "<table border=\"1\" class=\"dataframe\">\n",
       "  <thead>\n",
       "    <tr style=\"text-align: right;\">\n",
       "      <th></th>\n",
       "      <th>car_ID</th>\n",
       "      <th>symboling</th>\n",
       "      <th>CarName</th>\n",
       "      <th>fueltype</th>\n",
       "      <th>aspiration</th>\n",
       "      <th>doornumber</th>\n",
       "      <th>carbody</th>\n",
       "      <th>drivewheel</th>\n",
       "      <th>enginelocation</th>\n",
       "      <th>wheelbase</th>\n",
       "      <th>...</th>\n",
       "      <th>enginesize</th>\n",
       "      <th>fuelsystem</th>\n",
       "      <th>boreratio</th>\n",
       "      <th>stroke</th>\n",
       "      <th>compressionratio</th>\n",
       "      <th>horsepower</th>\n",
       "      <th>peakrpm</th>\n",
       "      <th>citympg</th>\n",
       "      <th>highwaympg</th>\n",
       "      <th>price</th>\n",
       "    </tr>\n",
       "  </thead>\n",
       "  <tbody>\n",
       "    <tr>\n",
       "      <th>95</th>\n",
       "      <td>96</td>\n",
       "      <td>1</td>\n",
       "      <td>nissan juke</td>\n",
       "      <td>gas</td>\n",
       "      <td>std</td>\n",
       "      <td>two</td>\n",
       "      <td>hatchback</td>\n",
       "      <td>fwd</td>\n",
       "      <td>front</td>\n",
       "      <td>94.5</td>\n",
       "      <td>...</td>\n",
       "      <td>97</td>\n",
       "      <td>2bbl</td>\n",
       "      <td>3.15</td>\n",
       "      <td>3.29</td>\n",
       "      <td>9.4</td>\n",
       "      <td>NaN</td>\n",
       "      <td>5200</td>\n",
       "      <td>31</td>\n",
       "      <td>37</td>\n",
       "      <td>7799.0</td>\n",
       "    </tr>\n",
       "    <tr>\n",
       "      <th>96</th>\n",
       "      <td>97</td>\n",
       "      <td>1</td>\n",
       "      <td>nissan latio</td>\n",
       "      <td>gas</td>\n",
       "      <td>std</td>\n",
       "      <td>four</td>\n",
       "      <td>sedan</td>\n",
       "      <td>fwd</td>\n",
       "      <td>front</td>\n",
       "      <td>94.5</td>\n",
       "      <td>...</td>\n",
       "      <td>97</td>\n",
       "      <td>2bbl</td>\n",
       "      <td>3.15</td>\n",
       "      <td>3.29</td>\n",
       "      <td>9.4</td>\n",
       "      <td>NaN</td>\n",
       "      <td>5200</td>\n",
       "      <td>31</td>\n",
       "      <td>37</td>\n",
       "      <td>7499.0</td>\n",
       "    </tr>\n",
       "    <tr>\n",
       "      <th>97</th>\n",
       "      <td>98</td>\n",
       "      <td>1</td>\n",
       "      <td>nissan note</td>\n",
       "      <td>gas</td>\n",
       "      <td>std</td>\n",
       "      <td>four</td>\n",
       "      <td>wagon</td>\n",
       "      <td>fwd</td>\n",
       "      <td>front</td>\n",
       "      <td>94.5</td>\n",
       "      <td>...</td>\n",
       "      <td>97</td>\n",
       "      <td>2bbl</td>\n",
       "      <td>3.15</td>\n",
       "      <td>3.29</td>\n",
       "      <td>9.4</td>\n",
       "      <td>NaN</td>\n",
       "      <td>5200</td>\n",
       "      <td>31</td>\n",
       "      <td>37</td>\n",
       "      <td>7999.0</td>\n",
       "    </tr>\n",
       "    <tr>\n",
       "      <th>98</th>\n",
       "      <td>99</td>\n",
       "      <td>2</td>\n",
       "      <td>nissan clipper</td>\n",
       "      <td>gas</td>\n",
       "      <td>std</td>\n",
       "      <td>two</td>\n",
       "      <td>hardtop</td>\n",
       "      <td>fwd</td>\n",
       "      <td>front</td>\n",
       "      <td>95.1</td>\n",
       "      <td>...</td>\n",
       "      <td>97</td>\n",
       "      <td>2bbl</td>\n",
       "      <td>3.15</td>\n",
       "      <td>3.29</td>\n",
       "      <td>9.4</td>\n",
       "      <td>NaN</td>\n",
       "      <td>5200</td>\n",
       "      <td>31</td>\n",
       "      <td>37</td>\n",
       "      <td>8249.0</td>\n",
       "    </tr>\n",
       "    <tr>\n",
       "      <th>99</th>\n",
       "      <td>100</td>\n",
       "      <td>0</td>\n",
       "      <td>nissan rogue</td>\n",
       "      <td>gas</td>\n",
       "      <td>std</td>\n",
       "      <td>four</td>\n",
       "      <td>hatchback</td>\n",
       "      <td>fwd</td>\n",
       "      <td>front</td>\n",
       "      <td>97.2</td>\n",
       "      <td>...</td>\n",
       "      <td>120</td>\n",
       "      <td>2bbl</td>\n",
       "      <td>3.33</td>\n",
       "      <td>3.47</td>\n",
       "      <td>8.5</td>\n",
       "      <td>NaN</td>\n",
       "      <td>5200</td>\n",
       "      <td>27</td>\n",
       "      <td>34</td>\n",
       "      <td>8949.0</td>\n",
       "    </tr>\n",
       "  </tbody>\n",
       "</table>\n",
       "<p>5 rows × 26 columns</p>\n",
       "</div>"
      ],
      "text/plain": [
       "    car_ID  symboling         CarName fueltype aspiration doornumber  \\\n",
       "95      96          1     nissan juke      gas        std        two   \n",
       "96      97          1    nissan latio      gas        std       four   \n",
       "97      98          1     nissan note      gas        std       four   \n",
       "98      99          2  nissan clipper      gas        std        two   \n",
       "99     100          0    nissan rogue      gas        std       four   \n",
       "\n",
       "      carbody drivewheel enginelocation  wheelbase  ...  enginesize  \\\n",
       "95  hatchback        fwd          front       94.5  ...          97   \n",
       "96      sedan        fwd          front       94.5  ...          97   \n",
       "97      wagon        fwd          front       94.5  ...          97   \n",
       "98    hardtop        fwd          front       95.1  ...          97   \n",
       "99  hatchback        fwd          front       97.2  ...         120   \n",
       "\n",
       "    fuelsystem  boreratio  stroke compressionratio horsepower  peakrpm  \\\n",
       "95        2bbl       3.15    3.29              9.4        NaN     5200   \n",
       "96        2bbl       3.15    3.29              9.4        NaN     5200   \n",
       "97        2bbl       3.15    3.29              9.4        NaN     5200   \n",
       "98        2bbl       3.15    3.29              9.4        NaN     5200   \n",
       "99        2bbl       3.33    3.47              8.5        NaN     5200   \n",
       "\n",
       "   citympg  highwaympg   price  \n",
       "95      31          37  7799.0  \n",
       "96      31          37  7499.0  \n",
       "97      31          37  7999.0  \n",
       "98      31          37  8249.0  \n",
       "99      27          34  8949.0  \n",
       "\n",
       "[5 rows x 26 columns]"
      ]
     },
     "execution_count": 66,
     "metadata": {},
     "output_type": "execute_result"
    }
   ],
   "source": [
    "# Display the sorted data\n",
    "df.sort_values(by=column_name).tail()"
   ]
  },
  {
   "attachments": {},
   "cell_type": "markdown",
   "metadata": {},
   "source": [
    "10. Write a Python program that reads a CSV file containing sales data for different products and\n",
    "visualizes the data using a stacked bar chart to show the sales of each product category over time. The\n",
    "program should prompt the user to enter the file path and display the chart."
   ]
  },
  {
   "cell_type": "code",
   "execution_count": 88,
   "metadata": {},
   "outputs": [
    {
     "data": {
      "image/png": "[encoded data removed]",
      "text/plain": [
       "<Figure size 1000x600 with 1 Axes>"
      ]
     },
     "metadata": {},
     "output_type": "display_data"
    }
   ],
   "source": [
    "import pandas as pd\n",
    "import matplotlib.pyplot as plt\n",
    "\n",
    "file_path = input(\"Enter the file path: \") # C:\\Users\\navne\\Downloads\\sale.csv\n",
    "df = pd.read_csv(file_path)\n",
    "df['Date'] = pd.to_datetime(df['Date'])\n",
    "\n",
    "# Group the data by product category and date, and sum the sales\n",
    "df_grouped = df.groupby(['Product Category', 'Date']).sum().reset_index()\n",
    "\n",
    "# Pivot the data to create a table with product categories as columns and dates as rows\n",
    "df_pivot = df_grouped.pivot(index='Date', columns='Product Category', values='Sales')\n",
    "\n",
    "# Create a stacked bar chart of the product category sales over time\n",
    "ax = df_pivot.plot(kind='bar', stacked=True, figsize=(10, 6))\n",
    "\n",
    "# Set the chart title and axis labels\n",
    "ax.set_title('Product Category Sales over Time')\n",
    "ax.set_xlabel('Date')\n",
    "ax.set_ylabel('Sales')\n",
    "\n",
    "# Display the chart\n",
    "plt.show()\n"
   ]
  },
  {
   "attachments": {},
   "cell_type": "markdown",
   "metadata": {},
   "source": [
    "11. You are given a CSV file containing student data that includes the student ID and their test score. Write\n",
    "    a Python program that reads the CSV file, calculates the mean, median, and mode of the test scores, and\n",
    "    displays the results in a table.\n",
    "\n",
    "    The program should do the followingM\n",
    "\n",
    "    * Prompt the user to enter the file path of the CSV file containing the student dataR\n",
    "    * Read the CSV file into a Pandas DataFrameR\n",
    "    * Calculate the mean, median, and mode of the test scores using Pandas toolsR\n",
    "    * Display the mean, median, and mode in a table.\n",
    "\n",
    "    Assume the CSV file contains the following columnsM\n",
    "\n",
    "    * Student ID: The ID of the studentR\n",
    "    * Test Score: The score of the student's test.\n",
    "\n",
    "    Example usage of the program:\n",
    "\n",
    "    Enter the file path of the CSV file containing the student data: student_data.csv\n",
    "\n",
    "| Statistic | Value |\n",
    "|--|--|\n",
    "| Mean | 79.6 |\n",
    "| Median | 82 |\n",
    "| Mode | 85, 90 |\n",
    "\n",
    "    Assume that the CSV file student_data.csv contains the following data:\n",
    "\n",
    "|Student ID|Test Score|\n",
    "|--|--|\n",
    "|1|85|\n",
    "|2|90|\n",
    "|3|80|\n",
    "|4|75|\n",
    "|5|85|\n",
    "|6|82|\n",
    "|7|78|\n",
    "|8|85|\n",
    "|9|90|\n",
    "|10|85|\n",
    "\n",
    "    The program should calculate the mean, median, and mode of the test scores and display the results\n",
    "    in a table."
   ]
  },
  {
   "cell_type": "code",
   "execution_count": 1,
   "metadata": {},
   "outputs": [
    {
     "name": "stdout",
     "output_type": "stream",
     "text": [
      "  Statistic Value\n",
      "0      Mean  83.5\n",
      "1    Median  85.0\n",
      "2      Mode  [85]\n"
     ]
    }
   ],
   "source": [
    "import pandas as pd\n",
    "\n",
    "file_path = input(\"Enter the file path of the CSV file containing the student data: \") # C:\\Users\\navne\\Downloads\\student_data.csv\n",
    "df = pd.read_csv(file_path)\n",
    "\n",
    "# Calculate the mean, median, and mode of the test scores using Pandas tools\n",
    "mean = df['Test Score'].mean()\n",
    "median = df['Test Score'].median()\n",
    "mode = df['Test Score'].mode()\n",
    "\n",
    "# Display the mean, median, and mode in a table\n",
    "table = pd.DataFrame({'Statistic': ['Mean', 'Median', 'Mode'], 'Value': [mean, median, list(mode)]})\n",
    "print(table)\n"
   ]
  }
 ],
 "metadata": {
  "kernelspec": {
   "display_name": "base",
   "language": "python",
   "name": "python3"
  },
  "language_info": {
   "codemirror_mode": {
    "name": "ipython",
    "version": 3
   },
   "file_extension": ".py",
   "mimetype": "text/x-python",
   "name": "python",
   "nbconvert_exporter": "python",
   "pygments_lexer": "ipython3",
   "version": "3.10.9"
  },
  "orig_nbformat": 4
 },
 "nbformat": 4,
 "nbformat_minor": 2
}
