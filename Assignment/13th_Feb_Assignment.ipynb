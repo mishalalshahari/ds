{
  "nbformat": 4,
  "nbformat_minor": 0,
  "metadata": {
    "colab": {
      "provenance": []
    },
    "kernelspec": {
      "name": "python3",
      "display_name": "Python 3"
    },
    "language_info": {
      "name": "python"
    }
  },
  "cells": [
    {
      "cell_type": "markdown",
      "source": [
        "# Assignment : 13(13th Feb'2023)"
      ],
      "metadata": {
        "id": "c9xrVhkCpgbP"
      }
    },
    {
      "cell_type": "markdown",
      "source": [
        "1. Exception class is the base class for all the exceptions. When creating a custom exception, it is important to use the Exception class as the base class for the custom exception for several reasons :\n",
        "\n",
        "  * **Inheritance :** By inheriting from the Exception class, the custom exception class can inherit all the behaviors and properties of the base Exception class. This includes handling and propagating the exception through the call stack.\n",
        "\n",
        "  * **Standardization :** Using the Exception class ensures that the custom exception class follows the standard Python exception hierarchy, making it easier to understand and use in the context of Python programs.\n",
        "\n",
        "  * **Consistency :** By using the Exception class, the custom exception class will behave consistently with other built-in exceptions in Python. This makes it easier for developers to understand and handle the exception.\n",
        "\n",
        "  * **Error reporting :** When an error occurs, Python automatically generates an error message that includes the name of the exception class. By using the Exception class, the custom exception class will be reported with a meaningful and recognizable name.\n",
        "\n",
        "  In short, we using the Exception class as the base class for custom exceptions helps ensure that the custom exception class is well-behaved, consistent, and easy to understand."
      ],
      "metadata": {
        "id": "qhXmyXyo0Nya"
      }
    },
    {
      "cell_type": "markdown",
      "source": [
        "2. Here is the Python program to print the Python Exception Hierarchy :"
      ],
      "metadata": {
        "id": "ND57RKC656-w"
      }
    },
    {
      "cell_type": "code",
      "execution_count": null,
      "metadata": {
        "id": "NSLrjh_HpbL6",
        "colab": {
          "base_uri": "https://localhost:8080/"
        },
        "outputId": "1f5fc512-eb9d-4136-f2e8-c5fcd2cb3ddf"
      },
      "outputs": [
        {
          "output_type": "stream",
          "name": "stdout",
          "text": [
            "Exception\n",
            "\t TypeError\n",
            "\t\t MultipartConversionError\n",
            "\t\t FloatOperation\n",
            "\t\t UFuncTypeError\n",
            "\t\t ConversionError\n",
            "\t StopAsyncIteration\n",
            "\t StopIteration\n",
            "\t ImportError\n",
            "\t\t ModuleNotFoundError\n",
            "\t\t ZipImportError\n",
            "\t OSError\n",
            "\t\t ConnectionError\n",
            "\t\t BlockingIOError\n",
            "\t\t ChildProcessError\n",
            "\t\t FileExistsError\n",
            "\t\t FileNotFoundError\n",
            "\t\t IsADirectoryError\n",
            "\t\t NotADirectoryError\n",
            "\t\t InterruptedError\n",
            "\t\t PermissionError\n",
            "\t\t ProcessLookupError\n",
            "\t\t TimeoutError\n",
            "\t\t UnsupportedOperation\n",
            "\t\t ItimerError\n",
            "\t\t Error\n",
            "\t\t SpecialFileError\n",
            "\t\t ExecError\n",
            "\t\t ReadError\n",
            "\t\t herror\n",
            "\t\t gaierror\n",
            "\t\t timeout\n",
            "\t\t SSLError\n",
            "\t\t URLError\n",
            "\t\t BadGzipFile\n",
            "\t\t ProxyError\n",
            "\t\t UnidentifiedImageError\n",
            "\t EOFError\n",
            "\t\t IncompleteReadError\n",
            "\t RuntimeError\n",
            "\t\t RecursionError\n",
            "\t\t NotImplementedError\n",
            "\t\t _DeadlockError\n",
            "\t\t BrokenBarrierError\n",
            "\t\t BrokenExecutor\n",
            "\t\t SendfileNotAvailableError\n",
            "\t\t TooHardError\n",
            "\t\t ExtractionError\n",
            "\t\t VariableError\n",
            "\t NameError\n",
            "\t\t UnboundLocalError\n",
            "\t AttributeError\n",
            "\t SyntaxError\n",
            "\t\t IndentationError\n",
            "\t LookupError\n",
            "\t\t IndexError\n",
            "\t\t KeyError\n",
            "\t\t CodecRegistryError\n",
            "\t ValueError\n",
            "\t\t UnicodeError\n",
            "\t\t UnsupportedOperation\n",
            "\t\t JSONDecodeError\n",
            "\t\t Error\n",
            "\t\t ClassNotFound\n",
            "\t\t SSLCertVerificationError\n",
            "\t\t ClipboardEmpty\n",
            "\t\t MessageDefect\n",
            "\t\t IllegalMonthError\n",
            "\t\t IllegalWeekdayError\n",
            "\t\t MacroToEdit\n",
            "\t\t ParserError\n",
            "\t\t DisabledFunctionError\n",
            "\t\t AxisError\n",
            "\t\t NonIntersectingPathException\n",
            "\t\t InvalidFileException\n",
            "\t\t InvalidVersion\n",
            "\t\t InvalidSpecifier\n",
            "\t\t InvalidMarker\n",
            "\t\t UndefinedComparison\n",
            "\t\t UndefinedEnvironmentName\n",
            "\t\t InvalidRequirement\n",
            "\t AssertionError\n",
            "\t ArithmeticError\n",
            "\t\t FloatingPointError\n",
            "\t\t OverflowError\n",
            "\t\t ZeroDivisionError\n",
            "\t\t DecimalException\n",
            "\t SystemError\n",
            "\t\t CodecRegistryError\n",
            "\t ReferenceError\n",
            "\t MemoryError\n",
            "\t\t MemoryError\n",
            "\t BufferError\n",
            "\t Warning\n",
            "\t\t UserWarning\n",
            "\t\t DeprecationWarning\n",
            "\t\t PendingDeprecationWarning\n",
            "\t\t SyntaxWarning\n",
            "\t\t RuntimeWarning\n",
            "\t\t FutureWarning\n",
            "\t\t ImportWarning\n",
            "\t\t UnicodeWarning\n",
            "\t\t BytesWarning\n",
            "\t\t ResourceWarning\n",
            "\t\t DeprecatedTzFormatWarning\n",
            "\t\t MathTextWarning\n",
            "\t\t PkgResourcesDeprecationWarning\n",
            "\t _OptionError\n",
            "\t error\n",
            "\t Verbose\n",
            "\t Error\n",
            "\t _Error\n",
            "\t SubprocessError\n",
            "\t\t CalledProcessError\n",
            "\t\t TimeoutExpired\n",
            "\t Error\n",
            "\t TokenError\n",
            "\t StopTokenizing\n",
            "\t error\n",
            "\t LZMAError\n",
            "\t RegistryError\n",
            "\t _GiveupOnFastCopy\n",
            "\t EndOfBlock\n",
            "\t TraitError\n",
            "\t _GiveupOnSendfile\n",
            "\t error\n",
            "\t PickleError\n",
            "\t\t PicklingError\n",
            "\t\t UnpicklingError\n",
            "\t _Stop\n",
            "\t Empty\n",
            "\t Full\n",
            "\t ArgumentError\n",
            "\t ArgumentTypeError\n",
            "\t ConfigError\n",
            "\t\t ConfigLoaderError\n",
            "\t\t ConfigFileNotFound\n",
            "\t ConfigurableError\n",
            "\t\t MultipleInstanceError\n",
            "\t ApplicationError\n",
            "\t ErrorDuringImport\n",
            "\t BdbQuit\n",
            "\t Restart\n",
            "\t ExceptionPexpect\n",
            "\t\t EOF\n",
            "\t\t TIMEOUT\n",
            "\t error\n",
            "\t PtyProcessError\n",
            "\t FindCmdError\n",
            "\t HomeDirError\n",
            "\t ProfileDirError\n",
            "\t IPythonCoreError\n",
            "\t\t TryNext\n",
            "\t\t UsageError\n",
            "\t\t StdinNotImplementedError\n",
            "\t InputRejected\n",
            "\t GetoptError\n",
            "\t Incomplete\n",
            "\t OptionError\n",
            "\t ErrorToken\n",
            "\t Error\n",
            "\t\t CancelledError\n",
            "\t\t TimeoutError\n",
            "\t\t InvalidStateError\n",
            "\t TimeoutError\n",
            "\t InvalidStateError\n",
            "\t LimitOverrunError\n",
            "\t QueueEmpty\n",
            "\t QueueFull\n",
            "\t PrefilterError\n",
            "\t AliasError\n",
            "\t\t InvalidAliasError\n",
            "\t Error\n",
            "\t\t InterfaceError\n",
            "\t\t DatabaseError\n",
            "\t Warning\n",
            "\t SpaceInInput\n",
            "\t TaskLocalNotSetError\n",
            "\t InvalidStateError\n",
            "\t Return\n",
            "\t NoRunningApplicationError\n",
            "\t ValidationError\n",
            "\t EditReadOnlyBuffer\n",
            "\t _Retry\n",
            "\t DOMException\n",
            "\t\t IndexSizeErr\n",
            "\t\t DomstringSizeErr\n",
            "\t\t HierarchyRequestErr\n",
            "\t\t WrongDocumentErr\n",
            "\t\t InvalidCharacterErr\n",
            "\t\t NoDataAllowedErr\n",
            "\t\t NoModificationAllowedErr\n",
            "\t\t NotFoundErr\n",
            "\t\t NotSupportedErr\n",
            "\t\t InuseAttributeErr\n",
            "\t\t InvalidStateErr\n",
            "\t\t SyntaxErr\n",
            "\t\t InvalidModificationErr\n",
            "\t\t NamespaceErr\n",
            "\t\t InvalidAccessErr\n",
            "\t\t ValidationErr\n",
            "\t InvalidLayoutError\n",
            "\t HeightIsUnknownError\n",
            "\t MessageError\n",
            "\t\t MessageParseError\n",
            "\t\t MultipartConversionError\n",
            "\t\t CharsetError\n",
            "\t Error\n",
            "\t HTTPException\n",
            "\t\t NotConnected\n",
            "\t\t InvalidURL\n",
            "\t\t UnknownProtocol\n",
            "\t\t UnknownTransferEncoding\n",
            "\t\t UnimplementedFileMode\n",
            "\t\t IncompleteRead\n",
            "\t\t ImproperConnectionState\n",
            "\t\t BadStatusLine\n",
            "\t\t LineTooLong\n",
            "\t InteractivelyDefined\n",
            "\t KillEmbedded\n",
            "\t ArgumentError\n",
            "\t ZMQBaseError\n",
            "\t\t ZMQError\n",
            "\t\t ZMQBindError\n",
            "\t\t NotDone\n",
            "\t NoIPAddresses\n",
            "\t Error\n",
            "\t\t NoSectionError\n",
            "\t\t DuplicateSectionError\n",
            "\t\t DuplicateOptionError\n",
            "\t\t NoOptionError\n",
            "\t\t InterpolationError\n",
            "\t\t ParsingError\n",
            "\t InvalidPortNumber\n",
            "\t DuplicateKernelError\n",
            "\t error\n",
            "\t ReturnValueIgnoredError\n",
            "\t KeyReuseError\n",
            "\t UnknownKeyError\n",
            "\t LeakedCallbackError\n",
            "\t BadYieldError\n",
            "\t ReturnValueIgnoredError\n",
            "\t Return\n",
            "\t QueueEmpty\n",
            "\t QueueFull\n",
            "\t Error\n",
            "\t\t AuthorizationError\n",
            "\t\t RuntimeManagementError\n",
            "\t\t MessageError\n",
            "\t WidgetException\n",
            "\t JsException\n",
            "\t FormattedTracebackError\n",
            "\t Error\n",
            "\t\t NoSuchProcess\n",
            "\t\t AccessDenied\n",
            "\t\t TimeoutExpired\n",
            "\t _Ipv6UnsupportedError\n",
            "\t HttpLib2Error\n",
            "\t\t HttpLib2ErrorWithResponse\n",
            "\t\t MalformedHeader\n",
            "\t\t RelativeURIError\n",
            "\t\t ServerNotFoundError\n",
            "\t\t ProxiesUnavailableError\n",
            "\t LapackError\n",
            "\t LinAlgError\n",
            "\t ConverterError\n",
            "\t\t ConverterLockError\n",
            "\t MAError\n",
            "\t\t MaskError\n",
            "\t ParseBaseException\n",
            "\t\t ParseException\n",
            "\t\t ParseFatalException\n",
            "\t RecursiveGrammarException\n",
            "\t DuplicateConstraint\n",
            "\t UnsatisfiableConstraint\n",
            "\t UnknownConstraint\n",
            "\t DuplicateEditVariable\n",
            "\t UnknownEditVariable\n",
            "\t BadRequiredStrength\n",
            "\t NonGuiException\n",
            "\t Error\n",
            "\t InvalidIndexError\n",
            "\t TerminateTrajectory\n",
            "\t DecompressionBombError\n",
            "\t FFIError\n",
            "\t CDefError\n",
            "\t VerificationError\n",
            "\t VerificationMissing\n",
            "\t PkgConfigError\n",
            "\t NoFreePortFoundError\n",
            "\t ExpatError\n",
            "\t Error\n",
            "\t\t ProtocolError\n",
            "\t\t ResponseError\n",
            "\t\t Fault\n",
            "\t BadZipFile\n",
            "\t LargeZipFile\n",
            "\t ParseBaseException\n",
            "\t\t ParseException\n",
            "\t\t ParseFatalException\n",
            "\t RecursiveGrammarException\n",
            "\t ResolutionError\n",
            "\t\t VersionConflict\n",
            "\t\t DistributionNotFound\n",
            "\t\t UnknownExtra\n",
            "\t UnableToResolveVariableException\n",
            "GeneratorExit\n",
            "SystemExit\n",
            "KeyboardInterrupt\n",
            "CancelledError\n"
          ]
        }
      ],
      "source": [
        "# _get the Exception class\n",
        "exception_class = BaseException.__subclasses__()\n",
        "\n",
        "# _iterate through each exception class and print their names\n",
        "for exc in exception_class:\n",
        "    print(exc.__name__)\n",
        "    # _get the subclasses of the exception class and print their names\n",
        "    for sub_exc in exc.__subclasses__():\n",
        "        print(\"\\t\", sub_exc.__name__)\n",
        "        # _get the subclasses of the sub-exception class and print their names\n",
        "        for sub_sub_exc in sub_exc.__subclasses__():\n",
        "            print(\"\\t\\t\", sub_sub_exc.__name__)"
      ]
    },
    {
      "cell_type": "markdown",
      "source": [
        "3. The `ArithmeticError` class is a subclass of the `Exception` class in Python that represents errors that occur during arithmetic operations. It is a base class for several other built-in exception classes that relate to arithmetic errors.\n",
        "\n",
        "  Here are two examples of the errors defined in the `ArithmeticError` class :"
      ],
      "metadata": {
        "id": "lbE1Q2906Bu-"
      }
    },
    {
      "cell_type": "markdown",
      "source": [
        "* **`ZeroDivisionError :`** This error is raised when a number is divided by zero. \n",
        "  "
      ],
      "metadata": {
        "id": "Q36HBtiv7Iz8"
      }
    },
    {
      "cell_type": "code",
      "source": [
        "# division by zero\n",
        "try:\n",
        "    x = 1 / 0\n",
        "except ZeroDivisionError:\n",
        "    print(\"Cannot divide by zero\")\n"
      ],
      "metadata": {
        "colab": {
          "base_uri": "https://localhost:8080/"
        },
        "id": "iMq15_9k7J2S",
        "outputId": "df065b54-4dc1-4e8e-be47-9465378f54e6"
      },
      "execution_count": null,
      "outputs": [
        {
          "output_type": "stream",
          "name": "stdout",
          "text": [
            "Cannot divide by zero\n"
          ]
        }
      ]
    },
    {
      "cell_type": "markdown",
      "source": [
        "* **`OverflowError :`** This error is raised when an arithmetic operation results in a number that is too large to be represented in the available memory."
      ],
      "metadata": {
        "id": "2o7VwYVj7n4O"
      }
    },
    {
      "cell_type": "code",
      "source": [
        "import sys\n",
        "\n",
        "x = 2\n",
        "y = sys.maxsize\n",
        "\n",
        "try:\n",
        "    result = x ** y\n",
        "except OverflowError as e:\n",
        "    print(f\"Error: {e}\")\n",
        "\n",
        "# Error: Python int too large to convert to C long"
      ],
      "metadata": {
        "id": "XonwtngN71TR"
      },
      "execution_count": null,
      "outputs": []
    },
    {
      "cell_type": "markdown",
      "source": [
        "4. The `LookupError` is a built-in class in Python that serves as a base class for exceptions related to failed lookups in mappings (such as dictionaries) or sequences (such as lists). It is raised when an item cannot be found in a collection. \n",
        "Here are two examples of errors that are defined in the `LookupError` class:\n",
        "\n"
      ],
      "metadata": {
        "id": "_oi33CGX-eDV"
      }
    },
    {
      "cell_type": "markdown",
      "source": [
        "* **`KeyError :`** This error occurs when you try to access a non-existent key in a dictionary. "
      ],
      "metadata": {
        "id": "3By-X-yk_kRo"
      }
    },
    {
      "cell_type": "code",
      "source": [
        "my_dict = {'apple': 1, 'banana': 2, 'orange': 3}\n",
        "try :\n",
        "  print(my_dict[\"pear\"])\n",
        "except KeyError as e:\n",
        "  print(\"KeyError:\",e)\n"
      ],
      "metadata": {
        "colab": {
          "base_uri": "https://localhost:8080/"
        },
        "id": "Xhnv-Q1a_i0Z",
        "outputId": "e60ba091-0884-421a-ee1f-7e0b3084c137"
      },
      "execution_count": 5,
      "outputs": [
        {
          "output_type": "stream",
          "name": "stdout",
          "text": [
            "KeyError: 'pear'\n"
          ]
        }
      ]
    },
    {
      "cell_type": "markdown",
      "source": [
        "* **`IndexError :`** This error occurs when you try to access an item in a list or other sequence using an invalid index."
      ],
      "metadata": {
        "id": "CJfWKh5LAZYN"
      }
    },
    {
      "cell_type": "code",
      "source": [
        "my_list = [1, 2, 3]\n",
        "try :\n",
        "  print(my_list[4])\n",
        "except IndexError as e:\n",
        "  print(e)"
      ],
      "metadata": {
        "colab": {
          "base_uri": "https://localhost:8080/"
        },
        "id": "hU71_AZSAYGW",
        "outputId": "0e34b477-5011-4529-c438-f92b45191fae"
      },
      "execution_count": 6,
      "outputs": [
        {
          "output_type": "stream",
          "name": "stdout",
          "text": [
            "list index out of range\n"
          ]
        }
      ]
    },
    {
      "cell_type": "markdown",
      "source": [
        "5. In Python, `ImportError` is an exception that is raised when a module cannot be imported.\n",
        "\n",
        "* `ImportError` is a base class for several other exceptions, including `ModuleNotFoundError`.\n",
        "\n",
        "* `ModuleNotFoundError` is a specific type of `ImportError` that is raised when a module cannot be found."
      ],
      "metadata": {
        "id": "WxGRPk67A0Zp"
      }
    },
    {
      "cell_type": "code",
      "source": [
        "# Here's an example of how ModuleNotFoundError can be raised.\n",
        "try :\n",
        "  import pwskills\n",
        "except ModuleNotFoundError as e:\n",
        "  print(e)"
      ],
      "metadata": {
        "colab": {
          "base_uri": "https://localhost:8080/"
        },
        "id": "pH3TRk3wCjbD",
        "outputId": "1850d1b2-d1fd-4f49-b2c0-c24f0b5dd528"
      },
      "execution_count": 7,
      "outputs": [
        {
          "output_type": "stream",
          "name": "stdout",
          "text": [
            "No module named 'pwskills'\n"
          ]
        }
      ]
    },
    {
      "cell_type": "markdown",
      "source": [
        "6. Exception handling is an important aspect of writing robust and reliable Python code. Here are some best practices for handling exceptions in Python:\n",
        "\n",
        "* **Catch only the exceptions you expect :** It's generally not a good idea to catch all exceptions using a bare `except` statement, as this can mask unexpected errors and make debugging more difficult. Instead, catch only the specific exceptions that you expect to encounter.\n",
        "\n",
        "* **Handle exceptions at the appropriate level :** Handle exceptions at the lowest level possible, where the error can be easily resolved or logged. This helps to keep your code organized and makes it easier to pinpoint the source of errors.\n",
        "\n",
        "* **Use context managers to ensure proper resource handling :** Use context managers (with statements) to automatically close resources such as files and network connections when they are no longer needed. This can help to prevent errors caused by unclosed resources.\n",
        "\n",
        "* **Provide useful error messages :** When an exception is raised, provide a clear and informative error message that explains what went wrong and how to fix it. This can make it easier for other developers (or yourself) to debug the code.\n",
        "\n",
        "* **Avoid silent failures :** Avoid catching an exception and not doing anything with it, as this can cause silent failures that are difficult to diagnose. Instead, log the error or raise it again (or a different exception) after handling it.\n",
        "\n",
        "* **Don't overuse exceptions :** While exceptions are a powerful tool, overusing them can lead to slow and confusing code. Use exceptions only for exceptional cases, and use other control flow statements (such as `if` statements) for normal program flow.\n",
        "\n",
        "* **Test exception handling :** Make sure to test your exception handling code to ensure that it works as expected. Test cases should include scenarios where exceptions are raised and where they are not, as well as cases where multiple exceptions may be raised."
      ],
      "metadata": {
        "id": "XFN-Z7WlDHxY"
      }
    }
  ]
}