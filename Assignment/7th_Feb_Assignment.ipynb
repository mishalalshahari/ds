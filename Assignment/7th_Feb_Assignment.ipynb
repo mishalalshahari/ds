{
  "nbformat": 4,
  "nbformat_minor": 0,
  "metadata": {
    "colab": {
      "provenance": []
    },
    "kernelspec": {
      "name": "python3",
      "display_name": "Python 3"
    },
    "language_info": {
      "name": "python"
    }
  },
  "cells": [
    {
      "cell_type": "markdown",
      "source": [
        "# Assignment - 7th February"
      ],
      "metadata": {
        "id": "DkbEZ-56RfRy"
      }
    },
    {
      "cell_type": "markdown",
      "source": [
        "Q1. You are writing code for a company. The requirement of the company is that you create a python\n",
        "function that will check whether the password entered by the user is correct or not. The function should\n",
        "take the password as input and return the string “Valid Password” if the entered password follows the\n",
        "below-given password guidelines else it should return “Invalid Password”."
      ],
      "metadata": {
        "id": "roy8nksiP0Yp"
      }
    },
    {
      "cell_type": "code",
      "source": [
        "def validation(pwd):\n",
        "    if len(pwd) != 10:\n",
        "        return \"Invalid Password\"\n",
        "    \n",
        "    upper_count = 0\n",
        "    lower_count = 0\n",
        "    digit_count = 0\n",
        "    special_count = 0\n",
        "    \n",
        "    for i in pwd:\n",
        "        if i.isupper():\n",
        "            upper_count += 1\n",
        "        elif i.islower():\n",
        "            lower_count += 1\n",
        "        elif i.isdigit():\n",
        "            digit_count += 1\n",
        "        else:\n",
        "            special_count += 1\n",
        "    \n",
        "    if upper_count >= 2 and lower_count >= 2 and digit_count >= 1 and special_count >= 3:\n",
        "        return \"Valid Password\"\n",
        "    else:\n",
        "        return \"Invalid Password\"\n",
        "\n",
        "pwd = \"Abcd123$\"\n",
        "res = validation(pwd)\n",
        "print(res)"
      ],
      "metadata": {
        "colab": {
          "base_uri": "https://localhost:8080/"
        },
        "id": "nMuop34lPw1z",
        "outputId": "95d38a3b-6542-463b-8f5b-cde6b136941d"
      },
      "execution_count": 3,
      "outputs": [
        {
          "output_type": "stream",
          "name": "stdout",
          "text": [
            "Invalid Password\n"
          ]
        }
      ]
    },
    {
      "cell_type": "markdown",
      "source": [
        "Q2. Solve the below-given questions using at least one of the following:\n",
        "1. Lambda function\n",
        "2. Filter function\n",
        "3. Map function\n",
        "4. List ComprehensioI\n",
        "Check if the string starts with a particular letter.\n",
        "Check if the string is numeric,\n",
        "Sort a list of tuples having fruit names and their quantity. [(\"mango\",99),(\"orange\",80), (\"grapes\", 1000)]\n",
        "Find the squares of numbers from 1 to 10,\n",
        "Find the cube root of numbers from 1 to 10,\n",
        "Check if a given number is even,\n",
        "Filter odd numbers from the given list.\n",
        "[1,2,3,4,5,6,7,8,9,10],\n",
        "Sort a list of integers into positive and negative integers lists.\n",
        "[1,2,3,4,5,6,-1,-2,-3,-4,-5,0]"
      ],
      "metadata": {
        "id": "mbpNX6NgQmSs"
      }
    },
    {
      "cell_type": "code",
      "source": [
        "string = \"hello pwskills\"\n",
        "starts_with_h = lambda string: string.startswith('h')\n",
        "print(starts_with_h(string))"
      ],
      "metadata": {
        "colab": {
          "base_uri": "https://localhost:8080/"
        },
        "id": "hNV4f7MvQhue",
        "outputId": "0ac15541-b785-4595-d200-5e1a37f31b7b"
      },
      "execution_count": 4,
      "outputs": [
        {
          "output_type": "stream",
          "name": "stdout",
          "text": [
            "True\n"
          ]
        }
      ]
    },
    {
      "cell_type": "code",
      "source": [
        "string = \"12345\"\n",
        "is_numeric = lambda string: string.isnumeric()\n",
        "print(is_numeric(string))"
      ],
      "metadata": {
        "colab": {
          "base_uri": "https://localhost:8080/"
        },
        "id": "zDE0DBV9RE4q",
        "outputId": "68953c2a-117b-4463-d6e0-f649cc6e73d2"
      },
      "execution_count": 5,
      "outputs": [
        {
          "output_type": "stream",
          "name": "stdout",
          "text": [
            "True\n"
          ]
        }
      ]
    },
    {
      "cell_type": "code",
      "source": [
        "fruits = [(\"mango\", 99), (\"orange\", 80), (\"grapes\", 1000)]\n",
        "sorted_fruits = sorted(fruits, key=lambda x: x[1])\n",
        "print(sorted_fruits)"
      ],
      "metadata": {
        "colab": {
          "base_uri": "https://localhost:8080/"
        },
        "id": "jFiT5jFWRJAs",
        "outputId": "57fa0e74-2b07-437e-d5e2-b07a61f67e3a"
      },
      "execution_count": 6,
      "outputs": [
        {
          "output_type": "stream",
          "name": "stdout",
          "text": [
            "[('orange', 80), ('mango', 99), ('grapes', 1000)]\n"
          ]
        }
      ]
    },
    {
      "cell_type": "code",
      "source": [
        "num = range(1, 11)\n",
        "sqr = list(map(lambda x: x**2, num))\n",
        "print(sqr)"
      ],
      "metadata": {
        "colab": {
          "base_uri": "https://localhost:8080/"
        },
        "id": "5zdvC4WoRNbB",
        "outputId": "5e1345b3-f667-4680-b1e2-38fba2cf017b"
      },
      "execution_count": 7,
      "outputs": [
        {
          "output_type": "stream",
          "name": "stdout",
          "text": [
            "[1, 4, 9, 16, 25, 36, 49, 64, 81, 100]\n"
          ]
        }
      ]
    },
    {
      "cell_type": "code",
      "source": [
        "import math\n",
        "\n",
        "num = range(1, 11)\n",
        "curt = list(map(lambda x: int(math.pow(x, 1/3)), num))\n",
        "print(curt)"
      ],
      "metadata": {
        "colab": {
          "base_uri": "https://localhost:8080/"
        },
        "id": "QZt-7YSeQcoy",
        "outputId": "b9f11acd-d2e1-466f-c297-af59bc774b07"
      },
      "execution_count": 8,
      "outputs": [
        {
          "output_type": "stream",
          "name": "stdout",
          "text": [
            "[1, 1, 1, 1, 1, 1, 1, 2, 2, 2]\n"
          ]
        }
      ]
    },
    {
      "cell_type": "code",
      "source": [
        "num = 4\n",
        "is_even = lambda num: num % 2 == 0\n",
        "print(is_even(num))"
      ],
      "metadata": {
        "colab": {
          "base_uri": "https://localhost:8080/"
        },
        "id": "WouQJxDgRTjk",
        "outputId": "4d54b75d-d50a-473b-88eb-cef1a5ee6b77"
      },
      "execution_count": 9,
      "outputs": [
        {
          "output_type": "stream",
          "name": "stdout",
          "text": [
            "True\n"
          ]
        }
      ]
    },
    {
      "cell_type": "code",
      "source": [
        "num = [1, 2, 3, 4, 5, 6, 7, 8, 9, 10]\n",
        "odd_num = list(filter(lambda x: x % 2 != 0, num))\n",
        "print(odd_num)"
      ],
      "metadata": {
        "colab": {
          "base_uri": "https://localhost:8080/"
        },
        "id": "Fen0tvCPRWAB",
        "outputId": "b07f00ca-6f4b-4a12-859f-4e37af5ef436"
      },
      "execution_count": 10,
      "outputs": [
        {
          "output_type": "stream",
          "name": "stdout",
          "text": [
            "[1, 3, 5, 7, 9]\n"
          ]
        }
      ]
    },
    {
      "cell_type": "code",
      "source": [
        "num = [1, 2, 3, 4, 5, 6, -1, -2, -3, -4, -5, 0]\n",
        "pos = list(filter(lambda x: x > 0, num))\n",
        "neg = list(filter(lambda x: x < 0, num))\n",
        "print(\"Positive numbers:\", pos)\n",
        "print(\"Negative numbers:\", neg)"
      ],
      "metadata": {
        "colab": {
          "base_uri": "https://localhost:8080/"
        },
        "id": "NgNkHTJzRZFx",
        "outputId": "1042486c-d3f6-4c64-bbcf-46694a41a0ef"
      },
      "execution_count": 11,
      "outputs": [
        {
          "output_type": "stream",
          "name": "stdout",
          "text": [
            "Positive numbers: [1, 2, 3, 4, 5, 6]\n",
            "Negative numbers: [-1, -2, -3, -4, -5]\n"
          ]
        }
      ]
    }
  ]
}