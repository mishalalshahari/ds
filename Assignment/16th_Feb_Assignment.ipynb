{
  "nbformat": 4,
  "nbformat_minor": 0,
  "metadata": {
    "colab": {
      "provenance": []
    },
    "kernelspec": {
      "name": "python3",
      "display_name": "Python 3"
    },
    "language_info": {
      "name": "python"
    }
  },
  "cells": [
    {
      "cell_type": "markdown",
      "source": [
        "# Assignment : 15(16th Feb'2023)"
      ],
      "metadata": {
        "id": "gBSZNx194zRV"
      }
    },
    {
      "cell_type": "markdown",
      "source": [
        "1. A database is information that is set up for easy access, management and updating. Databases are used for storing, maintaining and accessing any sort of data. They collect information on people, places or things. That information is gathered in one place so that it can be observed and analyzed. Databases can be thought of as an organized collection of information.\n",
        "\n",
        "* Differences between SQL and NoSQL database :\n",
        "\n",
        "|SQL | NoSQL|\n",
        "|-|-|\n",
        "|Databases are categorized as Relational Database Management System (RDBMS).|NoSQL databases are categorized as Non-relational or distributed database system.|\n",
        "|SQL databases have fixed or static or predefined schema.|NoSQL databases have dynamic schema.|\n",
        "|SQL databases display data in form of tables so it is known as table-based database.|NoSQL databases display data as collection of key-value pair, documents, graph databases or wide-column stores.| \n",
        "|SQL databases are vertically scalable.|NoSQL databases are horizontally scalable.|\n",
        "|SQL databases use a powerful language \"Structured Query Language\" to define and manipulate the data.|In NoSQL databases, collection of documents are used to query the data. It is also called unstructured query language. It varies from database to database.|\n",
        "|SQL databases are best suited for complex queries.|NoSQL databases are not so good for complex queries because these are not as powerful as SQL queries.|\n",
        "|SQL databases are not best suited for hierarchical data storage.|\tNoSQL databases are best suited for hierarchical data storage.|\n",
        "|MySQL, Oracle, Sqlite, PostgreSQL and MS-SQL etc. are the example of SQL database.|MongoDB, BigTable, Redis, RavenDB, Cassandra, Hbase, Neo4j, CouchDB etc. are the example of nosql database|"
      ],
      "metadata": {
        "id": "TXh5AzFaEel6"
      }
    },
    {
      "cell_type": "markdown",
      "source": [
        "2. It is a language for describing data and its relationships in a database. You can generate DDL in a script for database objects to: Keep a snapshot of the database structure. Set up a test system where the database acts like the production system but contains no data.\n",
        "\n",
        " \n",
        " * `CREATE` : create table in database\n",
        "```\n",
        "CREATE TABLE Student (\n",
        "    StudendId int,\n",
        "    LastName varchar(255),\n",
        "    FirstName varchar(255),\n",
        "    Address varchar(255),\n",
        "    Mark int\n",
        ");\n",
        "```\n",
        " * `DROP` : delete a particular table\n",
        "```\n",
        "DROP TABLE Student;\n",
        "```\n",
        " * `ALTER` : makes changes in the structure of the table.\n",
        "```\n",
        "ALTER TABLE Student\n",
        "ADD Total int;\n",
        "```\n",
        " * `TRUNCATE` : empties a table completely. \n",
        "```\n",
        "TRUNCATE TABLE  Student;\n",
        "```\n",
        "\n",
        "\n"
      ],
      "metadata": {
        "id": "KdK_4Bp6HKCN"
      }
    },
    {
      "cell_type": "markdown",
      "source": [
        "3. The data manipulation language statements are used to retrieve, add, delete, and modify the data that is stored in the objects of database. The keywords or statements that are associated with the data manipulation language are: SELECT INSERT, UPDATE and DELETE. These are the primary statements of data manipulation language (DML) and are used widely.\n",
        "\n",
        "*   `INSERT` :  insert a new row in the database that is adding data to a table.\n",
        "```\n",
        "INSERT INTO Student (StudendId, FirstName, LastName)\n",
        "VALUES (12345, \"Sri\", \"Durga\");\n",
        "```\n",
        "*   `UPDATE` : used to update the data or row in the table.\n",
        "```\n",
        "UPDATE Student\n",
        "SET FirstName = \"Navin\" , LastName = \"Kumar\"\n",
        "WHERE StudentId=12345;\n",
        "```\n",
        "*   `DELETE` : used to delete a row from the table in the database.\n",
        "```\n",
        "DELETE FROM Student WHERE StudentId=12345;\n",
        "```\n",
        "\n"
      ],
      "metadata": {
        "id": "mTUJXNOmARbd"
      }
    },
    {
      "cell_type": "markdown",
      "source": [
        "4. DQL or data query language is to perform the query on the data inside the schema or object (ie table, index, view, function, etc). With the help of a DQL query, we can get the data from the database to perform actions or operations like analyzing the data. \n",
        "\n",
        "* `SELECT` : SQL `SELECT` a query on a table or tables to view the temporary table output from the database.\n",
        "```\n",
        "Select * from Student;\n",
        "```\n",
        "\n"
      ],
      "metadata": {
        "id": "osOFkMM3BIIn"
      }
    },
    {
      "cell_type": "markdown",
      "source": [
        "5. A `primary key` and a `foreign key` are two important concepts in relational databases that help to ensure data integrity and maintain consistency between related tables.\n",
        "\n",
        "* **`PRIMARY KEY`** : A primary key is a column or a set of columns in a table whose values uniquely identify a row in the table. A relational database is designed to enforce the uniqueness of primary keys by allowing only one row with a given primary key value in a table.\n",
        "\n",
        "* **`FOREIGN KEY`** : A foreign key is a column or a set of columns in a table whose values correspond to the values of the primary key in another table. In order to add a row with a given foreign key value, there must exist a row in the related table with the same primary key value."
      ],
      "metadata": {
        "id": "WQsD0qW7Ds4x"
      }
    },
    {
      "cell_type": "markdown",
      "source": [
        "6. Here is Python code to connect to MySQL using the `mysql-connector-python` module :\n",
        "\n",
        "  ```\n",
        "  import mysql.connector\n",
        "\n",
        "  mydb = mysql.connector.connect(\n",
        "    host=\"localhost\",\n",
        "    user=\"abc\",\n",
        "    password=\"password\",\n",
        "    database=\"test\"\n",
        "  )\n",
        "  mycursor = mydb.cursor()\n",
        "  mycursor.execute(\"SELECT * FROM yourtable\")\n",
        "  results = mycursor.fetchall()\n",
        "  for result in results:\n",
        "    print(result)\n",
        "\n",
        "  ```\n",
        "* `CURSOR()` : The MySQLCursor of mysql-connector-python (and similar libraries) is used to execute statements to communicate with the MySQL database.\n",
        "Using the methods of it you can execute SQL statements, fetch data from the result sets, call procedures.\n",
        "\n",
        "* `EXCUTE() `: This method executes the given database operation (query or command). The parameters found in the tuple or dictionary params are bound to the variables in the operation. Specify variables using %s or %(name)s parameter style (that is, using format or pyformat style). execute() returns an iterator if multi is True.\n",
        "\n"
      ],
      "metadata": {
        "id": "DmImErdAECHY"
      }
    },
    {
      "cell_type": "markdown",
      "source": [
        "7. The order of execution of SQL clauses in an SQL query is as follows :\n",
        "\n",
        "    `FROM`: This clause specifies the tables from which the data is retrieved.\n",
        "\n",
        "    `JOIN`: This clause is used to combine rows from two or more tables based on a related column between them.\n",
        "\n",
        "    `WHERE`: This clause is used to filter rows based on a specific condition.\n",
        "\n",
        "    `GROUP BY`: This clause is used to group the rows based on one or more columns.\n",
        "\n",
        "    `HAVING`: This clause is used to filter the groups based on a specific condition.\n",
        "\n",
        "    `SELECT`: This clause is used to select the columns to be displayed in the result set.\n",
        "\n",
        "    `DISTINCT`: This clause is used to remove duplicate rows from the result set.\n",
        "\n",
        "    `ORDER BY`: This clause is used to sort the result set based on one or more columns.\n",
        "\n",
        "    `LIMIT`: This clause is used to limit the number of rows returned by the query."
      ],
      "metadata": {
        "id": "NwCViWrsFSS0"
      }
    }
  ]
}