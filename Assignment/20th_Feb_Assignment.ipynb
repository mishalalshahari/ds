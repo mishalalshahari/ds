{
  "cells": [
    {
      "cell_type": "markdown",
      "metadata": {
        "id": "jcCVDFX4W0oZ"
      },
      "source": [
        "# Assignment - 20th February"
      ]
    },
    {
      "cell_type": "markdown",
      "metadata": {
        "id": "A1Ebx9sNWyFt"
      },
      "source": [
        "### Q1. Explain GET and POST methods.\n",
        "\n",
        "* HTTP GET: The Hypertext Transfer Protocol(HTTP) Get method is mainly used at the client (Browser) side to send a request to a specified server to get certain data or resources. Using this method the server should only let us receive the data and not change its state. Hence it is only used to view something and not to change it. Get method is one of the most used HTTP method. The request parameter of the get method is appended to the URL. Get request is better for the data which does not need to be secure (It means the data which does not contain images or word documents).\n",
        "\n",
        "* HTTP POST: The Hypertext Transfer Protocol(HTTP) Post method is mainly used at the client (Browser) side to send data to a Specified server in order to create or rewrite a particular resource/data. This data sent to the server is stored in the request body of the HTTP request. Post method eventually leads to the creation of a new resource or updating an existing one. Due to this dynamic use, it is one of the most used HTTP methods. It is not one of the most secure methods because the data that is been sent is included in the body of the request and not in the URL. Post request is better for the data which needs to be secure (It means the data which contains images or word documents)."
      ]
    },
    {
      "cell_type": "markdown",
      "metadata": {
        "id": "2qOEl5MZWyFw"
      },
      "source": [
        "### Q2. Why is request used in Flask?\n",
        "\n",
        "* In the client-server architecture, the request object contains all the data that is sent from the client to the server. As we have already discussed in the tutorial, we can retrieve the data at the server side using the HTTP methods.\n",
        "\n",
        "* Attributes can be:\n",
        "1. Form\n",
        "2. args\n",
        "3. Cookies\n",
        "4. files\n",
        "5. method"
      ]
    },
    {
      "cell_type": "markdown",
      "metadata": {
        "id": "Etg8-W0nWyFx"
      },
      "source": [
        "### Q3. Why is redirect() used in Flask?\n",
        "A redirect is used in the Flask class to send the user to a particular URL with the status code. conversely, this status code additionally identifies the issue. When we access a website, our browser sends a request to the server, and the server replies with what is known as the HTTP status code, which is a three-digit number, "
      ]
    },
    {
      "cell_type": "markdown",
      "metadata": {
        "id": "lJFga3bSWyFy"
      },
      "source": [
        "### Q4. What are templates in Flask? Why is the render_template() function used?\n",
        "* Templates are files that contain static data as well as placeholders for dynamic data. A template is rendered with specific data to produce a final document. Flask uses the Jinja template library to render templates. In your application, you will use templates to render HTML which will display in the user's browser.\n",
        "\n",
        "* Flask provides us the render_template() function which can be used to render the external HTML file to be returned as the response from the view function.\n"
      ]
    },
    {
      "cell_type": "markdown",
      "metadata": {
        "id": "ApZPyK0SWyFy"
      },
      "source": [
        "### Q5. Create a simple API. Use Postman to test it."
      ]
    },
    {
      "attachments": {},
      "cell_type": "markdown",
      "metadata": {},
      "source": [
        "![alt text](20th.png)"
      ]
    }
  ],
  "metadata": {
    "colab": {
      "provenance": []
    },
    "kernelspec": {
      "display_name": "Python 3",
      "language": "python",
      "name": "python3"
    },
    "language_info": {
      "codemirror_mode": {
        "name": "ipython",
        "version": 3
      },
      "file_extension": ".py",
      "mimetype": "text/x-python",
      "name": "python",
      "nbconvert_exporter": "python",
      "pygments_lexer": "ipython3",
      "version": "3.10.4"
    },
    "orig_nbformat": 4,
    "vscode": {
      "interpreter": {
        "hash": "1f7a1b48185bc96c21158f0f02fe43077350faaa9a44529d6a86f77138e2eb69"
      }
    }
  },
  "nbformat": 4,
  "nbformat_minor": 0
}
