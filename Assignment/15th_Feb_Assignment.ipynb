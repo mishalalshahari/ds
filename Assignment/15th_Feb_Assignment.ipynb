{
  "cells": [
    {
      "cell_type": "markdown",
      "metadata": {
        "id": "qstdmppcU1Zn"
      },
      "source": [
        "# Assignment - 15th February"
      ]
    },
    {
      "cell_type": "markdown",
      "metadata": {
        "id": "z3ebtNkS1_rc"
      },
      "source": [
        "### Q1. What is multiprocessing in python? Why is it useful?\n",
        "The multiprocessing package supports spawning processes. It refers to a function that loads and executes a new child processes. For the child to terminate or to continue executing concurrent computing,then the current process has to wait using an API, which is similar to threading module.\n",
        "\n",
        "The multiprocessing package offers both local and remote concurrency, effectively side-stepping the Global Interpreter Lock by using subprocesses instead of threads. Due to this, the multiprocessing module allows the programmer to fully leverage multiple processors on a given machine.\n"
      ]
    },
    {
      "cell_type": "markdown",
      "metadata": {
        "id": "9lXbd05X3H87"
      },
      "source": [
        "### Q2. What are the differences between multiprocessing and multithreading?\n",
        "While multithreading and multiprocessing can both be used to increase the computing power of a system, there are some key differences between these approaches. Here are some of the primary ways these methods differ from one another:\n",
        "\n",
        "1. Multiprocessing uses two or more CPUs to increase computing power, whereas multithreading uses a single process with multiple code segments to increase computing power.\n",
        "2. Multithreading focuses on generating computing threads from a single process, whereas multiprocessing increases computing power by adding CPUs.\n",
        "3. Multiprocessing is used to create a more reliable system, whereas multithreading is used to create threads that run parallel to each other.\n",
        "4. multithreading is quick to create and requires few resources, whereas multiprocessing requires a significant amount of time and specific resources to create.\n",
        "5. Multiprocessing executes many processes simultaneously, whereas multithreading executes many threads simultaneously.\n",
        "6. Multithreading uses a common address space for all the threads, whereas multiprocessing creates a separate address space for each process."
      ]
    },
    {
      "cell_type": "markdown",
      "metadata": {
        "id": "O008lpWn3mcD"
      },
      "source": [
        "### Q3. Write a python code to create a process using the multiprocessing module."
      ]
    },
    {
      "cell_type": "code",
      "execution_count": null,
      "metadata": {
        "colab": {
          "base_uri": "https://localhost:8080/"
        },
        "id": "JnK9lbGX17BO",
        "outputId": "ddbfadee-9f05-4af8-e730-b3574321041c"
      },
      "outputs": [
        {
          "name": "stdout",
          "output_type": "stream",
          "text": [
            "Square: 100\n",
            "Cube: 1000\n",
            "Done!\n"
          ]
        }
      ],
      "source": [
        "import multiprocessing\n",
        "\n",
        "def print_cube(num):\n",
        "\tprint(\"Cube: {}\".format(num * num * num))\n",
        "\n",
        "def print_square(num):\n",
        "\tprint(\"Square: {}\".format(num * num))\n",
        "\n",
        "if __name__ == \"__main__\":\n",
        "\t# processes\n",
        "\tp1 = multiprocessing.Process(target=print_square, args=(10, ))\n",
        "\tp2 = multiprocessing.Process(target=print_cube, args=(10, ))\n",
        "\n",
        "\t# starting process 1\n",
        "\tp1.start()\n",
        "\t# starting process 2\n",
        "\tp2.start()\n",
        "\n",
        "\t# wait until process 1 is finished\n",
        "\tp1.join()\n",
        "\t# wait until process 2 is finished\n",
        "\tp2.join()\n",
        "\n",
        "\t# both processes finished\n",
        "\tprint(\"Done!\")\n"
      ]
    },
    {
      "cell_type": "markdown",
      "metadata": {
        "id": "FDqJcKU54GSO"
      },
      "source": [
        "### Q4. What is a multiprocessing pool in python? Why is it used?\n",
        "The Python Multiprocessing Pool class allows you to create and manage process pools in Python.\n",
        "\n",
        "Python multiprocessing Pool can be used for parallel execution of a function across multiple input values, distributing the input data across processes (data parallelism). "
      ]
    },
    {
      "cell_type": "markdown",
      "metadata": {
        "id": "98SJrvaz46oO"
      },
      "source": [
        "### Q5. How can we create a pool of worker processes in python using the multiprocessing module?\n",
        "\n",
        "We can configure the number of worker processes in the multiprocessing.pool.Pool by setting the “processes” argument in the constructor."
      ]
    },
    {
      "cell_type": "code",
      "execution_count": null,
      "metadata": {
        "colab": {
          "base_uri": "https://localhost:8080/"
        },
        "id": "M9_xe4Ns4r9a",
        "outputId": "347c5e59-9593-4bed-aae0-f2a73c2ed445"
      },
      "outputs": [
        {
          "name": "stdout",
          "output_type": "stream",
          "text": [
            "[9, 16, 25, 36, 49, 64, 1, 4, 9, 16, 36, 49, 16, 4]\n"
          ]
        }
      ],
      "source": [
        "def square(n):\n",
        "    return n*n;\n",
        "\n",
        "if __name__ == '__main__':\n",
        "    with multiprocessing.Pool(processes = 5) as pool:\n",
        "        out =pool.map(square,[3,4,5,6,7,8,1,2,3,4,6,7,4,2]) \n",
        "        print(out)\n",
        "   "
      ]
    },
    {
      "cell_type": "markdown",
      "metadata": {
        "id": "jvHuAlBj6uEe"
      },
      "source": [
        "### Q6. Write a python program to create 4 processes, each process should print a different number using the multiprocessing module in python.\n",
        "\n"
      ]
    },
    {
      "cell_type": "code",
      "execution_count": null,
      "metadata": {
        "colab": {
          "base_uri": "https://localhost:8080/"
        },
        "id": "ogWzsnqJ6r6H",
        "outputId": "93d2d39b-261c-4e9a-bfe6-b7cfdb3bed65"
      },
      "outputs": [
        {
          "name": "stdout",
          "output_type": "stream",
          "text": [
            "Process   Process  1 prints: 0Process     2prints:1 \n",
            " prints:Process   02 \n",
            "\n",
            "3 prints: 3\n"
          ]
        }
      ],
      "source": [
        "import multiprocessing\n",
        "\n",
        "def print_number(num):\n",
        "    print(\"Process  \", num, \"prints:\", num)\n",
        "\n",
        "if __name__ == \"__main__\":\n",
        "    processes = []\n",
        "    for i in range(4):\n",
        "        p = multiprocessing.Process(target=print_number, args=(i,))\n",
        "        processes.append(p)\n",
        "        p.start()\n",
        "\n",
        "    for p in processes:\n",
        "        p.join()\n"
      ]
    }
  ],
  "metadata": {
    "colab": {
      "provenance": []
    },
    "kernelspec": {
      "display_name": "Python 3",
      "name": "python3"
    },
    "language_info": {
      "name": "python"
    }
  },
  "nbformat": 4,
  "nbformat_minor": 0
}
