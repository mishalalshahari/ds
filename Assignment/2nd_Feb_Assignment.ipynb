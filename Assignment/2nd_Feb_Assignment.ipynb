{
  "cells": [
    {
      "cell_type": "markdown",
      "metadata": {
        "id": "lbeurT6OgH6B"
      },
      "source": [
        "# Assignment - 2nd Feb"
      ]
    },
    {
      "cell_type": "markdown",
      "metadata": {
        "id": "v7V5_mL-YsL-"
      },
      "source": [
        "1. For loops are used when you have a definite number of iterations to be performed. For example, if you want to print the numbers from 1 to 10, you can use a for loop :\n"
      ]
    },
    {
      "cell_type": "markdown",
      "metadata": {
        "id": "IIHrLUnBckCG"
      },
      "source": [
        "* `for` - loop :"
      ]
    },
    {
      "cell_type": "code",
      "execution_count": null,
      "metadata": {
        "colab": {
          "base_uri": "https://localhost:8080/"
        },
        "id": "RjwqC-CAaXeM",
        "outputId": "13673258-44b7-4bd0-a530-1d27bce413a4"
      },
      "outputs": [
        {
          "name": "stdout",
          "output_type": "stream",
          "text": [
            "1\n",
            "2\n",
            "3\n",
            "4\n",
            "5\n"
          ]
        }
      ],
      "source": [
        "for i in range(1, 6):\n",
        " print(i)"
      ]
    },
    {
      "cell_type": "markdown",
      "metadata": {
        "id": "JxKXgO9UwiBS"
      },
      "source": [
        "  While loops are used when you want to repeat an operation until a certain condition is met. For example, if you want to print the numbers from 1 to 10, but stop when the number is 5, you can use a while loop :"
      ]
    },
    {
      "cell_type": "markdown",
      "metadata": {
        "id": "_t1aGv6vcceq"
      },
      "source": [
        "* `while` - loop :"
      ]
    },
    {
      "cell_type": "code",
      "execution_count": null,
      "metadata": {
        "colab": {
          "base_uri": "https://localhost:8080/"
        },
        "id": "WXdN_jsQcX9p",
        "outputId": "b6ddfebe-0565-4732-d674-9ff4b746987c"
      },
      "outputs": [
        {
          "name": "stdout",
          "output_type": "stream",
          "text": [
            "1\n",
            "2\n",
            "3\n",
            "4\n",
            "5\n"
          ]
        }
      ],
      "source": [
        "i = 1\n",
        "while i <= 10:\n",
        "   print(i)\n",
        "   if i == 5:\n",
        "       break\n",
        "   i += 1"
      ]
    },
    {
      "cell_type": "markdown",
      "metadata": {
        "id": "AZpEGhggZFBC"
      },
      "source": [
        "2. Here is an example implementation of sum and product of the first 10 natural numbers using both `for` and `while` loops:"
      ]
    },
    {
      "cell_type": "markdown",
      "metadata": {
        "id": "Dd9y3t6zcCLg"
      },
      "source": [
        "* Using `for` loop : "
      ]
    },
    {
      "cell_type": "code",
      "execution_count": null,
      "metadata": {
        "colab": {
          "base_uri": "https://localhost:8080/"
        },
        "id": "bw6CSoGoaHA0",
        "outputId": "b80d3ded-b302-48b1-e456-3a86f7e586cd"
      },
      "outputs": [
        {
          "name": "stdout",
          "output_type": "stream",
          "text": [
            "Sum of first 10 natural numbers (using for loop): 55\n",
            "Product of first 10 natural numbers (using for loop): 3628800\n"
          ]
        }
      ],
      "source": [
        "sum = 0\n",
        "product = 1\n",
        "for i in range(1, 11):\n",
        "    sum += i\n",
        "    product *= i\n",
        "print(\"Sum of first 10 natural numbers :\", sum)\n",
        "print(\"Product of first 10 natural numbers :\", product)\n"
      ]
    },
    {
      "cell_type": "markdown",
      "metadata": {
        "id": "9pIHQrHIcHsP"
      },
      "source": [
        "* Using `while` loop : "
      ]
    },
    {
      "cell_type": "code",
      "execution_count": null,
      "metadata": {
        "colab": {
          "base_uri": "https://localhost:8080/"
        },
        "id": "x4-FyCY5b-Xp",
        "outputId": "8af1b6bd-758b-4e0f-b4fb-599861e84b09"
      },
      "outputs": [
        {
          "name": "stdout",
          "output_type": "stream",
          "text": [
            "Sum of first 10 natural numbers (using while loop): 55\n",
            "Product of first 10 natural numbers (using while loop): 3628800\n"
          ]
        }
      ],
      "source": [
        "sum = 0\n",
        "product = 1\n",
        "i = 1\n",
        "while i <= 10:\n",
        "    sum += i\n",
        "    product *= i\n",
        "    i += 1\n",
        "print(\"Sum of first 10 natural numbers :\", sum)\n",
        "print(\"Product of first 10 natural numbers :\", product)"
      ]
    },
    {
      "cell_type": "markdown",
      "metadata": {
        "id": "p1AV311i0-An"
      },
      "source": [
        "3. Here's one way to implement the electricity bill calculator in Python :"
      ]
    },
    {
      "cell_type": "code",
      "execution_count": null,
      "metadata": {
        "colab": {
          "base_uri": "https://localhost:8080/"
        },
        "id": "5o2B6zH61CCF",
        "outputId": "dcb110c3-9d13-4f80-aba4-4ce4570846ea"
      },
      "outputs": [
        {
          "name": "stdout",
          "output_type": "stream",
          "text": [
            "Enter the number of units consumed: 310\n",
            "The electricity bill is Rs. 2250.0\n"
          ]
        }
      ],
      "source": [
        "def electricity_bill(units):\n",
        "    if units <= 100:\n",
        "        bill = units * 4.5\n",
        "    elif units <= 200:\n",
        "        bill = 100 * 4.5 + (units - 100) * 6\n",
        "    elif units <= 300:\n",
        "        bill = 100 * 4.5 + 100 * 6 + (units - 200) * 10\n",
        "    else:\n",
        "        bill = 100 * 4.5 + 100 * 6 + 100 * 10 + (units - 300) * 20\n",
        "    return bill\n",
        "\n",
        "units = int(input(\"Enter the number of units consumed: \"))\n",
        "bill = electricity_bill(units)\n",
        "print(\"The electricity bill is Rs.\", bill)\n"
      ]
    },
    {
      "cell_type": "markdown",
      "metadata": {
        "id": "nGAWo0q81ZMn"
      },
      "source": [
        "* Test the program with the given test case :"
      ]
    },
    {
      "cell_type": "code",
      "execution_count": null,
      "metadata": {
        "colab": {
          "base_uri": "https://localhost:8080/"
        },
        "id": "gnVHiNpB1aYg",
        "outputId": "a6dd87f9-fd63-45dc-effa-053b9e9afcf4"
      },
      "outputs": [
        {
          "name": "stdout",
          "output_type": "stream",
          "text": [
            "The electricity bill for 310 units is Rs. 2250.0\n"
          ]
        }
      ],
      "source": [
        "units = 310\n",
        "bill = electricity_bill(units)\n",
        "print(\"The electricity bill for\", units, \"units is Rs.\", bill)\n",
        "\n",
        "# Output: The electricity bill for 310 units is Rs. 2250.0\n"
      ]
    },
    {
      "cell_type": "markdown",
      "metadata": {
        "id": "3Hwv6Niz6cny"
      },
      "source": [
        "4. Here's how you can create the list of numbers from 1 to 100 using a `for` loop and `while` loop and find the **cubes** of the numbers that are divisible by 4 or 5."
      ]
    },
    {
      "cell_type": "markdown",
      "metadata": {
        "id": "sYBCzGwI9LBW"
      },
      "source": [
        "* Using `for` loop :"
      ]
    },
    {
      "cell_type": "code",
      "execution_count": null,
      "metadata": {
        "colab": {
          "base_uri": "https://localhost:8080/"
        },
        "id": "jL6M2Z327Epx",
        "outputId": "28d3a3dd-7f3b-4186-b349-84fb2ae93b8b"
      },
      "outputs": [
        {
          "name": "stdout",
          "output_type": "stream",
          "text": [
            "[8, 64, 125, 216, 512, 1000, 1728, 2744, 3375, 4096, 5832, 8000, 10648, 13824, 15625, 17576, 21952, 27000, 32768, 39304, 42875, 46656, 54872, 64000, 74088, 85184, 91125, 97336, 110592, 125000, 140608, 157464, 166375, 175616, 195112, 216000, 238328, 262144, 274625, 287496, 314432, 343000, 373248, 405224, 421875, 438976, 474552, 512000, 551368, 592704, 614125, 636056, 681472, 729000, 778688, 830584, 857375, 884736, 941192, 1000000]\n"
          ]
        }
      ],
      "source": [
        "cubes = []\n",
        "for i in range(1, 101):\n",
        "    cube = i**3\n",
        "    if cube % 4 == 0 or cube % 5 == 0:\n",
        "        cubes.append(cube)\n",
        "print(cubes)\n"
      ]
    },
    {
      "cell_type": "markdown",
      "metadata": {
        "id": "yZpcquVN9bPL"
      },
      "source": [
        "* Using `while` loop :"
      ]
    },
    {
      "cell_type": "code",
      "execution_count": null,
      "metadata": {
        "colab": {
          "base_uri": "https://localhost:8080/"
        },
        "id": "ehPsI4oY9VqE",
        "outputId": "d771e912-915c-4633-80fe-65fd40ca8cfd"
      },
      "outputs": [
        {
          "name": "stdout",
          "output_type": "stream",
          "text": [
            "[2, 4, 5, 6, 8, 10, 12, 14, 15, 16, 18, 20, 22, 24, 25, 26, 28, 30, 32, 34, 35, 36, 38, 40, 42, 44, 45, 46, 48, 50, 52, 54, 55, 56, 58, 60, 62, 64, 65, 66, 68, 70, 72, 74, 75, 76, 78, 80, 82, 84, 85, 86, 88, 90, 92, 94, 95, 96, 98, 100]\n"
          ]
        }
      ],
      "source": [
        "numbers = []\n",
        "i = 1\n",
        "while i <= 100:\n",
        "    cube = i ** 3\n",
        "    if cube % 4 == 0 or cube % 5 == 0:\n",
        "        numbers.append(i)\n",
        "    i += 1\n",
        "print(numbers)"
      ]
    },
    {
      "cell_type": "markdown",
      "metadata": {
        "id": "l3-w4pml-NGy"
      },
      "source": [
        "5. Here's a program that filters and counts the vowels in the given string :"
      ]
    },
    {
      "cell_type": "code",
      "execution_count": null,
      "metadata": {
        "colab": {
          "base_uri": "https://localhost:8080/"
        },
        "id": "0cFyxg4M-LsU",
        "outputId": "4f549d95-a31b-4e6b-cdbb-954b76315e8f"
      },
      "outputs": [
        {
          "name": "stdout",
          "output_type": "stream",
          "text": [
            "Number of vowels: 12\n"
          ]
        }
      ],
      "source": [
        "string = \"I want to become a data scientist\"\n",
        "vowels = \"aeiouAEIOU\"\n",
        "count = 0\n",
        "for char in string:\n",
        "    if char in vowels:\n",
        "        count += 1\n",
        "print(\"Number of vowels:\", count)"
      ]
    }
  ],
  "metadata": {
    "colab": {
      "provenance": [],
      "toc_visible": true
    },
    "kernelspec": {
      "display_name": "Python 3",
      "name": "python3"
    },
    "language_info": {
      "name": "python"
    }
  },
  "nbformat": 4,
  "nbformat_minor": 0
}