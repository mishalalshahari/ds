{
  "cells": [
    {
      "cell_type": "markdown",
      "metadata": {
        "id": "dpZZriWl_2Ag"
      },
      "source": [
        "# Assignment - 3rd Feb"
      ]
    },
    {
      "cell_type": "markdown",
      "metadata": {
        "id": "_NFVTLpZBgQC"
      },
      "source": [
        "1. The keyword `def` is used to create a function in Python. Here's a function that returns a list of odd numbers in the range of 1 to 25 :"
      ]
    },
    {
      "cell_type": "code",
      "execution_count": null,
      "metadata": {
        "colab": {
          "base_uri": "https://localhost:8080/"
        },
        "id": "d6wjbe4nAPgN",
        "outputId": "714574f6-d173-489f-faab-638843cd7a3d"
      },
      "outputs": [
        {
          "name": "stdout",
          "output_type": "stream",
          "text": [
            "[1, 3, 5, 7, 9, 11, 13, 15, 17, 19, 21, 23, 25]\n"
          ]
        }
      ],
      "source": [
        "def odd_numbers():\n",
        "    odds = []\n",
        "    for i in range(1, 26):\n",
        "        if i % 2 != 0:\n",
        "            odds.append(i)\n",
        "    return odds\n",
        "print(odd_numbers())"
      ]
    },
    {
      "cell_type": "markdown",
      "metadata": {
        "id": "uWwpOPCmE5kg"
      },
      "source": [
        "2. * `*args` and ` **kwargs ` are used in functions to allow for a flexible number of arguments to be passed to the function.\n",
        "\n",
        "  * `*args` is used to pass a variable number of non-keyword arguments to a function. These arguments are passed as a tuple.\n",
        "\n",
        "  * `**kwargs` is used to pass a variable number of keyword arguments to a function. These arguments are passed as a dictionary."
      ]
    },
    {
      "cell_type": "markdown",
      "metadata": {
        "id": "qHQR9mhcFesM"
      },
      "source": [
        "* Here's an example function that demonstrates the use of *args :"
      ]
    },
    {
      "cell_type": "code",
      "execution_count": null,
      "metadata": {
        "colab": {
          "base_uri": "https://localhost:8080/"
        },
        "id": "IhzS7OypFiQb",
        "outputId": "bf2575ea-a2f5-4ac7-aee0-fdbfd521f61a"
      },
      "outputs": [
        {
          "name": "stdout",
          "output_type": "stream",
          "text": [
            "Arguments: (1, 2, 3)\n"
          ]
        }
      ],
      "source": [
        "def print_args(*args):\n",
        "    print(\"Arguments:\", args)\n",
        "\n",
        "print_args(1, 2, 3)"
      ]
    },
    {
      "cell_type": "markdown",
      "metadata": {
        "id": "xU81ea1YFlis"
      },
      "source": [
        "* And here's an example function that demonstrates the use of `**kwargs` :"
      ]
    },
    {
      "cell_type": "code",
      "execution_count": null,
      "metadata": {
        "colab": {
          "base_uri": "https://localhost:8080/"
        },
        "id": "ZsUdW6f-FlJm",
        "outputId": "6afe21e4-8fa0-4a04-9334-3ba7a3ceab0c"
      },
      "outputs": [
        {
          "name": "stdout",
          "output_type": "stream",
          "text": [
            "Keyword arguments: {'a': 1, 'b': 2, 'c': 3}\n"
          ]
        }
      ],
      "source": [
        "def print_kwargs(**kwargs):\n",
        "    print(\"Keyword arguments:\", kwargs)\n",
        "\n",
        "print_kwargs(a=1, b=2, c=3)"
      ]
    },
    {
      "cell_type": "markdown",
      "metadata": {
        "id": "Bg_bZQZ8F1MM"
      },
      "source": [
        "  3. An iterator in Python is an object that can be iterated (looped) upon. It implements the `iterator protocol`, which consists of the methods `__iter__()` and` __next__()`. The `__iter__` method returns the iterator object and the `__next__` method returns the next value from the iterator. If there are no more items to return, the `__next__` method should raise a `StopIteration` exception."
      ]
    },
    {
      "cell_type": "markdown",
      "metadata": {
        "id": "0sRFUyweGm_L"
      },
      "source": [
        "* Here's an example that uses the `iter` and `next` methods to print the first five elements of the given list [2, 4, 6, 8, 10, 12, 14, 16, 18, 20] :"
      ]
    },
    {
      "cell_type": "code",
      "execution_count": null,
      "metadata": {
        "colab": {
          "base_uri": "https://localhost:8080/"
        },
        "id": "cRGSrTZfGdPL",
        "outputId": "4bede922-a329-4863-a661-d43824811322"
      },
      "outputs": [
        {
          "name": "stdout",
          "output_type": "stream",
          "text": [
            "2\n",
            "4\n",
            "6\n",
            "8\n",
            "10\n"
          ]
        }
      ],
      "source": [
        "lst = [2, 4, 6, 8, 10, 12, 14, 16, 18, 20]\n",
        "\n",
        "iterator = iter(lst)\n",
        "\n",
        "for i in range(5):\n",
        "    print(next(iterator))\n",
        "    "
      ]
    },
    {
      "cell_type": "markdown",
      "metadata": {
        "id": "urclHeRWGiOb"
      },
      "source": [
        "4. * A generator function in Python is a function that uses the `yield` keyword instead of `return` to return a value. When a generator function is called, it returns a generator object, which can be used to iterate over a sequence of values. The values are generated one at a time when the `next` method is called on the generator object.\n",
        "\n",
        "  * The `yield` keyword is used because it allows the generator function to return values one at a time, instead of returning a list all at once. This can be useful for generating large sequences of values, as it allows the values to be generated on-the-fly, without having to store the entire list in memory at once."
      ]
    },
    {
      "cell_type": "markdown",
      "metadata": {
        "id": "8MCsrYT1KTBx"
      },
      "source": [
        "* Here's an example of a generator function that generates the first `n` even numbers :"
      ]
    },
    {
      "cell_type": "code",
      "execution_count": null,
      "metadata": {
        "colab": {
          "base_uri": "https://localhost:8080/"
        },
        "id": "1znxr59KKa1Y",
        "outputId": "24f5018b-8ae2-4986-985b-3cb4e3f80d6e"
      },
      "outputs": [
        {
          "name": "stdout",
          "output_type": "stream",
          "text": [
            "0\n",
            "2\n",
            "4\n",
            "6\n",
            "8\n"
          ]
        }
      ],
      "source": [
        "def even_numbers(n):\n",
        "    i = 0\n",
        "    while i < n:\n",
        "        yield 2 * i\n",
        "        i += 1\n",
        "\n",
        "gen = even_numbers(5)\n",
        "for i in gen:\n",
        "    print(i)\n"
      ]
    },
    {
      "cell_type": "markdown",
      "metadata": {
        "id": "SDMzFQ35KrBS"
      },
      "source": [
        "5. Here's an example of a generator function that generates prime numbers less than 1000 :"
      ]
    },
    {
      "cell_type": "code",
      "execution_count": null,
      "metadata": {
        "colab": {
          "base_uri": "https://localhost:8080/"
        },
        "id": "s9-0w8WeK3uU",
        "outputId": "ab7cd7a1-64d9-4871-c4f2-69646e51eb44"
      },
      "outputs": [
        {
          "name": "stdout",
          "output_type": "stream",
          "text": [
            "2 3 5 7 11 13 17 19 23 29 31 37 41 43 47 53 59 61 67 71 "
          ]
        }
      ],
      "source": [
        "def prime_numbers():\n",
        "    yield 2\n",
        "    primes = [2]\n",
        "    n = 3\n",
        "    while n < 1000:\n",
        "        is_prime = True\n",
        "        for p in primes:\n",
        "            if n % p == 0:\n",
        "                is_prime = False\n",
        "                break\n",
        "        if is_prime:\n",
        "            primes.append(n)\n",
        "            yield n\n",
        "        n += 2\n",
        "\n",
        "gen = prime_numbers()\n",
        "for i in range(20):\n",
        "    print(next(gen),end=' ')\n"
      ]
    },
    {
      "cell_type": "markdown",
      "metadata": {
        "id": "rDZVaDviLELx"
      },
      "source": [
        "6. Here's a program that uses a `while` loop to print the first 10 Fibonacci numbers :"
      ]
    },
    {
      "cell_type": "code",
      "execution_count": null,
      "metadata": {
        "colab": {
          "base_uri": "https://localhost:8080/"
        },
        "id": "bkBmFl6hLKzz",
        "outputId": "bc4832dd-39ef-459b-9156-f3f3ba5a576f"
      },
      "outputs": [
        {
          "name": "stdout",
          "output_type": "stream",
          "text": [
            "0\n",
            "1\n",
            "1\n",
            "2\n",
            "3\n",
            "5\n",
            "8\n",
            "13\n",
            "21\n",
            "34\n"
          ]
        }
      ],
      "source": [
        "def fibonacci(n):\n",
        "    a = 0\n",
        "    b = 1\n",
        "    i = 0\n",
        "    while i < n:\n",
        "        print(a)\n",
        "        c = a + b\n",
        "        a = b\n",
        "        b = c\n",
        "        i += 1\n",
        "\n",
        "fibonacci(10)"
      ]
    },
    {
      "cell_type": "markdown",
      "metadata": {
        "id": "4oEPI4CgLRSV"
      },
      "source": [
        "7. Here's an example of a list comprehension to iterate through the string \"`pwskills`\" :\n",
        "\n"
      ]
    },
    {
      "cell_type": "code",
      "execution_count": null,
      "metadata": {
        "colab": {
          "base_uri": "https://localhost:8080/"
        },
        "id": "O3qJginiLj33",
        "outputId": "e123b8d0-5680-4937-d6b4-0239d7c52e91"
      },
      "outputs": [
        {
          "name": "stdout",
          "output_type": "stream",
          "text": [
            "['p', 'w', 's', 'k', 'i', 'l', 'l', 's']\n"
          ]
        }
      ],
      "source": [
        "string = \"pwskills\"\n",
        "result = [char for char in string]\n",
        "print(result)"
      ]
    },
    {
      "cell_type": "markdown",
      "metadata": {
        "id": "sTpwpMEuLl83"
      },
      "source": [
        "8. Here's a program that uses a `while` loop to check if a given number is a palindrome :"
      ]
    },
    {
      "cell_type": "code",
      "execution_count": null,
      "metadata": {
        "colab": {
          "base_uri": "https://localhost:8080/"
        },
        "id": "-AZSysDCL1JC",
        "outputId": "8105ecf8-89ad-46eb-ca37-e16c755b2e4a"
      },
      "outputs": [
        {
          "name": "stdout",
          "output_type": "stream",
          "text": [
            "12321 is a palindrome.\n"
          ]
        }
      ],
      "source": [
        "def is_palindrome(n):\n",
        "    temp = n\n",
        "    rev = 0\n",
        "    while n > 0:\n",
        "        dig = n % 10\n",
        "        rev = rev * 10 + dig\n",
        "        n = n // 10\n",
        "    return temp == rev\n",
        "\n",
        "num = 12321\n",
        "if is_palindrome(num):\n",
        "    print(f\"{num} is a palindrome.\")\n",
        "else:\n",
        "    print(f\"{num} is not a palindrome.\")\n"
      ]
    },
    {
      "cell_type": "markdown",
      "metadata": {
        "id": "Ceyuvcj5MP8w"
      },
      "source": [
        "9. Here's the `list-comprehension` in Python to create a list from 1 to 100 and to filter out odd numbers :"
      ]
    },
    {
      "cell_type": "code",
      "execution_count": null,
      "metadata": {
        "colab": {
          "base_uri": "https://localhost:8080/"
        },
        "id": "2o0agFixNnk8",
        "outputId": "731e0fb2-8301-4264-8ef1-45c463306103"
      },
      "outputs": [
        {
          "name": "stdout",
          "output_type": "stream",
          "text": [
            "[2, 4, 6, 8, 10, 12, 14, 16, 18, 20, 22, 24, 26, 28, 30, 32, 34, 36, 38, 40, 42, 44, 46, 48, 50, 52, 54, 56, 58, 60, 62, 64, 66, 68, 70, 72, 74, 76, 78, 80, 82, 84, 86, 88, 90, 92, 94, 96, 98, 100]\n"
          ]
        }
      ],
      "source": [
        "# List comprehension to create a list from 1 to 100\n",
        "numbers = [x for x in range(1, 101)]\n",
        "\n",
        "# List comprehension to filter out odd numbers\n",
        "even_numbers = [x for x in numbers if x % 2 == 0]\n",
        "print(even_numbers)"
      ]
    }
  ],
  "metadata": {
    "colab": {
      "provenance": [],
      "toc_visible": true
    },
    "kernelspec": {
      "display_name": "Python 3",
      "name": "python3"
    },
    "language_info": {
      "name": "python"
    }
  },
  "nbformat": 4,
  "nbformat_minor": 0
}