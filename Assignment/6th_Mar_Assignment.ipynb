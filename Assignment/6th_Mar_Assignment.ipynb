{
  "cells": [
    {
      "attachments": {},
      "cell_type": "markdown",
      "metadata": {},
      "source": [
        "# Assignment - 6th March"
      ]
    },
    {
      "attachments": {},
      "cell_type": "markdown",
      "metadata": {
        "id": "bvdv-ZLLsm_V"
      },
      "source": [
        "1. What is Statistics?\n",
        "\n",
        "    Statistics is the science of **collecting**, **analyzing**, and **interpreting** data in order to make decisions or draw conclusions about a population based on a sample."
      ]
    },
    {
      "attachments": {},
      "cell_type": "markdown",
      "metadata": {
        "id": "nXDBerF_xfyk"
      },
      "source": [
        "2. Define the different types of statistics and give an example of when each type might be used.\n",
        "\n",
        "    There are two main types of statistics: \n",
        "* **Descriptive Statistics:**\n",
        "    * Summarize and describe the basic features of a data set.\n",
        "    * They provide information about the central tendency, variability, and distribution of the data.\n",
        "    * Descriptive statistics can be useful in identifying patterns and trends in the data, as well as any outliers or unusual observations.\n",
        "    * **Examples :** central tendency (such as the mean, median, and mode) and measures of variability (such as the range and standard deviation).\n",
        "\n",
        "* **Inferential Statistics:**\n",
        "    * Inferences and predictions about a population based on a sample of data.  \n",
        "    * They involve testing hypotheses and estimating parameters using sample data. \n",
        "    * Inferential statistics can be useful in generalizing findings from a sample to a larger population, or in testing whether a treatment or intervention has a significant effect. \n",
        "    * **Examples :** hypothesis testing(T-test, P-test, Chi-square test ...), confidence intervals, and regression analysis."
      ]
    },
    {
      "attachments": {},
      "cell_type": "markdown",
      "metadata": {
        "id": "1XmvptfFzTx_"
      },
      "source": [
        "3. What are the different types of data and how do they differ from each other? Provide an example of each type of data.\n",
        "\n",
        "    There are four main types of data: \n",
        "* **Nominal Scale :** This scale is used for categorical data where the values are not ordered or ranked. Examples include gender, race, or favorite color.\n",
        "\n",
        "* **Ordinal Scale :** This scale is used for data that can be ordered or ranked but the differences between the values are not necessarily equal. Examples include rating scales, such as a Likert scale where responses can range from \"strongly agree\" to \"strongly disagree.\"\n",
        "\n",
        "* **Interval Scale :** This scale is used for data where the differences between the values are equal, but there is no true zero point. Examples include temperature measurements in Celsius or Fahrenheit.\n",
        "\n",
        "* **Ratio Scale :** This scale is used for data where there is a true zero point, and the differences between the values are equal. Examples include height, weight, and time."
      ]
    },
    {
      "attachments": {},
      "cell_type": "markdown",
      "metadata": {
        "id": "bsOVhQvg19Nb"
      },
      "source": [
        "4. Categorise the following datasets with respect to quantitative and qualitative data types:\n",
        "\n",
        "    - **Grading in exam :** A+, A, B+, B, C+, C, D, E - This is a **qualitative** dataset as it consists of categories or labels for the different grades and cannot be quantified.\n",
        "\n",
        "    - **Colour of mangoes :** yellow, green, orange, red - This is a **qualitative** dataset as it consists of different categories of colors and cannot be quantified.\n",
        "\n",
        "    - **Height data of a class :** [178.9, 179, 179.5, 176, 177.2, 178.3, 175.8,...] - This is a **quantitative** dataset as it consists of numerical values that can be measured and quantified.\n",
        "\n",
        "    - **Number of mangoes exported by a farm :** [500, 600, 478, 672, ...] - This is a **quantitative** dataset as it consists of numerical values that can be measured and quantified."
      ]
    },
    {
      "attachments": {},
      "cell_type": "markdown",
      "metadata": {
        "id": "v7f3TGg52jp_"
      },
      "source": [
        "5. Explain the concept of levels of measurement and give an example of a variable for each level.\n",
        "\n",
        "    Levels of measurement, also known as scales of measurement, refer to the different ways in which variables can be measured or classified. There are four main levels of measurement: nominal, ordinal, interval, and ratio.\n",
        "\n",
        "* **Nominal Level :**\n",
        "    * Nominal level variables are categorical variables that can be placed into distinct categories but have no order or ranking. \n",
        "    * Often used to identify and classify objects or individuals. \n",
        "    * Examples:- gender, race, and type of car.\n",
        "\n",
        "* **Ordinal Level :**\n",
        "    * Ordinal level variables are categorical variables that can be placed into distinct categories and have a natural order or ranking. \n",
        "    * Often used to describe rankings or levels of a variable. \n",
        "    * Examples: letter grades (A, B, C, etc.), education level (high school, college, graduate), and levels of agreement (strongly agree, agree, neutral, disagree, strongly disagree).\n",
        "\n",
        "* **Interval Level :**\n",
        "    * Interval level variables are numerical variables that have a natural order and a consistent scale, but no true zero point. \n",
        "    * Often used to describe temperature, time, and other measurements that have no absolute zero. \n",
        "    * Examples: temperature (in Celsius or Fahrenheit), time (in hours or minutes), and standardized test scores.\n",
        "\n",
        "* **Ratio Level :**\n",
        "    * Ratio level variables are numerical variables that have a natural order, a consistent scale, and a true zero point. \n",
        "    * Often used to describe measurements that have a true zero point, such as height, weight, and income. \n",
        "    * Examples: height (in centimeters or inches), weight (in pounds or kilograms), and income (in dollars or euros)."
      ]
    },
    {
      "attachments": {},
      "cell_type": "markdown",
      "metadata": {
        "id": "WyUvS7-w4i0Y"
      },
      "source": [
        "6. Why is it important to understand the level of measurement when analyzing data? Provide an example to illustrate your answer.\n",
        "\n",
        "    It is important to understand the level of measurement when analyzing data because it determines the type of statistical analysis that can be used and the interpretation of the results. \n",
        "    \n",
        "    Different levels of measurement require different types of statistical analysis, and using the wrong type of analysis can lead to incorrect conclusions.\n",
        "\n",
        "    **For example**, if we have a nominal variable such as hair color, we cannot perform arithmetic operations on it or calculate meaningful measures of central tendency or variability. We can only calculate frequencies and proportions, and test for associations between this variable and other variables using non-parametric tests such as chi-square. However, if we have a ratio variable such as height, we can perform arithmetic operations such as addition, subtraction, multiplication, and division, and calculate meaningful measures of central tendency such as mean and variability such as standard deviation.\n",
        "\n",
        "    Therefore, understanding the level of measurement of a variable is crucial in selecting the appropriate statistical analysis method and correctly interpreting the results of data analysis."
      ]
    },
    {
      "attachments": {},
      "cell_type": "markdown",
      "metadata": {
        "id": "fxW_-yUi5LYe"
      },
      "source": [
        "7. How nominal data type is different from ordinal data type.\n",
        "\n",
        "|Nominal data|Ordinal data|\n",
        "|--|--|\n",
        "|Nominal data refers to data that can be organized into categories or groups that do not have any inherent order or ranking.|Ordinal data, like nominal data, refers to data that can be organized into categories or groups. However, the categories have an inherent order or ranking.|\n",
        "|Nominal data is qualitative data, meaning it is descriptive and cannot be measured or counted.|Ordinal data is also qualitative data, meaning it is descriptive and cannot be measured or counted.|\n",
        "|Nominal data is typically used for variables that have no numerical value or are difficult to quantify, such as gender, race, religion, or country of origin.|Ordinal data is typically used for variables that have a degree of intensity or preference, such as level of agreement, satisfaction, or quality.|\n",
        "|In nominal data, categories are usually represented by numbers, but these numbers do not have any mathematical significance. For example, in a survey, participants may be asked to choose a number to represent their favorite color, but the numbers do not indicate a specific order or ranking.|In ordinal data, categories are usually represented by numbers that have a specific order or ranking. For example, in a survey, participants may be asked to rate their level of satisfaction on a scale from 1 to 5, where 1 represents \"very dissatisfied\" and 5 represents \"very satisfied.\"|\n"
      ]
    },
    {
      "attachments": {},
      "cell_type": "markdown",
      "metadata": {
        "id": "F8Qy6tGV5dM6"
      },
      "source": [
        "8. Which type of plot can be used to display data in terms of range?\n",
        "\n",
        "    **Box plot :** A box plot can be used to display data in terms of range."
      ]
    },
    {
      "attachments": {},
      "cell_type": "markdown",
      "metadata": {
        "id": "Ahm9HVAZ5lui"
      },
      "source": [
        "9. Describe the difference between descriptive and inferential statistics. Give an example of each type of statistics and explain how they are used.\n",
        "\n",
        "|Descriptive statistics|Inferential statistics|\n",
        "|--|--|\n",
        "|Descriptive statistics is used to describe and summarize the characteristics of a sample or population.|Inferential statistics is used to make inferences or predictions about a population based on a sample of data.|\n",
        "|It involves the use of measures such as mean, median, mode, standard deviation, and range to summarize the data.|It involves the use of probability theory and statistical inference to draw conclusions about a population based on a sample.|\n",
        "|It provides a summary of the data in a way that is easily understandable and informative.|It provides a way to generalize the findings from a sample to the larger population.|\n",
        "|Descriptive statistics is used to identify patterns, trends, and relationships within the data.|Inferential statistics is used to test hypotheses, estimate parameters, and make predictions.|"
      ]
    },
    {
      "attachments": {},
      "cell_type": "markdown",
      "metadata": {
        "id": "VgS3Qqyh6AyX"
      },
      "source": [
        "10. What are some common measures of central tendency and variability used in statistics? Explain how each measure can be used to describe a dataset.\n",
        "\n",
        "    Measures of central tendency and variability are two important types of descriptive statistics used to summarize and describe a dataset.\n",
        "\n",
        "* **Measures of central tendency:**\n",
        "  - **Mean :** The mean is the sum of all values in a dataset divided by the total number of values. It is the most common measure of central tendency and is used to describe the typical value of a dataset.\n",
        "  \n",
        "  - **Median :** The median is the middle value in a dataset when the values are arranged in order. It is a robust measure of central tendency and is used to describe the center of a dataset when there are outliers or extreme values.\n",
        "  \n",
        "  - **Mode :** The mode is the most frequently occurring value in a dataset. It is used to describe the most common value or category in a dataset.\n",
        "\n",
        "* **Measures of variability:**\n",
        "    - **Range :** The range is the difference between the largest and smallest values in a dataset. It is used to describe the spread or dispersion of a dataset.\n",
        "\n",
        "    - **Variance :** The variance is the average of the squared deviations from the mean. It measures the spread of the data around the mean and is used to describe the variability of a dataset.\n",
        "    \n",
        "    - **Standard deviation :** The standard deviation is the square root of the variance. It is a more commonly used measure of variability than variance because it is in the same units as the original data. It is used to describe the spread or dispersion of a dataset around the mean.\n",
        "\n",
        "    These measures of central tendency and variability can be used together to provide a comprehensive description of a dataset. For example, the mean and standard deviation can be used to describe the typical value of a dataset and the amount of variation around the mean. The median and range can be used to describe the center and spread of a dataset when there are outliers or extreme values. The mode can be used to describe the most common value or category in a dataset."
      ]
    }
  ],
  "metadata": {
    "colab": {
      "authorship_tag": "ABX9TyO3kvSusvzCmubtPHPKRO5d",
      "include_colab_link": true,
      "provenance": []
    },
    "kernelspec": {
      "display_name": "Python 3",
      "name": "python3"
    },
    "language_info": {
      "name": "python"
    }
  },
  "nbformat": 4,
  "nbformat_minor": 0
}
