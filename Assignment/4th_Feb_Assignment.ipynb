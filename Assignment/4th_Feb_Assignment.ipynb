{
  "cells": [
    {
      "cell_type": "markdown",
      "id": "22e6b497-28d4-4ab2-9b67-6833c3579c79",
      "metadata": {
        "id": "22e6b497-28d4-4ab2-9b67-6833c3579c79"
      },
      "source": [
        "# Assignment - 4th Feb"
      ]
    },
    {
      "cell_type": "markdown",
      "id": "98098c58-1482-4cc1-9ed6-0adcc12d98d5",
      "metadata": {
        "id": "98098c58-1482-4cc1-9ed6-0adcc12d98d5"
      },
      "source": [
        "Q1. Create a python program to sort the given list of tuples based on integer value using a\n",
        "lambda function.\n",
        "[('Sachin Tendulkar', 34357), ('Ricky Ponting', 27483), ('Jack Kallis', 25534), ('Virat Kohli', 24936)]"
      ]
    },
    {
      "cell_type": "code",
      "execution_count": 1,
      "id": "aa3e85a0-e9ca-443a-b731-3b34e05a731c",
      "metadata": {
        "colab": {
          "base_uri": "https://localhost:8080/"
        },
        "id": "aa3e85a0-e9ca-443a-b731-3b34e05a731c",
        "outputId": "26ae0b13-e568-4430-d842-7cfb9f3c5b8d"
      },
      "outputs": [
        {
          "output_type": "stream",
          "name": "stdout",
          "text": [
            "[('Virat Kohli', 24936), ('Jack Kallis', 25534), ('Ricky Ponting', 27483), ('Sachin Tendulkar', 34357)]\n"
          ]
        }
      ],
      "source": [
        "l = [('Sachin Tendulkar', 34357), ('Ricky Ponting', 27483), ('Jack Kallis', 25534), ('Virat Kohli', 24936)]\n",
        "\n",
        "l1 = sorted(l,key=lambda x:x[1])\n",
        "print(l1)"
      ]
    },
    {
      "cell_type": "markdown",
      "source": [
        "Q2. Write a Python Program to find the squares of all the numbers in the given list of integers using\n",
        "lambda and map functions.\n",
        "[1, 2, 3, 4, 5, 6, 7, 8, 9, 10]"
      ],
      "metadata": {
        "id": "v4B-TQRJL9vq"
      },
      "id": "v4B-TQRJL9vq"
    },
    {
      "cell_type": "code",
      "execution_count": 2,
      "id": "e5a80986-33a4-4b53-ba8a-8e40a2867a41",
      "metadata": {
        "colab": {
          "base_uri": "https://localhost:8080/"
        },
        "id": "e5a80986-33a4-4b53-ba8a-8e40a2867a41",
        "outputId": "9cdbe298-8812-4dc9-9524-19cf01c7925e"
      },
      "outputs": [
        {
          "output_type": "execute_result",
          "data": {
            "text/plain": [
              "[1, 4, 9, 16, 25, 36, 49, 64, 81, 100]"
            ]
          },
          "metadata": {},
          "execution_count": 2
        }
      ],
      "source": [
        "l = [1,2,3,4,5,6,7,8,9,10]\n",
        "\n",
        "list(map(lambda x:x**2,l))"
      ]
    },
    {
      "cell_type": "markdown",
      "source": [
        "Q3. Write a python program to convert the given list of integers into a tuple of strings. Use map and\n",
        "lambda functions\n",
        "Given String: [1, 2, 3, 4, 5, 6, 7, 8, 9, 10]\n",
        "Expected output: ('1', '2', '3', '4', '5', '6', '7', '8', '9', '10')"
      ],
      "metadata": {
        "id": "_44gOU3OMDZz"
      },
      "id": "_44gOU3OMDZz"
    },
    {
      "cell_type": "code",
      "execution_count": 3,
      "id": "ce497b53-eabb-4914-837c-e7af0c5165b3",
      "metadata": {
        "colab": {
          "base_uri": "https://localhost:8080/"
        },
        "id": "ce497b53-eabb-4914-837c-e7af0c5165b3",
        "outputId": "de4ad52f-20b5-4ca4-83c5-5ae26c17311d"
      },
      "outputs": [
        {
          "output_type": "execute_result",
          "data": {
            "text/plain": [
              "('1', '2', '3', '4', '5', '6', '7', '8', '9', '10')"
            ]
          },
          "metadata": {},
          "execution_count": 3
        }
      ],
      "source": [
        "l = [1,2,3,4,5,6,7,8,9,10]\n",
        "\n",
        "tuple(map(lambda x:str(x),l))"
      ]
    },
    {
      "cell_type": "markdown",
      "source": [
        "Q4. Write a python program using reduce function to compute the product of a list containing numbers\n",
        "from 1 to 25."
      ],
      "metadata": {
        "id": "FbgibVJrMI7H"
      },
      "id": "FbgibVJrMI7H"
    },
    {
      "cell_type": "code",
      "execution_count": 4,
      "id": "3e0cc26f-f3f9-4ebc-ad0e-51241efa99a7",
      "metadata": {
        "colab": {
          "base_uri": "https://localhost:8080/"
        },
        "id": "3e0cc26f-f3f9-4ebc-ad0e-51241efa99a7",
        "outputId": "bd12a835-aee1-443c-fd9c-b20495ef0969"
      },
      "outputs": [
        {
          "output_type": "execute_result",
          "data": {
            "text/plain": [
              "15511210043330985984000000"
            ]
          },
          "metadata": {},
          "execution_count": 4
        }
      ],
      "source": [
        "from functools import reduce\n",
        "n = 25\n",
        "l = []\n",
        "for i in range(1,26):\n",
        "    l.append(i)\n",
        "reduce(lambda x,y:x*y,l)"
      ]
    },
    {
      "cell_type": "markdown",
      "source": [
        "Q5. Write a python program to filter the numbers in a given list that are divisible by 2 and 3 using the\n",
        "filter function.\n",
        "[2, 3, 6, 9, 27, 60, 90, 120, 55, 46]"
      ],
      "metadata": {
        "id": "vJ518RATMO3i"
      },
      "id": "vJ518RATMO3i"
    },
    {
      "cell_type": "code",
      "execution_count": 5,
      "id": "788c907a-60cf-4c8e-90a2-3265052f4128",
      "metadata": {
        "colab": {
          "base_uri": "https://localhost:8080/"
        },
        "id": "788c907a-60cf-4c8e-90a2-3265052f4128",
        "outputId": "03e4056e-0a32-4137-c4c0-0d150beba8a2"
      },
      "outputs": [
        {
          "output_type": "execute_result",
          "data": {
            "text/plain": [
              "[6, 60, 90, 120]"
            ]
          },
          "metadata": {},
          "execution_count": 5
        }
      ],
      "source": [
        "l = [2,3,6,9,27,60,90,120,55,46]\n",
        "\n",
        "list(filter(lambda x:x%2==0 and x%3==0,l))"
      ]
    },
    {
      "cell_type": "markdown",
      "source": [
        "Q6. Write a python program to find palindromes in the given list of strings using lambda and filter\n",
        "function.\n",
        "['python', 'php', 'aba', 'radar', 'level']"
      ],
      "metadata": {
        "id": "Qhrpe-2QMQ2W"
      },
      "id": "Qhrpe-2QMQ2W"
    },
    {
      "cell_type": "code",
      "execution_count": 6,
      "id": "ff6b7cca-8b44-4e42-a457-396b334c0c73",
      "metadata": {
        "colab": {
          "base_uri": "https://localhost:8080/"
        },
        "id": "ff6b7cca-8b44-4e42-a457-396b334c0c73",
        "outputId": "ffda1599-cdcc-4ef7-eab1-d133e0d96ae3"
      },
      "outputs": [
        {
          "output_type": "execute_result",
          "data": {
            "text/plain": [
              "['php', 'aba', 'radar', 'level']"
            ]
          },
          "metadata": {},
          "execution_count": 6
        }
      ],
      "source": [
        "l = ['python', 'php', 'aba', 'radar', 'level']\n",
        "\n",
        "def ispal(s):\n",
        "    if s==s[::-1]:\n",
        "        return True\n",
        "    return False\n",
        "\n",
        "list(filter(lambda x:ispal(x),l))"
      ]
    }
  ],
  "metadata": {
    "kernelspec": {
      "display_name": "Python 3 (ipykernel)",
      "language": "python",
      "name": "python3"
    },
    "language_info": {
      "codemirror_mode": {
        "name": "ipython",
        "version": 3
      },
      "file_extension": ".py",
      "mimetype": "text/x-python",
      "name": "python",
      "nbconvert_exporter": "python",
      "pygments_lexer": "ipython3",
      "version": "3.10.8"
    },
    "colab": {
      "provenance": []
    }
  },
  "nbformat": 4,
  "nbformat_minor": 5
}