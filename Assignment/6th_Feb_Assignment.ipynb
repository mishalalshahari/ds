{
  "nbformat": 4,
  "nbformat_minor": 0,
  "metadata": {
    "colab": {
      "provenance": []
    },
    "kernelspec": {
      "name": "python3",
      "display_name": "Python 3"
    },
    "language_info": {
      "name": "python"
    }
  },
  "cells": [
    {
      "cell_type": "markdown",
      "source": [
        "# Assignment - 6th February"
      ],
      "metadata": {
        "id": "U-7eHKST04fY"
      }
    },
    {
      "cell_type": "markdown",
      "source": [
        "Q1. Create a function which will take a list as an argument and return the product of all the numbers after creating a flat list.\n",
        "Use the below-given list as an argument for your function.\n",
        "list1 = [1,2,3,4, [44,55,66, True], False, (34,56,78,89,34), {1,2,3,3,2,1}, {1:34, \"key2\": [55, 67, 78, 89], 4: (45,22, 61, 34)}, [56, 'data science'], 'Machine Learning']\n",
        "Note: you must extract numeric keys and values of the dictionary also."
      ],
      "metadata": {
        "id": "tcSWpvDG09VO"
      }
    },
    {
      "cell_type": "code",
      "execution_count": 11,
      "metadata": {
        "colab": {
          "base_uri": "https://localhost:8080/"
        },
        "id": "np-mxEQw0wsa",
        "outputId": "5fc3f5cd-38e0-452d-a0f9-367775a71928"
      },
      "outputs": [
        {
          "output_type": "stream",
          "name": "stdout",
          "text": [
            "[1, 2, 3, 4, 44, 55, 66, True, False, 34, 56, 78, 89, 34, 1, 2, 3, 1, 34, 'key2', 55, 67, 78, 89, 4, 45, 22, 61, 34, 56, 'data science', 'Machine Learning']\n",
            "4134711838987085478833841242112000\n"
          ]
        }
      ],
      "source": [
        "def product_of_list(li):\n",
        "  flat_list = []\n",
        "  for x in li:\n",
        "    if type(x) == list or type(x) == set or type(x) == tuple:\n",
        "      for y in x:\n",
        "        flat_list.append(y)\n",
        "    elif type(x)==dict:\n",
        "      for i,j in x.items():\n",
        "        flat_list.append(i)\n",
        "        if type(j)==list or type(j) == set or type(j) == tuple:\n",
        "          flat_list+=list(j)\n",
        "        else: flat_list.append(j)\n",
        "    else: flat_list.append(x)\n",
        "\n",
        "  print(flat_list)\n",
        "\n",
        "  product=1\n",
        "  for i in flat_list:\n",
        "    if type(i)==int:\n",
        "      product=product*i\n",
        "\n",
        "  return product\n",
        "\n",
        "list1 = [1,2,3,4, [44,55,66, True], False, (34,56,78,89,34), {1,2,3,3,2,1}, {1:34, \"key2\": [55, 67, 78, 89], 4: (45,22, 61, 34)}, [56, 'data science'], 'Machine Learning']\n",
        "\n",
        "print(product_of_list(list1))"
      ]
    },
    {
      "cell_type": "markdown",
      "source": [
        "Q2. Write a python program for encrypting a message sent to you by your friend. The logic of encryption should be such that, for a the output should be z. For b, the output should be y. For c, the output should be x respectively. \n",
        "Also, the whitespace should be replaced with a dollar sign. Keep the punctuation marks unchanged.\n",
        "Input Sentence: I want to become a Data Scientist.\n",
        "Encrypt the above input sentence using the program you just created.\n",
        "Note: Convert the given input sentence into lowercase before encrypting. The final output should be lowercase."
      ],
      "metadata": {
        "id": "PYYEdwxm73yV"
      }
    },
    {
      "cell_type": "code",
      "source": [
        "def encry(s):\n",
        "  encrypted_s = \"\"\n",
        "  for x in s:\n",
        "    if x==' ':\n",
        "      encrypted_s+='$'\n",
        "    elif x.isalpha():\n",
        "      encrypted_s+=chr(122-ord(x.lower())+97)\n",
        "    else:\n",
        "      encrypted_s+=x;\n",
        "  return encrypted_s\n",
        "\n",
        "s = \"I want to become a Data Scientist.\"\n",
        "print(encry(s))"
      ],
      "metadata": {
        "colab": {
          "base_uri": "https://localhost:8080/"
        },
        "id": "C7_-nHio49ot",
        "outputId": "54e52168-bd0a-4e5a-93a9-d49cc64b128a"
      },
      "execution_count": 13,
      "outputs": [
        {
          "output_type": "stream",
          "name": "stdout",
          "text": [
            "r$dzmg$gl$yvxlnv$z$wzgz$hxrvmgrhg.\n"
          ]
        }
      ]
    }
  ]
}