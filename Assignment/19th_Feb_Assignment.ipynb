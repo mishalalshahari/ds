{
  "cells": [
    {
      "cell_type": "markdown",
      "metadata": {
        "id": "_Q73ti_AWe2B"
      },
      "source": [
        "# Assignment - 19th February"
      ]
    },
    {
      "cell_type": "markdown",
      "metadata": {
        "id": "ysj8LHcHWDEw"
      },
      "source": [
        "### Q1. What is Flask Framework? What are the advantages of Flask Framework?\n",
        "\n",
        "* Flask is a web development framework developed in Python. It is easy to learn and use. Flask is “beginner-friendly” because it does not have boilerplate code or dependencies, which can distract from the primary function of an application.\n",
        "\n",
        "* Flask provides a development server and a debugger.\n",
        "* It uses Jinja2 templates.\n",
        "* It is compliant with WSGI 1.0.\n",
        "* It provides integrated support for unit testing.\n",
        "* Many extensions are available for Flask, which can be used to enhance its functionalities.\n",
        "\n",
        "* ADVANTAGES : -\n",
        "1. Scalable\n",
        "2. Flexible\n",
        "3. Easy to negotiate\n",
        "4. Lightweight\n",
        "5. Documentation"
      ]
    },
    {
      "cell_type": "markdown",
      "metadata": {
        "id": "MRDVHPBXWDE0"
      },
      "source": [
        "### Q2. Create a simple Flask application to display ‘Hello World!!’. Attach the screenshot of the output in Jupyter Notebook."
      ]
    },
    {
      "cell_type": "code",
      "execution_count": null,
      "metadata": {
        "id": "lVv9BDzyWDE1",
        "outputId": "b3edc105-b5e2-470d-c4fc-82f8207cd65f"
      },
      "outputs": [
        {
          "name": "stdout",
          "output_type": "stream",
          "text": [
            "Requirement already satisfied: flask in c:\\users\\hp\\miniconda3\\lib\\site-packages (2.2.2)\n",
            "Requirement already satisfied: itsdangerous>=2.0 in c:\\users\\hp\\miniconda3\\lib\\site-packages (from flask) (2.1.2)\n",
            "Requirement already satisfied: Werkzeug>=2.2.2 in c:\\users\\hp\\miniconda3\\lib\\site-packages (from flask) (2.2.2)\n",
            "Requirement already satisfied: Jinja2>=3.0 in c:\\users\\hp\\miniconda3\\lib\\site-packages (from flask) (3.1.2)\n",
            "Requirement already satisfied: importlib-metadata>=3.6.0 in c:\\users\\hp\\miniconda3\\lib\\site-packages (from flask) (6.0.0)\n",
            "Requirement already satisfied: click>=8.0 in c:\\users\\hp\\miniconda3\\lib\\site-packages (from flask) (8.1.3)\n",
            "Requirement already satisfied: colorama in c:\\users\\hp\\miniconda3\\lib\\site-packages (from click>=8.0->flask) (0.4.4)\n",
            "Requirement already satisfied: zipp>=0.5 in c:\\users\\hp\\miniconda3\\lib\\site-packages (from importlib-metadata>=3.6.0->flask) (3.14.0)\n",
            "Requirement already satisfied: MarkupSafe>=2.0 in c:\\users\\hp\\miniconda3\\lib\\site-packages (from Jinja2>=3.0->flask) (2.1.1)\n",
            "Note: you may need to restart the kernel to use updated packages.\n"
          ]
        }
      ],
      "source": [
        "pip install flask"
      ]
    },
    {
      "cell_type": "code",
      "execution_count": null,
      "metadata": {
        "id": "lX5q9KYgWDE3"
      },
      "outputs": [],
      "source": [
        "from flask import Flask\n",
        "app = Flask(__name__)"
      ]
    },
    {
      "cell_type": "code",
      "execution_count": null,
      "metadata": {
        "id": "mcJqMadOWDE4",
        "outputId": "6d875fa8-6760-42c9-d1e2-2d8a68d71f5c"
      },
      "outputs": [
        {
          "name": "stdout",
          "output_type": "stream",
          "text": [
            " * Serving Flask app '__main__'\n",
            " * Debug mode: off\n"
          ]
        },
        {
          "name": "stderr",
          "output_type": "stream",
          "text": [
            "WARNING: This is a development server. Do not use it in a production deployment. Use a production WSGI server instead.\n",
            " * Running on all addresses (0.0.0.0)\n",
            " * Running on http://127.0.0.1:5000\n",
            " * Running on http://192.168.215.183:5000\n",
            "Press CTRL+C to quit\n"
          ]
        }
      ],
      "source": [
        "@app.route(\"/\")\n",
        "def hello_world():\n",
        "    return \"<h1>Hello, World!</h1>\"\n",
        "\n",
        "if __name__==\"__main__\":\n",
        "    app.run(host=\"0.0.0.0\")"
      ]
    },
    {
      "cell_type": "markdown",
      "metadata": {
        "id": "IHeU5YSTWDE4"
      },
      "source": [
        "![image.png](attachment:image.png)"
      ]
    },
    {
      "cell_type": "markdown",
      "metadata": {
        "id": "uyUYF-8_WDE5"
      },
      "source": [
        "### Q3. What is App routing in Flask? Why do we use app routes?\n",
        "* App Routing means mapping the URLs to a specific function that will handle the logic for that URL. Modern web frameworks use more meaningful URLs to help users remember the URLs and make navigation simpler. \n",
        "\n",
        "Example: In our application, the URL (“/”) is associated with the root URL."
      ]
    },
    {
      "cell_type": "markdown",
      "metadata": {
        "id": "Cz2f_Eu-WDE5"
      },
      "source": [
        "### Q4. Create a “/welcome” route to display the welcome message “Welcome to ABC Corporation” and a “/” route to show the following details:\n",
        "* Company Name: ABC Corporation\n",
        "* Location: India\n",
        "* Contact Detail: 999-999-9999"
      ]
    },
    {
      "cell_type": "code",
      "execution_count": null,
      "metadata": {
        "id": "fsKWE94mWDE5",
        "outputId": "bfe63968-8d08-4a86-f380-df647a427f78"
      },
      "outputs": [
        {
          "name": "stdout",
          "output_type": "stream",
          "text": [
            " * Serving Flask app '__main__'\n",
            " * Debug mode: off\n"
          ]
        },
        {
          "name": "stderr",
          "output_type": "stream",
          "text": [
            "WARNING: This is a development server. Do not use it in a production deployment. Use a production WSGI server instead.\n",
            " * Running on all addresses (0.0.0.0)\n",
            " * Running on http://127.0.0.1:5000\n",
            " * Running on http://192.168.215.183:5000\n",
            "Press CTRL+C to quit\n"
          ]
        }
      ],
      "source": [
        "\n",
        "app = Flask(__name__)\n",
        "\n",
        "@app.route(\"/\")\n",
        "def hello_world():\n",
        "    return \"Company name : ABC Corporation \\n Location : India \\n Contact : 999-999-9999\"\n",
        "\n",
        "@app.route(\"/welcome\")\n",
        "def wel():\n",
        "    return \"<h1>Welcome to ABC Corporation</h1>\"\n",
        "    \n",
        "if __name__==\"__main__\":\n",
        "    app.run(host=\"0.0.0.0\")"
      ]
    },
    {
      "cell_type": "markdown",
      "metadata": {
        "id": "KwqVI93EWDE6"
      },
      "source": [
        "### Q5. What function is used in Flask for URL Building? Write a Python code to demonstrate the working of the url_for() function.\n",
        "* The url_for() function is used to build a URL to the specific function dynamically. The first argument is the name of the specified function, and then we can pass any number of keyword argument corresponding to the variable part of the URL.\n",
        "\n",
        "* This function is useful in the sense that we can avoid hard-coding the URLs into the templates by dynamically building them using this function.\n",
        "```\n",
        "from flask import redirect , url_for\n",
        "@app.route('/admin')  \n",
        "def admin():  \n",
        "    return 'admin'  \n",
        "  \n",
        "@app.route('/librarion')  \n",
        "def librarion():  \n",
        "    return 'librarion'  \n",
        "  \n",
        "@app.route('/student')  \n",
        "def student():  \n",
        "    return 'student'  \n",
        "  \n",
        "@app.route('/user/<name>')  \n",
        "def user(name):  \n",
        "    if name == 'admin':  \n",
        "        return redirect(url_for('admin'))  \n",
        "    if name == 'librarion':  \n",
        "        return redirect(url_for('librarion'))  \n",
        "    if name == 'student':  \n",
        "        return redirect(url_for('student'))  \n",
        "if __name__ =='__main__':  \n",
        "    app.run(debug = True)\n",
        "\n",
        "```\n",
        "* the library management system which can be used by the three types of users, i.e., admin, librarion, and student. There is a specific function named user() which recognizes the user the redirect the user to the exact function which contains the implementation for this particular function."
      ]
    }
  ],
  "metadata": {
    "colab": {
      "provenance": []
    },
    "kernelspec": {
      "display_name": "base",
      "language": "python",
      "name": "python3"
    },
    "language_info": {
      "codemirror_mode": {
        "name": "ipython",
        "version": 3
      },
      "file_extension": ".py",
      "mimetype": "text/x-python",
      "name": "python",
      "nbconvert_exporter": "python",
      "pygments_lexer": "ipython3",
      "version": "3.9.12"
    },
    "orig_nbformat": 4,
    "vscode": {
      "interpreter": {
        "hash": "9d19b846c981df6691e2bdb59be634a7ebbdaac55797ba17323322a2d3a54045"
      }
    }
  },
  "nbformat": 4,
  "nbformat_minor": 0
}
