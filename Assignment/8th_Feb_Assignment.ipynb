{
  "nbformat": 4,
  "nbformat_minor": 0,
  "metadata": {
    "colab": {
      "provenance": []
    },
    "kernelspec": {
      "name": "python3",
      "display_name": "Python 3"
    },
    "language_info": {
      "name": "python"
    }
  },
  "cells": [
    {
      "cell_type": "markdown",
      "source": [
        "# Assignment - 8th February"
      ],
      "metadata": {
        "id": "DkbEZ-56RfRy"
      }
    },
    {
      "cell_type": "markdown",
      "source": [
        "Q1. What is Abstraction in OOps? Explain with an example."
      ],
      "metadata": {
        "id": "mGGnqF2KSW_l"
      }
    },
    {
      "cell_type": "markdown",
      "source": [
        "Abstraction is one of the core principles of Object-Oriented Programming (OOPs) which refers to the concept of hiding unnecessary implementation details and exposing only the essential features of an object to the outside world. It provides a way to create complex systems by breaking them down into smaller, more manageable components.\n",
        "e.g. A remote control allows us to interact with a TV without worrying about the internal mechanisms of the TV. The remote control abstracts away the technical details of the TV and presents only the necessary controls, such as volume, channel, power on/off, etc."
      ],
      "metadata": {
        "id": "hxVxwM9XSoWl"
      }
    },
    {
      "cell_type": "markdown",
      "source": [
        "Q2. Differentiate between Abstraction and Encapsulation. Explain with an example."
      ],
      "metadata": {
        "id": "qRFxmrRzSyhp"
      }
    },
    {
      "cell_type": "markdown",
      "source": [
        "Abstraction is the process of hiding unnecessary implementation details and exposing only the essential features of an object to the outside world. It allows developers to focus on what an object does rather than how it does it, and provides a way to create complex systems by breaking them down into smaller, more manageable components.\n",
        "\n",
        "Encapsulation, on the other hand, is the process of hiding an object's data and implementation details from the outside world and providing access to it only through a set of public methods. It helps to maintain data integrity and prevents the unauthorized modification of data by external entities."
      ],
      "metadata": {
        "id": "edPcwMZxS293"
      }
    },
    {
      "cell_type": "markdown",
      "source": [
        "Q3. What is abc module in python? Why is it used?"
      ],
      "metadata": {
        "id": "RTAIkD4STCsR"
      }
    },
    {
      "cell_type": "markdown",
      "source": [
        "abc module stands for \"Abstract Base Classes\". It is a module that provides a way to define abstract base classes in Python. An abstract base class is a class that cannot be instantiated directly and is designed to serve as a base for subclasses that provide concrete implementations. It defines a blueprint for a family of classes, but it does not provide the full implementation.\n",
        "\n",
        "The abc module is used to create abstract base classes and to define abstract methods. "
      ],
      "metadata": {
        "id": "clUUjf2JTF5d"
      }
    },
    {
      "cell_type": "markdown",
      "source": [
        "Q4. How can we achieve data abstraction?"
      ],
      "metadata": {
        "id": "Fun7mI96Tdzr"
      }
    },
    {
      "cell_type": "markdown",
      "source": [
        "In order to achieve data abstraction, we can use the following techniques:\n",
        "1. Encapsulation\n",
        "2. Abstract classes and interfaces\n",
        "3. Inheritance"
      ],
      "metadata": {
        "id": "CLjlrWGxTgJL"
      }
    },
    {
      "cell_type": "markdown",
      "source": [
        "Q5. Can we create an instance of an abstract class? Explain your answer."
      ],
      "metadata": {
        "id": "xF7VniABT7ey"
      }
    },
    {
      "cell_type": "markdown",
      "source": [
        "No, we cannot create an instance of an abstract class in Python. An abstract class is a class that is not meant to be instantiated directly, but instead serves as a blueprint for other classes to inherit from. It defines a set of methods that the implementing classes must override, but does not provide any implementation details for those methods."
      ],
      "metadata": {
        "id": "Fw9D4kj1T9_P"
      }
    }
  ]
}