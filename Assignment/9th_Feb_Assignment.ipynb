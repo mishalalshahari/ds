{
  "nbformat": 4,
  "nbformat_minor": 0,
  "metadata": {
    "colab": {
      "provenance": []
    },
    "kernelspec": {
      "name": "python3",
      "display_name": "Python 3"
    },
    "language_info": {
      "name": "python"
    }
  },
  "cells": [
    {
      "cell_type": "markdown",
      "source": [
        "# Assignment - 9th February"
      ],
      "metadata": {
        "id": "DkbEZ-56RfRy"
      }
    },
    {
      "cell_type": "markdown",
      "source": [
        "Q1. Create a vehicle class with an init method having instance variables as name_of_vehicle, max_speed\n",
        "and average_of_vehicle."
      ],
      "metadata": {
        "id": "E79TpMkTUt0g"
      }
    },
    {
      "cell_type": "code",
      "source": [
        "class vehicle:\n",
        "  def __init__(self,name_of_vehicle,max_speed,average_of_vehicle):\n",
        "    self.name_of_vehicle = name_of_vehicle\n",
        "    self.max_speed = max_speed\n",
        "    self.average_of_vehicle = average_of_vehicle"
      ],
      "metadata": {
        "id": "fQfMwatSUs5m"
      },
      "execution_count": 12,
      "outputs": []
    },
    {
      "cell_type": "markdown",
      "source": [
        "Q2. Create a child class car from the vehicle class created in Que 1, which will inherit the vehicle class.\n",
        "Create a method named seating_capacity which takes capacity as an argument and returns the name of\n",
        "the vehicle and its seating capacity."
      ],
      "metadata": {
        "id": "OYYSrD3JVQOY"
      }
    },
    {
      "cell_type": "code",
      "source": [
        "class car(vehicle):\n",
        "  def seating_capacity(self,capacity):\n",
        "    return name_of_vehicle,self.capacity"
      ],
      "metadata": {
        "id": "VWbU816TVNdV"
      },
      "execution_count": 14,
      "outputs": []
    },
    {
      "cell_type": "markdown",
      "source": [
        "Q3. What is multiple inheritance? Write a python code to demonstrate multiple inheritance."
      ],
      "metadata": {
        "id": "v8-fQk1RV6WE"
      }
    },
    {
      "cell_type": "markdown",
      "source": [
        "Multiple inheritance type of inheritance where a class can inherit attributes and methods from multiple parent classes."
      ],
      "metadata": {
        "id": "XgzlatbWV97t"
      }
    },
    {
      "cell_type": "code",
      "source": [
        "class A:\n",
        "    def method_a(self):\n",
        "        print(\"This is method A\")\n",
        "\n",
        "class B:\n",
        "    def method_b(self):\n",
        "        print(\"This is method B\")\n",
        "\n",
        "class C(A, B):\n",
        "    def method_c(self):\n",
        "        print(\"This is method C\")\n",
        "\n",
        "c = C()\n",
        "c.method_a()\n",
        "c.method_b()\n",
        "c.method_c()"
      ],
      "metadata": {
        "colab": {
          "base_uri": "https://localhost:8080/"
        },
        "id": "S2w0nj-1V3hK",
        "outputId": "24df6775-5d3e-4615-81a3-7b2b871974e3"
      },
      "execution_count": 15,
      "outputs": [
        {
          "output_type": "stream",
          "name": "stdout",
          "text": [
            "This is method A\n",
            "This is method B\n",
            "This is method C\n"
          ]
        }
      ]
    },
    {
      "cell_type": "markdown",
      "source": [
        "Q4. What are getter and setter in python? Create a class and create a getter and a setter method in this\n",
        "class."
      ],
      "metadata": {
        "id": "qzq8w08oWafx"
      }
    },
    {
      "cell_type": "markdown",
      "source": [
        "getter method is used to retrieve the value of an attribute of a class, while a setter method is used to set the value of an attribute."
      ],
      "metadata": {
        "id": "03eSzfTEWbqd"
      }
    },
    {
      "cell_type": "code",
      "source": [
        "class car:\n",
        "    def __init__(self,year,model,speed):\n",
        "        self.__year = year\n",
        "        self.__model = model\n",
        "        self.__speed = 0\n",
        "        \n",
        "    def set_speed(self,speed):\n",
        "        self.__speed = 0 if speed<0 else speed\n",
        "        \n",
        "    def get_speed(self):\n",
        "        return self.__speed"
      ],
      "metadata": {
        "id": "RMVhm2G1WWwO"
      },
      "execution_count": 16,
      "outputs": []
    },
    {
      "cell_type": "markdown",
      "source": [
        "Q5.What is method overriding in python? Write a python code to demonstrate method overriding."
      ],
      "metadata": {
        "id": "EmJnyn0aXAee"
      }
    },
    {
      "cell_type": "markdown",
      "source": [
        "Method overriding is a feature in object-oriented programming where a subclass can define a method with the same name as a method in its superclass. "
      ],
      "metadata": {
        "id": "06M4aNHdXDhi"
      }
    },
    {
      "cell_type": "code",
      "source": [
        "class Animal:\n",
        "    def make_sound(self):\n",
        "        print(\"The animal makes a sound\")\n",
        "\n",
        "class Dog(Animal):\n",
        "    def make_sound(self):\n",
        "        print(\"The dog barks\")\n",
        "\n",
        "class Cat(Animal):\n",
        "    def make_sound(self):\n",
        "        print(\"The cat meows\")\n",
        "\n",
        "# Create instances of the classes\n",
        "animal = Animal()\n",
        "dog = Dog()\n",
        "cat = Cat()\n",
        "\n",
        "# Call the make_sound() method on each instance\n",
        "animal.make_sound()  # The animal makes a sound\n",
        "dog.make_sound()  # The dog barks\n",
        "cat.make_sound()  # The cat meows\n"
      ],
      "metadata": {
        "colab": {
          "base_uri": "https://localhost:8080/"
        },
        "id": "dIFARIARVwvz",
        "outputId": "d13ca839-e4fe-4d32-d2f1-134f47da332f"
      },
      "execution_count": 17,
      "outputs": [
        {
          "output_type": "stream",
          "name": "stdout",
          "text": [
            "The animal makes a sound\n",
            "The dog barks\n",
            "The cat meows\n"
          ]
        }
      ]
    }
  ]
}